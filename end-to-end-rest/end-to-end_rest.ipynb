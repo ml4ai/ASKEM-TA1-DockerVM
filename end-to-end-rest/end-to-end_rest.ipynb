{
 "cells": [
  {
   "cell_type": "markdown",
   "id": "2c62085a",
   "metadata": {},
   "source": [
    "# SKEMA Architecture #\n",
    "- Host = http://127.0.0.1\n",
    "- img2mml port = 8020\n",
    "- latex2mml port = 8030"
   ]
  },
  {
   "cell_type": "code",
   "execution_count": null,
   "id": "a6443b0c",
   "metadata": {},
   "outputs": [],
   "source": [
    "!docker-compose pull && docker-compose up -d"
   ]
  },
  {
   "cell_type": "code",
   "execution_count": null,
   "id": "1e6fc894",
   "metadata": {
    "scrolled": true
   },
   "outputs": [],
   "source": [
    "!curl http://127.0.0.1:8030/ping"
   ]
  },
  {
   "cell_type": "code",
   "execution_count": null,
   "id": "d96aac74",
   "metadata": {},
   "outputs": [],
   "source": [
    "!curl http://127.0.0.1:8020/ping"
   ]
  },
  {
   "cell_type": "code",
   "execution_count": null,
   "id": "3352a19b",
   "metadata": {},
   "outputs": [],
   "source": []
  }
 ],
 "metadata": {
  "kernelspec": {
   "display_name": "Python 3 (ipykernel)",
   "language": "python",
   "name": "python3"
  },
  "language_info": {
   "codemirror_mode": {
    "name": "ipython",
    "version": 3
   },
   "file_extension": ".py",
   "mimetype": "text/x-python",
   "name": "python",
   "nbconvert_exporter": "python",
   "pygments_lexer": "ipython3",
   "version": "3.8.10"
  }
 },
 "nbformat": 4,
 "nbformat_minor": 5
}
