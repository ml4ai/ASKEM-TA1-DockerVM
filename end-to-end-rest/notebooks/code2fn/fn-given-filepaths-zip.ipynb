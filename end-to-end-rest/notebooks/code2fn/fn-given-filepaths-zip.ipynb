{
 "cells": [
  {
   "cell_type": "code",
   "execution_count": 25,
   "id": "9aab32b0",
   "metadata": {},
   "outputs": [],
   "source": [
    "import requests\n",
    "from fastapi import UploadFile\n",
    "from skema.program_analysis.JSON2GroMEt.json2gromet import json_to_gromet"
   ]
  },
  {
   "cell_type": "markdown",
   "id": "128de60e",
   "metadata": {},
   "source": [
    "## Generate endpoint URL"
   ]
  },
  {
   "cell_type": "code",
   "execution_count": 26,
   "id": "32e4ff1f",
   "metadata": {},
   "outputs": [],
   "source": [
    "HOST = \"127.0.0.1\"\n",
    "PORT = \"8000\"\n",
    "PROTOCOL = \"http\"\n",
    "ROOT = \"/fn-given-filepaths-zip\"\n",
    "URL = f\"{PROTOCOL}://{HOST}:{PORT}{ROOT}\""
   ]
  },
  {
   "cell_type": "markdown",
   "id": "ffc19500",
   "metadata": {},
   "source": [
    "## Process a zip file"
   ]
  },
  {
   "cell_type": "code",
   "execution_count": 27,
   "id": "45d9a2de",
   "metadata": {},
   "outputs": [],
   "source": [
    "file = {\n",
    "    \"zip_file\":open(\"system_test.zip\", \"rb\")\n",
    "}\n",
    "response_zip = requests.post(URL, files=file)"
   ]
  },
  {
   "cell_type": "markdown",
   "id": "de5a1478",
   "metadata": {},
   "source": [
    "## Write output JSON to file"
   ]
  },
  {
   "cell_type": "code",
   "execution_count": 29,
   "id": "82b2d972",
   "metadata": {},
   "outputs": [],
   "source": [
    "with open(\"system_test--Gromet-FN-auto.json\", \"w\") as f:\n",
    "    f.write(response_zip.json())"
   ]
  },
  {
   "cell_type": "markdown",
   "id": "12b465d5",
   "metadata": {},
   "source": [
    "## Import Gromet JSON"
   ]
  },
  {
   "cell_type": "code",
   "execution_count": 30,
   "id": "1ffc4954",
   "metadata": {},
   "outputs": [],
   "source": [
    "gromet_module_collection = json_to_gromet(\"system_test--Gromet-FN-auto.json\")"
   ]
  }
 ],
 "metadata": {
  "kernelspec": {
   "display_name": "Python 3 (ipykernel)",
   "language": "python",
   "name": "python3"
  },
  "language_info": {
   "codemirror_mode": {
    "name": "ipython",
    "version": 3
   },
   "file_extension": ".py",
   "mimetype": "text/x-python",
   "name": "python",
   "nbconvert_exporter": "python",
   "pygments_lexer": "ipython3",
   "version": "3.11.1"
  }
 },
 "nbformat": 4,
 "nbformat_minor": 5
}
