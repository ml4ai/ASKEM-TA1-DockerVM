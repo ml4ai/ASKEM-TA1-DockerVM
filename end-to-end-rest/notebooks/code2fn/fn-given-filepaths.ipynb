{
 "cells": [
  {
   "cell_type": "code",
   "execution_count": 28,
   "id": "1395011d",
   "metadata": {},
   "outputs": [],
   "source": [
    "import requests\n",
    "from pathlib import Path\n",
    "from typing import Dict\n",
    "from skema.program_analysis.JSON2GroMEt.json2gromet import json_to_gromet"
   ]
  },
  {
   "cell_type": "markdown",
   "id": "32e3d53c",
   "metadata": {},
   "source": [
    "## Generate endpoint URL"
   ]
  },
  {
   "cell_type": "code",
   "execution_count": 29,
   "id": "76c4cd20",
   "metadata": {},
   "outputs": [],
   "source": [
    "HOST = \"127.0.0.1\"\n",
    "PORT = \"8000\"\n",
    "PROTOCOL = \"http\"\n",
    "ROOT = \"/fn-given-filepaths\"\n",
    "URL = f\"{PROTOCOL}://{HOST}:{PORT}{ROOT}\""
   ]
  },
  {
   "cell_type": "markdown",
   "id": "097d0a2a",
   "metadata": {},
   "source": [
    "## Process a single file "
   ]
  },
  {
   "cell_type": "code",
   "execution_count": 30,
   "id": "5830d297",
   "metadata": {},
   "outputs": [],
   "source": [
    "post_data = {\n",
    "    \"files\":[\"exp0.py\"],\n",
    "    \"blobs\":[\"x=2\"],\n"
    "}\n",
    "\n",
    "response_single = requests.post(URL, json=post_data)"
   ]
  },
  {
   "cell_type": "markdown",
   "id": "a72c5e83",
   "metadata": {},
   "source": [
    "## Process a system"
   ]
  },
  {
   "cell_type": "code",
   "execution_count": 31,
   "id": "082f5781",
   "metadata": {},
   "outputs": [],
   "source": [
    "def system_to_json(\n",
    "    root: Path, system_filepaths: Path, system_name: str\n",
    ") -> Dict:\n",
    "    supported_extensions = [\".py\", \".F\", \".f95\"]\n",
    "    files = []\n",
    "    blobs = []\n",
    "    for file in system_filepaths.read_text().split(\"\\n\"):\n",
    "        path_obj = Path(root, file)\n",
    "        if path_obj.suffix in supported_extensions:\n",
    "            files.append(file)\n",
    "            blobs.append(path_obj.read_text())\n",
    "\n",
    "    return {\n",
    "            \"files\": files,\n",
    "            \"blobs\": blobs,\n",
    "            \"system_name\": system_name,\n",
    "            \"root_name\": root.stem\n",
    "    }\n",
    "\n",
    "\n",
    "post_data = system_to_json(Path(\"system_test\"), Path(\"system_test/system_filepaths.txt\"), \"system_test\")\n",
    "response_multi = requests.post(URL, json=post_data)"
   ]
  },
  {
   "cell_type": "markdown",
   "id": "0fcfe8ef",
   "metadata": {},
   "source": [
    "## Write output JSON to file"
   ]
  },
  {
   "cell_type": "code",
   "execution_count": 32,
   "id": "42a27b19",
   "metadata": {},
   "outputs": [],
   "source": [
    "with open(\"exp0--Gromet-FN-auto.json\", \"w\") as f:\n",
    "    f.write(response_single.json())"
   ]
  },
  {
   "cell_type": "markdown",
   "id": "987fbab0",
   "metadata": {},
   "source": [
    "## Import Gromet JSON"
   ]
  },
  {
   "cell_type": "code",
   "execution_count": 33,
   "id": "873abd6f",
   "metadata": {},
   "outputs": [],
   "source": [
    "gromet_module_collection = json_to_gromet(\"exp0--Gromet-FN-auto.json\")"
   ]
  }
 ],
 "metadata": {
  "kernelspec": {
   "display_name": "Python 3 (ipykernel)",
   "language": "python",
   "name": "python3"
  },
  "language_info": {
   "codemirror_mode": {
    "name": "ipython",
    "version": 3
   },
   "file_extension": ".py",
   "mimetype": "text/x-python",
   "name": "python",
   "nbconvert_exporter": "python",
   "pygments_lexer": "ipython3",
   "version": "3.11.1"
  }
 },
 "nbformat": 4,
 "nbformat_minor": 5
}
