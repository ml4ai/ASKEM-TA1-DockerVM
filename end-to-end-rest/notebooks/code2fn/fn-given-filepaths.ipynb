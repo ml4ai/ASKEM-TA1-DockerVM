{
 "cells": [
  {
   "cell_type": "code",
   "execution_count": 1,
   "id": "1395011d",
   "metadata": {},
   "outputs": [],
   "source": [
    "import requests\n",
    "import os\n",
    "import json\n",
    "from pathlib import Path\n",
    "from typing import Dict\n",
    "from skema.program_analysis.JSON2GroMEt.json2gromet import json_to_gromet"
   ]
  },
  {
   "cell_type": "markdown",
   "id": "32e3d53c",
   "metadata": {},
   "source": [
    "## Generate endpoint URL"
   ]
  },
  {
   "cell_type": "code",
   "execution_count": 2,
   "id": "76c4cd20",
   "metadata": {},
   "outputs": [],
   "source": [
    "SKEMA_ADDRESS = os.environ.get(\"SKEMA_ADDRESS\", \"http://skema-py:8000\")\n",
    "URL = f\"{SKEMA_ADDRESS}/code2fn/fn-given-filepaths\""
   ]
  },
  {
   "cell_type": "markdown",
   "id": "097d0a2a",
   "metadata": {},
   "source": [
    "## Process a single file "
   ]
  },
  {
   "cell_type": "code",
   "execution_count": 3,
   "id": "5830d297",
   "metadata": {},
   "outputs": [
    {
     "name": "stdout",
     "output_type": "stream",
     "text": [
      "{'schema': 'FN', 'schema_version': '0.1.7', 'name': '', 'modules': [{'schema': 'FN', 'schema_version': '0.1.7', 'name': 'exp0', 'fn': {'name': None, 'b': [{'function_type': 'MODULE', 'body': None, 'import_type': None, 'import_version': None, 'import_source': None, 'source_language': None, 'source_language_version': None, 'value': None, 'gromet_type': 'GrometBoxFunction', 'name': 'module', 'metadata': 3}], 'opi': None, 'opo': None, 'wopio': None, 'bf': [{'function_type': 'EXPRESSION', 'body': 1, 'import_type': None, 'import_version': None, 'import_source': None, 'source_language': None, 'source_language_version': None, 'value': None, 'gromet_type': 'GrometBoxFunction', 'name': None, 'metadata': 5}], 'pif': None, 'pof': [{'id': 1, 'name': 'x', 'box': 1, 'default_value': None, 'gromet_type': 'GrometPort', 'metadata': None}], 'wfopi': None, 'wfl': None, 'wff': None, 'wfc': None, 'wfopo': None, 'bl': None, 'pil': None, 'pol': None, 'wlopi': None, 'wll': None, 'wlf': None, 'wlc': None, 'wlopo': None, 'bc': None, 'pic': None, 'poc': None, 'wcopi': None, 'wcl': None, 'wcf': None, 'wcc': None, 'wcopo': None, 'gromet_type': 'GrometFN', 'metadata': None}, 'fn_array': [{'name': None, 'b': [{'function_type': 'EXPRESSION', 'body': None, 'import_type': None, 'import_version': None, 'import_source': None, 'source_language': None, 'source_language_version': None, 'value': None, 'gromet_type': 'GrometBoxFunction', 'name': None, 'metadata': None}], 'opi': None, 'opo': [{'id': 1, 'name': None, 'box': 1, 'default_value': None, 'gromet_type': 'GrometPort', 'metadata': None}], 'wopio': None, 'bf': [{'function_type': 'LITERAL', 'body': None, 'import_type': None, 'import_version': None, 'import_source': None, 'source_language': None, 'source_language_version': None, 'value': {'value_type': 'Integer', 'value': 2, 'source_fn': None, 'import_type': None, 'import_version': None, 'import_source': None, 'source_language': None, 'source_language_version': None, 'gromet_type': 'LiteralValue'}, 'gromet_type': 'GrometBoxFunction', 'name': None, 'metadata': 4}], 'pif': None, 'pof': [{'id': 1, 'name': None, 'box': 1, 'default_value': None, 'gromet_type': 'GrometPort', 'metadata': None}], 'wfopi': None, 'wfl': None, 'wff': None, 'wfc': None, 'wfopo': [{'name': None, 'src': 1, 'tgt': 1, 'gromet_type': 'GrometWire', 'metadata': None}], 'bl': None, 'pil': None, 'pol': None, 'wlopi': None, 'wll': None, 'wlf': None, 'wlc': None, 'wlopo': None, 'bc': None, 'pic': None, 'poc': None, 'wcopi': None, 'wcl': None, 'wcf': None, 'wcc': None, 'wcopo': None, 'gromet_type': 'GrometFN', 'metadata': None}], 'metadata_collection': [[], [{'metadata_type': 'source_code_collection', 'name': '', 'global_reference_id': '', 'files': [{'uid': '990b1e6e-0ec6-6df6-f535-d2e0000ee01f', 'name': 'exp0.py', 'path': ''}], 'provenance': {'method': 'skema_code2fn_program_analysis', 'timestamp': '2023-07-06 02:25:25.302464'}}, {'metadata_type': 'gromet_creation', 'gromet_version': '0.1.2', 'provenance': {'method': 'skema_code2fn_program_analysis', 'timestamp': '2023-07-06 02:25:25.302491'}}], [{'metadata_type': 'source_code_reference', 'code_file_reference_uid': '990b1e6e-0ec6-6df6-f535-d2e0000ee01f', 'line_begin': 1, 'line_end': 1, 'col_begin': None, 'col_end': None, 'provenance': {'method': 'skema_code2fn_program_analysis', 'timestamp': '2023-07-06 02:25:25.302517'}}], [{'metadata_type': 'source_code_data_type', 'source_language': 'Python', 'source_language_version': '3.8', 'data_type': \"<class 'int'>\", 'provenance': {'method': 'skema_code2fn_program_analysis', 'timestamp': '2023-07-06 02:25:25.302642'}}, {'metadata_type': 'source_code_reference', 'code_file_reference_uid': '990b1e6e-0ec6-6df6-f535-d2e0000ee01f', 'line_begin': 1, 'line_end': 1, 'col_begin': 2, 'col_end': 3, 'provenance': {'method': 'skema_code2fn_program_analysis', 'timestamp': '2023-07-06 02:25:25.302629'}}], [{'metadata_type': 'source_code_reference', 'code_file_reference_uid': '990b1e6e-0ec6-6df6-f535-d2e0000ee01f', 'line_begin': 1, 'line_end': 1, 'col_begin': 0, 'col_end': 3, 'provenance': {'method': 'skema_code2fn_program_analysis', 'timestamp': '2023-07-06 02:25:25.302584'}}]], 'gromet_type': 'GrometFNModule', 'metadata': 2}], 'module_index': ['tmpjhd65pkt.exp0'], 'executables': [], 'gromet_type': 'GrometFNModuleCollection', 'metadata': None}\n"
     ]
    }
   ],
   "source": [
    "post_data = {\n",
    "    \"files\":[\"exp0.py\"],\n",
    "    \"blobs\":[\"x=2\"]\n",
    "}\n",
    "\n",
    "response_single = requests.post(URL, json=post_data)\n",
    "print(response_single.json())"
   ]
  },
  {
   "cell_type": "markdown",
   "id": "a72c5e83",
   "metadata": {},
   "source": [
    "## Process a system"
   ]
  },
  {
   "cell_type": "code",
   "execution_count": 4,
   "id": "082f5781",
   "metadata": {},
   "outputs": [
    {
     "name": "stdout",
     "output_type": "stream",
     "text": [
      "{'schema': 'FN', 'schema_version': '0.1.7', 'name': 'system_test', 'modules': [{'schema': 'FN', 'schema_version': '0.1.7', 'name': 'driver', 'fn': {'name': None, 'b': [{'function_type': 'MODULE', 'body': None, 'import_type': None, 'import_version': None, 'import_source': None, 'source_language': None, 'source_language_version': None, 'value': None, 'gromet_type': 'GrometBoxFunction', 'name': 'module', 'metadata': 3}], 'opi': None, 'opo': None, 'wopio': None, 'bf': [{'function_type': 'EXPRESSION', 'body': None, 'import_type': None, 'import_version': None, 'import_source': None, 'source_language': None, 'source_language_version': None, 'value': None, 'gromet_type': 'GrometBoxFunction', 'name': 'model', 'metadata': None}], 'pif': None, 'pof': [{'id': 1, 'name': 'model', 'box': 1, 'default_value': None, 'gromet_type': 'GrometPort', 'metadata': None}], 'wfopi': None, 'wfl': None, 'wff': None, 'wfc': None, 'wfopo': None, 'bl': None, 'pil': None, 'pol': None, 'wlopi': None, 'wll': None, 'wlf': None, 'wlc': None, 'wlopo': None, 'bc': [{'condition': 1, 'body_if': 2, 'body_else': None, 'gromet_type': 'GrometBoxConditional', 'name': None, 'metadata': 4}], 'pic': [{'id': 1, 'name': '__name__', 'box': 1, 'default_value': None, 'gromet_type': 'GrometPort', 'metadata': None}], 'poc': [{'id': 1, 'name': '__name__', 'box': 1, 'default_value': None, 'gromet_type': 'GrometPort', 'metadata': None}], 'wcopi': None, 'wcl': None, 'wcf': None, 'wcc': None, 'wcopo': None, 'gromet_type': 'GrometFN', 'metadata': None}, 'fn_array': [{'name': None, 'b': [{'function_type': 'PREDICATE', 'body': None, 'import_type': None, 'import_version': None, 'import_source': None, 'source_language': None, 'source_language_version': None, 'value': None, 'gromet_type': 'GrometBoxFunction', 'name': None, 'metadata': None}], 'opi': [{'id': 1, 'name': '__name__', 'box': 1, 'default_value': None, 'gromet_type': 'GrometPort', 'metadata': None}], 'opo': [{'id': 1, 'name': '__name__', 'box': 1, 'default_value': None, 'gromet_type': 'GrometPort', 'metadata': None}, {'id': 2, 'name': None, 'box': 1, 'default_value': None, 'gromet_type': 'GrometPort', 'metadata': None}], 'wopio': None, 'bf': [{'function_type': 'LITERAL', 'body': None, 'import_type': None, 'import_version': None, 'import_source': None, 'source_language': None, 'source_language_version': None, 'value': {'value_type': 'List', 'value': '__main__', 'source_fn': None, 'import_type': None, 'import_version': None, 'import_source': None, 'source_language': None, 'source_language_version': None, 'gromet_type': 'LiteralValue'}, 'gromet_type': 'GrometBoxFunction', 'name': None, 'metadata': 5}, {'function_type': 'LANGUAGE_PRIMITIVE', 'body': None, 'import_type': None, 'import_version': None, 'import_source': None, 'source_language': None, 'source_language_version': None, 'value': None, 'gromet_type': 'GrometBoxFunction', 'name': 'ast.Eq', 'metadata': 6}], 'pif': [{'id': 1, 'name': None, 'box': 2, 'default_value': None, 'gromet_type': 'GrometPort', 'metadata': None}, {'id': 2, 'name': None, 'box': 2, 'default_value': None, 'gromet_type': 'GrometPort', 'metadata': None}], 'pof': [{'id': 1, 'name': None, 'box': 1, 'default_value': None, 'gromet_type': 'GrometPort', 'metadata': None}, {'id': 1, 'name': None, 'box': 2, 'default_value': None, 'gromet_type': 'GrometPort', 'metadata': None}], 'wfopi': [{'name': None, 'src': 1, 'tgt': 1, 'gromet_type': 'GrometWire', 'metadata': None}], 'wfl': None, 'wff': [{'name': None, 'src': 2, 'tgt': 1, 'gromet_type': 'GrometWire', 'metadata': None}], 'wfc': None, 'wfopo': [{'name': None, 'src': 2, 'tgt': 2, 'gromet_type': 'GrometWire', 'metadata': None}], 'bl': None, 'pil': None, 'pol': None, 'wlopi': None, 'wll': None, 'wlf': None, 'wlc': None, 'wlopo': None, 'bc': None, 'pic': None, 'poc': None, 'wcopi': None, 'wcl': None, 'wcf': None, 'wcc': None, 'wcopo': None, 'gromet_type': 'GrometFN', 'metadata': 7}, {'name': None, 'b': [{'function_type': 'FUNCTION', 'body': None, 'import_type': None, 'import_version': None, 'import_source': None, 'source_language': None, 'source_language_version': None, 'value': None, 'gromet_type': 'GrometBoxFunction', 'name': None, 'metadata': None}], 'opi': [{'id': 1, 'name': None, 'box': 1, 'default_value': None, 'gromet_type': 'GrometPort', 'metadata': None}], 'opo': [{'id': 1, 'name': '__name__', 'box': 1, 'default_value': None, 'gromet_type': 'GrometPort', 'metadata': None}], 'wopio': [{'name': None, 'src': 1, 'tgt': 1, 'gromet_type': 'GrometWire', 'metadata': None}], 'bf': [{'function_type': 'LANGUAGE_PRIMITIVE', 'body': None, 'import_type': None, 'import_version': None, 'import_source': None, 'source_language': None, 'source_language_version': None, 'value': None, 'gromet_type': 'GrometBoxFunction', 'name': 'print', 'metadata': None}, {'function_type': 'LITERAL', 'body': None, 'import_type': None, 'import_version': None, 'import_source': None, 'source_language': None, 'source_language_version': None, 'value': {'value_type': 'Integer', 'value': 1, 'source_fn': None, 'import_type': None, 'import_version': None, 'import_source': None, 'source_language': None, 'source_language_version': None, 'gromet_type': 'LiteralValue'}, 'gromet_type': 'GrometBoxFunction', 'name': None, 'metadata': 10}, {'function_type': 'LITERAL', 'body': None, 'import_type': None, 'import_version': None, 'import_source': None, 'source_language': None, 'source_language_version': None, 'value': {'value_type': 'Integer', 'value': 2, 'source_fn': None, 'import_type': None, 'import_version': None, 'import_source': None, 'source_language': None, 'source_language_version': None, 'gromet_type': 'LiteralValue'}, 'gromet_type': 'GrometBoxFunction', 'name': None, 'metadata': 11}, {'function_type': 'LITERAL', 'body': None, 'import_type': None, 'import_version': None, 'import_source': None, 'source_language': None, 'source_language_version': None, 'value': {'value_type': 'Integer', 'value': 3, 'source_fn': None, 'import_type': None, 'import_version': None, 'import_source': None, 'source_language': None, 'source_language_version': None, 'gromet_type': 'LiteralValue'}, 'gromet_type': 'GrometBoxFunction', 'name': None, 'metadata': 12}, {'function_type': 'IMPORTED_METHOD', 'body': None, 'import_type': 'OTHER', 'import_version': None, 'import_source': None, 'source_language': 'Python', 'source_language_version': '3.10', 'value': None, 'gromet_type': 'GrometBoxFunction', 'name': 'model.model_id2', 'metadata': 13}], 'pif': [{'id': 1, 'name': None, 'box': 5, 'default_value': None, 'gromet_type': 'GrometPort', 'metadata': None}, {'id': 2, 'name': None, 'box': 5, 'default_value': None, 'gromet_type': 'GrometPort', 'metadata': None}, {'id': 3, 'name': None, 'box': 5, 'default_value': None, 'gromet_type': 'GrometPort', 'metadata': None}, {'id': 1, 'name': None, 'box': 1, 'default_value': None, 'gromet_type': 'GrometPort', 'metadata': None}], 'pof': [{'id': 1, 'name': None, 'box': 2, 'default_value': None, 'gromet_type': 'GrometPort', 'metadata': None}, {'id': 1, 'name': None, 'box': 3, 'default_value': None, 'gromet_type': 'GrometPort', 'metadata': None}, {'id': 1, 'name': None, 'box': 4, 'default_value': None, 'gromet_type': 'GrometPort', 'metadata': None}], 'wfopi': None, 'wfl': None, 'wff': [{'name': None, 'src': 1, 'tgt': 1, 'gromet_type': 'GrometWire', 'metadata': None}, {'name': None, 'src': 2, 'tgt': 2, 'gromet_type': 'GrometWire', 'metadata': None}, {'name': None, 'src': 3, 'tgt': 3, 'gromet_type': 'GrometWire', 'metadata': None}, {'name': None, 'src': 4, 'tgt': 3, 'gromet_type': 'GrometWire', 'metadata': None}], 'wfc': None, 'wfopo': None, 'bl': None, 'pil': None, 'pol': None, 'wlopi': None, 'wll': None, 'wlf': None, 'wlc': None, 'wlopo': None, 'bc': None, 'pic': None, 'poc': None, 'wcopi': None, 'wcl': None, 'wcf': None, 'wcc': None, 'wcopo': None, 'gromet_type': 'GrometFN', 'metadata': 8}], 'metadata_collection': [[], [{'metadata_type': 'source_code_collection', 'name': '', 'global_reference_id': '', 'files': [{'uid': '7abccdda-8ca4-aaa5-b9db-86a13153926a', 'name': 'driver.py', 'path': ''}], 'provenance': {'method': 'skema_code2fn_program_analysis', 'timestamp': '2023-07-06 02:25:25.324186'}}, {'metadata_type': 'gromet_creation', 'gromet_version': '0.1.2', 'provenance': {'method': 'skema_code2fn_program_analysis', 'timestamp': '2023-07-06 02:25:25.324209'}}], [{'metadata_type': 'source_code_reference', 'code_file_reference_uid': '7abccdda-8ca4-aaa5-b9db-86a13153926a', 'line_begin': 1, 'line_end': 5, 'col_begin': None, 'col_end': None, 'provenance': {'method': 'skema_code2fn_program_analysis', 'timestamp': '2023-07-06 02:25:25.324233'}}], [{'metadata_type': 'source_code_reference', 'code_file_reference_uid': '7abccdda-8ca4-aaa5-b9db-86a13153926a', 'line_begin': 3, 'line_end': 4, 'col_begin': 0, 'col_end': 23, 'provenance': {'method': 'skema_code2fn_program_analysis', 'timestamp': '2023-07-06 02:25:25.324328'}}], [{'metadata_type': 'source_code_data_type', 'source_language': 'Python', 'source_language_version': '3.8', 'data_type': \"<class 'str'>\", 'provenance': {'method': 'skema_code2fn_program_analysis', 'timestamp': '2023-07-06 02:25:25.324454'}}, {'metadata_type': 'source_code_reference', 'code_file_reference_uid': '7abccdda-8ca4-aaa5-b9db-86a13153926a', 'line_begin': 3, 'line_end': 3, 'col_begin': 15, 'col_end': 25, 'provenance': {'method': 'skema_code2fn_program_analysis', 'timestamp': '2023-07-06 02:25:25.324439'}}], [{'metadata_type': 'source_code_reference', 'code_file_reference_uid': '7abccdda-8ca4-aaa5-b9db-86a13153926a', 'line_begin': 3, 'line_end': 3, 'col_begin': 3, 'col_end': 25, 'provenance': {'method': 'skema_code2fn_program_analysis', 'timestamp': '2023-07-06 02:25:25.324502'}}], [{'metadata_type': 'source_code_reference', 'code_file_reference_uid': '7abccdda-8ca4-aaa5-b9db-86a13153926a', 'line_begin': 3, 'line_end': 3, 'col_begin': 3, 'col_end': 25, 'provenance': {'method': 'skema_code2fn_program_analysis', 'timestamp': '2023-07-06 02:25:25.324594'}}], [{'metadata_type': 'source_code_reference', 'code_file_reference_uid': '7abccdda-8ca4-aaa5-b9db-86a13153926a', 'line_begin': 4, 'line_end': 4, 'col_begin': 4, 'col_end': 23, 'provenance': {'method': 'skema_code2fn_program_analysis', 'timestamp': '2023-07-06 02:25:25.324635'}}], [{'metadata_type': 'source_code_reference', 'code_file_reference_uid': '7abccdda-8ca4-aaa5-b9db-86a13153926a', 'line_begin': 4, 'line_end': 4, 'col_begin': 4, 'col_end': 23, 'provenance': {'method': 'skema_code2fn_program_analysis', 'timestamp': '2023-07-06 02:25:25.324749'}}], [{'metadata_type': 'source_code_data_type', 'source_language': 'Python', 'source_language_version': '3.8', 'data_type': \"<class 'int'>\", 'provenance': {'method': 'skema_code2fn_program_analysis', 'timestamp': '2023-07-06 02:25:25.324852'}}, {'metadata_type': 'source_code_reference', 'code_file_reference_uid': '7abccdda-8ca4-aaa5-b9db-86a13153926a', 'line_begin': 4, 'line_end': 4, 'col_begin': 16, 'col_end': 17, 'provenance': {'method': 'skema_code2fn_program_analysis', 'timestamp': '2023-07-06 02:25:25.324839'}}], [{'metadata_type': 'source_code_data_type', 'source_language': 'Python', 'source_language_version': '3.8', 'data_type': \"<class 'int'>\", 'provenance': {'method': 'skema_code2fn_program_analysis', 'timestamp': '2023-07-06 02:25:25.324917'}}, {'metadata_type': 'source_code_reference', 'code_file_reference_uid': '7abccdda-8ca4-aaa5-b9db-86a13153926a', 'line_begin': 4, 'line_end': 4, 'col_begin': 18, 'col_end': 19, 'provenance': {'method': 'skema_code2fn_program_analysis', 'timestamp': '2023-07-06 02:25:25.324904'}}], [{'metadata_type': 'source_code_data_type', 'source_language': 'Python', 'source_language_version': '3.8', 'data_type': \"<class 'int'>\", 'provenance': {'method': 'skema_code2fn_program_analysis', 'timestamp': '2023-07-06 02:25:25.324980'}}, {'metadata_type': 'source_code_reference', 'code_file_reference_uid': '7abccdda-8ca4-aaa5-b9db-86a13153926a', 'line_begin': 4, 'line_end': 4, 'col_begin': 20, 'col_end': 21, 'provenance': {'method': 'skema_code2fn_program_analysis', 'timestamp': '2023-07-06 02:25:25.324967'}}], [{'metadata_type': 'source_code_reference', 'code_file_reference_uid': '7abccdda-8ca4-aaa5-b9db-86a13153926a', 'line_begin': 4, 'line_end': 4, 'col_begin': 10, 'col_end': 22, 'provenance': {'method': 'skema_code2fn_program_analysis', 'timestamp': '2023-07-06 02:25:25.325051'}}]], 'gromet_type': 'GrometFNModule', 'metadata': 2}, {'schema': 'FN', 'schema_version': '0.1.7', 'name': 'model', 'fn': {'name': None, 'b': [{'function_type': 'MODULE', 'body': None, 'import_type': None, 'import_version': None, 'import_source': None, 'source_language': None, 'source_language_version': None, 'value': None, 'gromet_type': 'GrometBoxFunction', 'name': 'module', 'metadata': 3}], 'opi': None, 'opo': None, 'wopio': None, 'bf': None, 'pif': None, 'pof': None, 'wfopi': None, 'wfl': None, 'wff': None, 'wfc': None, 'wfopo': None, 'bl': None, 'pil': None, 'pol': None, 'wlopi': None, 'wll': None, 'wlf': None, 'wlc': None, 'wlopo': None, 'bc': None, 'pic': None, 'poc': None, 'wcopi': None, 'wcl': None, 'wcf': None, 'wcc': None, 'wcopo': None, 'gromet_type': 'GrometFN', 'metadata': None}, 'fn_array': [{'name': None, 'b': [{'function_type': 'FUNCTION', 'body': None, 'import_type': None, 'import_version': None, 'import_source': None, 'source_language': None, 'source_language_version': None, 'value': None, 'gromet_type': 'GrometBoxFunction', 'name': 'model_id0', 'metadata': 4}], 'opi': [{'id': 1, 'name': 'x', 'box': 1, 'default_value': None, 'gromet_type': 'GrometPort', 'metadata': 5}, {'id': 2, 'name': 'y', 'box': 1, 'default_value': None, 'gromet_type': 'GrometPort', 'metadata': 6}, {'id': 3, 'name': 'z', 'box': 1, 'default_value': None, 'gromet_type': 'GrometPort', 'metadata': 7}], 'opo': [{'id': 1, 'name': None, 'box': 1, 'default_value': None, 'gromet_type': 'GrometPort', 'metadata': 10}], 'wopio': None, 'bf': [{'function_type': 'LANGUAGE_PRIMITIVE', 'body': None, 'import_type': None, 'import_version': None, 'import_source': None, 'source_language': None, 'source_language_version': None, 'value': None, 'gromet_type': 'GrometBoxFunction', 'name': 'ast.Add', 'metadata': 8}, {'function_type': 'LANGUAGE_PRIMITIVE', 'body': None, 'import_type': None, 'import_version': None, 'import_source': None, 'source_language': None, 'source_language_version': None, 'value': None, 'gromet_type': 'GrometBoxFunction', 'name': 'ast.Sub', 'metadata': 9}], 'pif': [{'id': 1, 'name': None, 'box': 1, 'default_value': None, 'gromet_type': 'GrometPort', 'metadata': None}, {'id': 2, 'name': None, 'box': 1, 'default_value': None, 'gromet_type': 'GrometPort', 'metadata': None}, {'id': 1, 'name': None, 'box': 2, 'default_value': None, 'gromet_type': 'GrometPort', 'metadata': None}, {'id': 2, 'name': None, 'box': 2, 'default_value': None, 'gromet_type': 'GrometPort', 'metadata': None}], 'pof': [{'id': 1, 'name': None, 'box': 1, 'default_value': None, 'gromet_type': 'GrometPort', 'metadata': None}, {'id': 1, 'name': None, 'box': 2, 'default_value': None, 'gromet_type': 'GrometPort', 'metadata': None}], 'wfopi': [{'name': None, 'src': 1, 'tgt': 1, 'gromet_type': 'GrometWire', 'metadata': None}, {'name': None, 'src': 2, 'tgt': 2, 'gromet_type': 'GrometWire', 'metadata': None}, {'name': None, 'src': 4, 'tgt': 3, 'gromet_type': 'GrometWire', 'metadata': None}], 'wfl': None, 'wff': [{'name': None, 'src': 3, 'tgt': 1, 'gromet_type': 'GrometWire', 'metadata': None}], 'wfc': None, 'wfopo': [{'name': None, 'src': 1, 'tgt': 2, 'gromet_type': 'GrometWire', 'metadata': None}], 'bl': None, 'pil': None, 'pol': None, 'wlopi': None, 'wll': None, 'wlf': None, 'wlc': None, 'wlopo': None, 'bc': None, 'pic': None, 'poc': None, 'wcopi': None, 'wcl': None, 'wcf': None, 'wcc': None, 'wcopo': None, 'gromet_type': 'GrometFN', 'metadata': None}], 'metadata_collection': [[], [{'metadata_type': 'source_code_collection', 'name': '', 'global_reference_id': '', 'files': [{'uid': '306c7a1c-656d-69d1-a35f-b9bcf5b11972', 'name': 'model.py', 'path': ''}], 'provenance': {'method': 'skema_code2fn_program_analysis', 'timestamp': '2023-07-06 02:25:25.327659'}}, {'metadata_type': 'gromet_creation', 'gromet_version': '0.1.2', 'provenance': {'method': 'skema_code2fn_program_analysis', 'timestamp': '2023-07-06 02:25:25.327672'}}], [{'metadata_type': 'source_code_reference', 'code_file_reference_uid': '306c7a1c-656d-69d1-a35f-b9bcf5b11972', 'line_begin': 1, 'line_end': 2, 'col_begin': None, 'col_end': None, 'provenance': {'method': 'skema_code2fn_program_analysis', 'timestamp': '2023-07-06 02:25:25.327687'}}], [{'metadata_type': 'source_code_reference', 'code_file_reference_uid': '306c7a1c-656d-69d1-a35f-b9bcf5b11972', 'line_begin': 1, 'line_end': 2, 'col_begin': 0, 'col_end': 20, 'provenance': {'method': 'skema_code2fn_program_analysis', 'timestamp': '2023-07-06 02:25:25.327743'}}], [{'metadata_type': 'source_code_reference', 'code_file_reference_uid': '306c7a1c-656d-69d1-a35f-b9bcf5b11972', 'line_begin': 1, 'line_end': 1, 'col_begin': 10, 'col_end': 11, 'provenance': {'method': 'skema_code2fn_program_analysis', 'timestamp': '2023-07-06 02:25:25.327774'}}], [{'metadata_type': 'source_code_reference', 'code_file_reference_uid': '306c7a1c-656d-69d1-a35f-b9bcf5b11972', 'line_begin': 1, 'line_end': 1, 'col_begin': 13, 'col_end': 14, 'provenance': {'method': 'skema_code2fn_program_analysis', 'timestamp': '2023-07-06 02:25:25.327806'}}], [{'metadata_type': 'source_code_reference', 'code_file_reference_uid': '306c7a1c-656d-69d1-a35f-b9bcf5b11972', 'line_begin': 1, 'line_end': 1, 'col_begin': 16, 'col_end': 17, 'provenance': {'method': 'skema_code2fn_program_analysis', 'timestamp': '2023-07-06 02:25:25.327837'}}], [{'metadata_type': 'source_code_reference', 'code_file_reference_uid': '306c7a1c-656d-69d1-a35f-b9bcf5b11972', 'line_begin': 2, 'line_end': 2, 'col_begin': 11, 'col_end': 16, 'provenance': {'method': 'skema_code2fn_program_analysis', 'timestamp': '2023-07-06 02:25:25.327890'}}], [{'metadata_type': 'source_code_reference', 'code_file_reference_uid': '306c7a1c-656d-69d1-a35f-b9bcf5b11972', 'line_begin': 2, 'line_end': 2, 'col_begin': 11, 'col_end': 20, 'provenance': {'method': 'skema_code2fn_program_analysis', 'timestamp': '2023-07-06 02:25:25.327948'}}], [{'metadata_type': 'source_code_reference', 'code_file_reference_uid': '306c7a1c-656d-69d1-a35f-b9bcf5b11972', 'line_begin': 2, 'line_end': 2, 'col_begin': 4, 'col_end': 20, 'provenance': {'method': 'skema_code2fn_program_analysis', 'timestamp': '2023-07-06 02:25:25.328000'}}]], 'gromet_type': 'GrometFNModule', 'metadata': 2}, {'schema': 'FN', 'schema_version': '0.1.7', 'name': 'util', 'fn': {'name': None, 'b': [{'function_type': 'MODULE', 'body': None, 'import_type': None, 'import_version': None, 'import_source': None, 'source_language': None, 'source_language_version': None, 'value': None, 'gromet_type': 'GrometBoxFunction', 'name': 'module', 'metadata': 3}], 'opi': None, 'opo': None, 'wopio': None, 'bf': None, 'pif': None, 'pof': None, 'wfopi': None, 'wfl': None, 'wff': None, 'wfc': None, 'wfopo': None, 'bl': None, 'pil': None, 'pol': None, 'wlopi': None, 'wll': None, 'wlf': None, 'wlc': None, 'wlopo': None, 'bc': None, 'pic': None, 'poc': None, 'wcopi': None, 'wcl': None, 'wcf': None, 'wcc': None, 'wcopo': None, 'gromet_type': 'GrometFN', 'metadata': None}, 'fn_array': [{'name': None, 'b': [{'function_type': 'FUNCTION', 'body': None, 'import_type': None, 'import_version': None, 'import_source': None, 'source_language': None, 'source_language_version': None, 'value': None, 'gromet_type': 'GrometBoxFunction', 'name': 'model_tester_id0', 'metadata': 4}], 'opi': [{'id': 1, 'name': 'x', 'box': 1, 'default_value': None, 'gromet_type': 'GrometPort', 'metadata': 5}, {'id': 2, 'name': 'y', 'box': 1, 'default_value': None, 'gromet_type': 'GrometPort', 'metadata': 6}, {'id': 3, 'name': 'z', 'box': 1, 'default_value': None, 'gromet_type': 'GrometPort', 'metadata': 7}, {'id': 4, 'name': 'result', 'box': 1, 'default_value': None, 'gromet_type': 'GrometPort', 'metadata': 8}], 'opo': [{'id': 1, 'name': None, 'box': 1, 'default_value': None, 'gromet_type': 'GrometPort', 'metadata': 12}], 'wopio': None, 'bf': [{'function_type': 'LANGUAGE_PRIMITIVE', 'body': None, 'import_type': None, 'import_version': None, 'import_source': None, 'source_language': None, 'source_language_version': None, 'value': None, 'gromet_type': 'GrometBoxFunction', 'name': 'ast.Add', 'metadata': 9}, {'function_type': 'LANGUAGE_PRIMITIVE', 'body': None, 'import_type': None, 'import_version': None, 'import_source': None, 'source_language': None, 'source_language_version': None, 'value': None, 'gromet_type': 'GrometBoxFunction', 'name': 'ast.Sub', 'metadata': 10}, {'function_type': 'LANGUAGE_PRIMITIVE', 'body': None, 'import_type': None, 'import_version': None, 'import_source': None, 'source_language': None, 'source_language_version': None, 'value': None, 'gromet_type': 'GrometBoxFunction', 'name': 'ast.Eq', 'metadata': 11}], 'pif': [{'id': 1, 'name': None, 'box': 1, 'default_value': None, 'gromet_type': 'GrometPort', 'metadata': None}, {'id': 2, 'name': None, 'box': 1, 'default_value': None, 'gromet_type': 'GrometPort', 'metadata': None}, {'id': 1, 'name': None, 'box': 2, 'default_value': None, 'gromet_type': 'GrometPort', 'metadata': None}, {'id': 2, 'name': None, 'box': 2, 'default_value': None, 'gromet_type': 'GrometPort', 'metadata': None}, {'id': 1, 'name': None, 'box': 3, 'default_value': None, 'gromet_type': 'GrometPort', 'metadata': None}, {'id': 2, 'name': None, 'box': 3, 'default_value': None, 'gromet_type': 'GrometPort', 'metadata': None}], 'pof': [{'id': 1, 'name': None, 'box': 1, 'default_value': None, 'gromet_type': 'GrometPort', 'metadata': None}, {'id': 1, 'name': None, 'box': 2, 'default_value': None, 'gromet_type': 'GrometPort', 'metadata': None}, {'id': 1, 'name': None, 'box': 3, 'default_value': None, 'gromet_type': 'GrometPort', 'metadata': None}], 'wfopi': [{'name': None, 'src': 1, 'tgt': 1, 'gromet_type': 'GrometWire', 'metadata': None}, {'name': None, 'src': 2, 'tgt': 2, 'gromet_type': 'GrometWire', 'metadata': None}, {'name': None, 'src': 4, 'tgt': 3, 'gromet_type': 'GrometWire', 'metadata': None}, {'name': None, 'src': 6, 'tgt': 4, 'gromet_type': 'GrometWire', 'metadata': None}], 'wfl': None, 'wff': [{'name': None, 'src': 3, 'tgt': 1, 'gromet_type': 'GrometWire', 'metadata': None}, {'name': None, 'src': 5, 'tgt': 2, 'gromet_type': 'GrometWire', 'metadata': None}], 'wfc': None, 'wfopo': [{'name': None, 'src': 1, 'tgt': 3, 'gromet_type': 'GrometWire', 'metadata': None}], 'bl': None, 'pil': None, 'pol': None, 'wlopi': None, 'wll': None, 'wlf': None, 'wlc': None, 'wlopo': None, 'bc': None, 'pic': None, 'poc': None, 'wcopi': None, 'wcl': None, 'wcf': None, 'wcc': None, 'wcopo': None, 'gromet_type': 'GrometFN', 'metadata': None}], 'metadata_collection': [[], [{'metadata_type': 'source_code_collection', 'name': '', 'global_reference_id': '', 'files': [{'uid': '530e8cec-5fd5-f631-0aaa-4af044a9c322', 'name': 'util.py', 'path': ''}], 'provenance': {'method': 'skema_code2fn_program_analysis', 'timestamp': '2023-07-06 02:25:25.330231'}}, {'metadata_type': 'gromet_creation', 'gromet_version': '0.1.2', 'provenance': {'method': 'skema_code2fn_program_analysis', 'timestamp': '2023-07-06 02:25:25.330244'}}], [{'metadata_type': 'source_code_reference', 'code_file_reference_uid': '530e8cec-5fd5-f631-0aaa-4af044a9c322', 'line_begin': 1, 'line_end': 2, 'col_begin': None, 'col_end': None, 'provenance': {'method': 'skema_code2fn_program_analysis', 'timestamp': '2023-07-06 02:25:25.330259'}}], [{'metadata_type': 'source_code_reference', 'code_file_reference_uid': '530e8cec-5fd5-f631-0aaa-4af044a9c322', 'line_begin': 1, 'line_end': 2, 'col_begin': 0, 'col_end': 26, 'provenance': {'method': 'skema_code2fn_program_analysis', 'timestamp': '2023-07-06 02:25:25.330315'}}], [{'metadata_type': 'source_code_reference', 'code_file_reference_uid': '530e8cec-5fd5-f631-0aaa-4af044a9c322', 'line_begin': 1, 'line_end': 1, 'col_begin': 17, 'col_end': 18, 'provenance': {'method': 'skema_code2fn_program_analysis', 'timestamp': '2023-07-06 02:25:25.330346'}}], [{'metadata_type': 'source_code_reference', 'code_file_reference_uid': '530e8cec-5fd5-f631-0aaa-4af044a9c322', 'line_begin': 1, 'line_end': 1, 'col_begin': 20, 'col_end': 21, 'provenance': {'method': 'skema_code2fn_program_analysis', 'timestamp': '2023-07-06 02:25:25.330377'}}], [{'metadata_type': 'source_code_reference', 'code_file_reference_uid': '530e8cec-5fd5-f631-0aaa-4af044a9c322', 'line_begin': 1, 'line_end': 1, 'col_begin': 23, 'col_end': 24, 'provenance': {'method': 'skema_code2fn_program_analysis', 'timestamp': '2023-07-06 02:25:25.330409'}}], [{'metadata_type': 'source_code_reference', 'code_file_reference_uid': '530e8cec-5fd5-f631-0aaa-4af044a9c322', 'line_begin': 1, 'line_end': 1, 'col_begin': 26, 'col_end': 32, 'provenance': {'method': 'skema_code2fn_program_analysis', 'timestamp': '2023-07-06 02:25:25.330439'}}], [{'metadata_type': 'source_code_reference', 'code_file_reference_uid': '530e8cec-5fd5-f631-0aaa-4af044a9c322', 'line_begin': 2, 'line_end': 2, 'col_begin': 11, 'col_end': 14, 'provenance': {'method': 'skema_code2fn_program_analysis', 'timestamp': '2023-07-06 02:25:25.330498'}}], [{'metadata_type': 'source_code_reference', 'code_file_reference_uid': '530e8cec-5fd5-f631-0aaa-4af044a9c322', 'line_begin': 2, 'line_end': 2, 'col_begin': 11, 'col_end': 16, 'provenance': {'method': 'skema_code2fn_program_analysis', 'timestamp': '2023-07-06 02:25:25.330556'}}], [{'metadata_type': 'source_code_reference', 'code_file_reference_uid': '530e8cec-5fd5-f631-0aaa-4af044a9c322', 'line_begin': 2, 'line_end': 2, 'col_begin': 11, 'col_end': 26, 'provenance': {'method': 'skema_code2fn_program_analysis', 'timestamp': '2023-07-06 02:25:25.330611'}}], [{'metadata_type': 'source_code_reference', 'code_file_reference_uid': '530e8cec-5fd5-f631-0aaa-4af044a9c322', 'line_begin': 2, 'line_end': 2, 'col_begin': 4, 'col_end': 26, 'provenance': {'method': 'skema_code2fn_program_analysis', 'timestamp': '2023-07-06 02:25:25.330658'}}]], 'gromet_type': 'GrometFNModule', 'metadata': 2}], 'module_index': ['system_test.driver', 'system_test.model', 'system_test.util.util'], 'executables': [], 'gromet_type': 'GrometFNModuleCollection', 'metadata': None}\n"
     ]
    }
   ],
   "source": [
    "def system_to_json(\n",
    "    root: Path, system_filepaths: Path, system_name: str\n",
    ") -> Dict:\n",
    "    supported_extensions = [\".py\", \".F\", \".f95\"]\n",
    "    files = []\n",
    "    blobs = []\n",
    "    for file in system_filepaths.read_text().split(\"\\n\"):\n",
    "        path_obj = Path(root, file)\n",
    "        if path_obj.suffix in supported_extensions:\n",
    "            files.append(file)\n",
    "            blobs.append(path_obj.read_text())\n",
    "\n",
    "    return {\n",
    "            \"files\": files,\n",
    "            \"blobs\": blobs,\n",
    "            \"system_name\": system_name,\n",
    "            \"root_name\": root.stem\n",
    "    }\n",
    "\n",
    "\n",
    "post_data = system_to_json(Path(\"system_test\"), Path(\"system_test/system_filepaths.txt\"), \"system_test\")\n",
    "response_multi = requests.post(URL, json=post_data)\n",
    "print(response_multi.json())"
   ]
  },
  {
   "cell_type": "markdown",
   "id": "0fcfe8ef",
   "metadata": {},
   "source": [
    "## Write output JSON to file"
   ]
  },
  {
   "cell_type": "code",
   "execution_count": 5,
   "id": "42a27b19",
   "metadata": {},
   "outputs": [],
   "source": [
    "with open(\"exp0--Gromet-FN-auto.json\", \"w\") as f:\n",
    "    f.write(json.dumps(response_single.json()))"
   ]
  },
  {
   "cell_type": "markdown",
   "id": "987fbab0",
   "metadata": {},
   "source": [
    "## Import Gromet JSON"
   ]
  },
  {
   "cell_type": "code",
   "execution_count": 6,
   "id": "873abd6f",
   "metadata": {},
   "outputs": [],
   "source": [
    "gromet_module_collection = json_to_gromet(\"exp0--Gromet-FN-auto.json\")"
   ]
  }
 ],
 "metadata": {
  "kernelspec": {
   "display_name": "Python 3 (ipykernel)",
   "language": "python",
   "name": "python3"
  },
  "language_info": {
   "codemirror_mode": {
    "name": "ipython",
    "version": 3
   },
   "file_extension": ".py",
   "mimetype": "text/x-python",
   "name": "python",
   "nbconvert_exporter": "python",
   "pygments_lexer": "ipython3",
   "version": "3.8.17"
  }
 },
 "nbformat": 4,
 "nbformat_minor": 5
}
