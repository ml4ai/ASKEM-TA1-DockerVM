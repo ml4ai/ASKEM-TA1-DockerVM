{
 "cells": [
  {
   "cell_type": "markdown",
   "id": "b98aaf0a",
   "metadata": {},
   "source": [
    "## fn-given-filepaths\n",
    "### Description\n",
    "Endpoint for generating Gromet JSON from a serialized code system.\n",
    "\n",
    "### Required Arguments\n",
    "- files list[str] - The relative file path from the directory specified by `root_name`, corresponding to each entry in `blobs`\n",
    "- blobs list[str] - Contents of each file to be analyzed\n",
    "\n",
    "### Optional Arguments\n",
    "- system_name str - A model name to associate with the provided code\n",
    "- root_name str - The name of the code system's root directory\n",
    "- comments CodeComments - A CodeComments object representing the comments extracted from the source code in 'blobs'. Can provide comments for a single file (SingleFileCodeComments) or multiple files (MultiFileCodeComments)\n",
    "- dependency_depth int - The depth at which to ingest dependencies into Gromet. i.e. 0=Ingest no dependencies, 1=Ingest system dependencies. Accepted values: [0,1]"
   ]
  },
  {
   "cell_type": "markdown",
   "id": "05ca6b76",
   "metadata": {},
   "source": [
    "## Imports"
   ]
  },
  {
   "cell_type": "code",
   "execution_count": 1,
   "id": "1395011d",
   "metadata": {},
   "outputs": [],
   "source": [
    "import requests \n",
    "import os\n",
    "from pathlib import Path\n",
    "from typing import Dict"
   ]
  },
  {
   "cell_type": "markdown",
   "id": "32e3d53c",
   "metadata": {},
   "source": [
    "## Generate endpoint URL"
   ]
  },
  {
   "cell_type": "code",
   "execution_count": 2,
   "id": "76c4cd20",
   "metadata": {},
   "outputs": [],
   "source": [
    "SKEMA_ADDRESS = os.environ.get(\"SKEMA_ADDRESS\", \"http://localhost:8000\")\n",
    "URL = f\"{SKEMA_ADDRESS}/code2fn/fn-given-filepaths\""
   ]
  },
  {
   "cell_type": "markdown",
   "id": "097d0a2a",
   "metadata": {},
   "source": [
    "## Process a single file "
   ]
  },
  {
   "cell_type": "code",
   "execution_count": 3,
   "id": "5830d297",
   "metadata": {},
   "outputs": [
    {
     "name": "stdout",
     "output_type": "stream",
     "text": [
      "{'schema': 'FN', 'schema_version': '0.1.7', 'name': '', 'modules': [{'schema': 'FN', 'schema_version': '0.1.7', 'name': 'exp0', 'fn': {'name': None, 'b': [{'function_type': 'MODULE', 'body': None, 'import_type': None, 'import_version': None, 'import_source': None, 'source_language': None, 'source_language_version': None, 'value': None, 'gromet_type': 'GrometBoxFunction', 'name': 'module', 'metadata': 3}], 'opi': None, 'opo': None, 'wopio': None, 'bf': [{'function_type': 'EXPRESSION', 'body': 1, 'import_type': None, 'import_version': None, 'import_source': None, 'source_language': None, 'source_language_version': None, 'value': None, 'gromet_type': 'GrometBoxFunction', 'name': None, 'metadata': 5}], 'pif': None, 'pof': [{'id': 1, 'name': 'x', 'box': 1, 'default_value': None, 'gromet_type': 'GrometPort', 'metadata': None}], 'wfopi': None, 'wfl': None, 'wff': None, 'wfc': None, 'wfopo': None, 'bl': None, 'pil': None, 'pol': None, 'wlopi': None, 'wll': None, 'wlf': None, 'wlc': None, 'wlopo': None, 'bc': None, 'pic': None, 'poc': None, 'wcopi': None, 'wcl': None, 'wcf': None, 'wcc': None, 'wcopo': None, 'gromet_type': 'GrometFN', 'metadata': None}, 'fn_array': [{'name': None, 'b': [{'function_type': 'EXPRESSION', 'body': None, 'import_type': None, 'import_version': None, 'import_source': None, 'source_language': None, 'source_language_version': None, 'value': None, 'gromet_type': 'GrometBoxFunction', 'name': None, 'metadata': None}], 'opi': None, 'opo': [{'id': 1, 'name': None, 'box': 1, 'default_value': None, 'gromet_type': 'GrometPort', 'metadata': None}], 'wopio': None, 'bf': [{'function_type': 'LITERAL', 'body': None, 'import_type': None, 'import_version': None, 'import_source': None, 'source_language': None, 'source_language_version': None, 'value': {'value_type': 'Integer', 'value': 2, 'source_fn': None, 'import_type': None, 'import_version': None, 'import_source': None, 'source_language': None, 'source_language_version': None, 'gromet_type': 'LiteralValue'}, 'gromet_type': 'GrometBoxFunction', 'name': None, 'metadata': 4}], 'pif': None, 'pof': [{'id': 1, 'name': None, 'box': 1, 'default_value': None, 'gromet_type': 'GrometPort', 'metadata': None}], 'wfopi': None, 'wfl': None, 'wff': None, 'wfc': None, 'wfopo': [{'name': None, 'src': 1, 'tgt': 1, 'gromet_type': 'GrometWire', 'metadata': None}], 'bl': None, 'pil': None, 'pol': None, 'wlopi': None, 'wll': None, 'wlf': None, 'wlc': None, 'wlopo': None, 'bc': None, 'pic': None, 'poc': None, 'wcopi': None, 'wcl': None, 'wcf': None, 'wcc': None, 'wcopo': None, 'gromet_type': 'GrometFN', 'metadata': None}], 'metadata_collection': [[], [{'metadata_type': 'source_code_collection', 'name': '', 'global_reference_id': '', 'files': [{'uid': '6fcb126b-58a1-72f4-ab85-4fd42246855d', 'name': 'exp0.py', 'path': ''}], 'provenance': {'method': 'skema_code2fn_program_analysis', 'timestamp': '2023-07-06 02:51:24.790439'}}, {'metadata_type': 'gromet_creation', 'gromet_version': '0.1.2', 'provenance': {'method': 'skema_code2fn_program_analysis', 'timestamp': '2023-07-06 02:51:24.790464'}}], [{'metadata_type': 'source_code_reference', 'code_file_reference_uid': '6fcb126b-58a1-72f4-ab85-4fd42246855d', 'line_begin': 1, 'line_end': 1, 'col_begin': None, 'col_end': None, 'provenance': {'method': 'skema_code2fn_program_analysis', 'timestamp': '2023-07-06 02:51:24.790486'}}], [{'metadata_type': 'source_code_data_type', 'source_language': 'Python', 'source_language_version': '3.8', 'data_type': \"<class 'int'>\", 'provenance': {'method': 'skema_code2fn_program_analysis', 'timestamp': '2023-07-06 02:51:24.790594'}}, {'metadata_type': 'source_code_reference', 'code_file_reference_uid': '6fcb126b-58a1-72f4-ab85-4fd42246855d', 'line_begin': 1, 'line_end': 1, 'col_begin': 2, 'col_end': 3, 'provenance': {'method': 'skema_code2fn_program_analysis', 'timestamp': '2023-07-06 02:51:24.790583'}}], [{'metadata_type': 'source_code_reference', 'code_file_reference_uid': '6fcb126b-58a1-72f4-ab85-4fd42246855d', 'line_begin': 1, 'line_end': 1, 'col_begin': 0, 'col_end': 3, 'provenance': {'method': 'skema_code2fn_program_analysis', 'timestamp': '2023-07-06 02:51:24.790545'}}]], 'gromet_type': 'GrometFNModule', 'metadata': 2}], 'module_index': ['tmpef8rqbtm.exp0'], 'executables': [], 'gromet_type': 'GrometFNModuleCollection', 'metadata': None}\n"
     ]
    }
   ],
   "source": [
    "post_data = {\n",
    "    \"files\":[\"exp0.py\"],\n",
    "    \"blobs\":[\"x=2\"]\n",
    "}\n",
    "\n",
    "response_single = requests.post(URL, json=post_data)\n",
    "print(response_single.json())"
   ]
  },
  {
   "cell_type": "markdown",
   "id": "a72c5e83",
   "metadata": {},
   "source": [
    "## Process a system"
   ]
  },
  {
   "cell_type": "code",
   "execution_count": 4,
   "id": "082f5781",
   "metadata": {},
   "outputs": [
    {
     "name": "stdout",
     "output_type": "stream",
     "text": [
      "{'schema': 'FN', 'schema_version': '0.1.7', 'name': 'system_test', 'modules': [{'schema': 'FN', 'schema_version': '0.1.7', 'name': 'driver', 'fn': {'name': None, 'b': [{'function_type': 'MODULE', 'body': None, 'import_type': None, 'import_version': None, 'import_source': None, 'source_language': None, 'source_language_version': None, 'value': None, 'gromet_type': 'GrometBoxFunction', 'name': 'module', 'metadata': 3}], 'opi': None, 'opo': None, 'wopio': None, 'bf': [{'function_type': 'EXPRESSION', 'body': None, 'import_type': None, 'import_version': None, 'import_source': None, 'source_language': None, 'source_language_version': None, 'value': None, 'gromet_type': 'GrometBoxFunction', 'name': 'model', 'metadata': None}], 'pif': None, 'pof': [{'id': 1, 'name': 'model', 'box': 1, 'default_value': None, 'gromet_type': 'GrometPort', 'metadata': None}], 'wfopi': None, 'wfl': None, 'wff': None, 'wfc': None, 'wfopo': None, 'bl': None, 'pil': None, 'pol': None, 'wlopi': None, 'wll': None, 'wlf': None, 'wlc': None, 'wlopo': None, 'bc': [{'condition': 1, 'body_if': 2, 'body_else': None, 'gromet_type': 'GrometBoxConditional', 'name': None, 'metadata': 4}], 'pic': [{'id': 1, 'name': '__name__', 'box': 1, 'default_value': None, 'gromet_type': 'GrometPort', 'metadata': None}], 'poc': [{'id': 1, 'name': '__name__', 'box': 1, 'default_value': None, 'gromet_type': 'GrometPort', 'metadata': None}], 'wcopi': None, 'wcl': None, 'wcf': None, 'wcc': None, 'wcopo': None, 'gromet_type': 'GrometFN', 'metadata': None}, 'fn_array': [{'name': None, 'b': [{'function_type': 'PREDICATE', 'body': None, 'import_type': None, 'import_version': None, 'import_source': None, 'source_language': None, 'source_language_version': None, 'value': None, 'gromet_type': 'GrometBoxFunction', 'name': None, 'metadata': None}], 'opi': [{'id': 1, 'name': '__name__', 'box': 1, 'default_value': None, 'gromet_type': 'GrometPort', 'metadata': None}], 'opo': [{'id': 1, 'name': '__name__', 'box': 1, 'default_value': None, 'gromet_type': 'GrometPort', 'metadata': None}, {'id': 2, 'name': None, 'box': 1, 'default_value': None, 'gromet_type': 'GrometPort', 'metadata': None}], 'wopio': None, 'bf': [{'function_type': 'LITERAL', 'body': None, 'import_type': None, 'import_version': None, 'import_source': None, 'source_language': None, 'source_language_version': None, 'value': {'value_type': 'List', 'value': '__main__', 'source_fn': None, 'import_type': None, 'import_version': None, 'import_source': None, 'source_language': None, 'source_language_version': None, 'gromet_type': 'LiteralValue'}, 'gromet_type': 'GrometBoxFunction', 'name': None, 'metadata': 5}, {'function_type': 'LANGUAGE_PRIMITIVE', 'body': None, 'import_type': None, 'import_version': None, 'import_source': None, 'source_language': None, 'source_language_version': None, 'value': None, 'gromet_type': 'GrometBoxFunction', 'name': 'ast.Eq', 'metadata': 6}], 'pif': [{'id': 1, 'name': None, 'box': 2, 'default_value': None, 'gromet_type': 'GrometPort', 'metadata': None}, {'id': 2, 'name': None, 'box': 2, 'default_value': None, 'gromet_type': 'GrometPort', 'metadata': None}], 'pof': [{'id': 1, 'name': None, 'box': 1, 'default_value': None, 'gromet_type': 'GrometPort', 'metadata': None}, {'id': 1, 'name': None, 'box': 2, 'default_value': None, 'gromet_type': 'GrometPort', 'metadata': None}], 'wfopi': [{'name': None, 'src': 1, 'tgt': 1, 'gromet_type': 'GrometWire', 'metadata': None}], 'wfl': None, 'wff': [{'name': None, 'src': 2, 'tgt': 1, 'gromet_type': 'GrometWire', 'metadata': None}], 'wfc': None, 'wfopo': [{'name': None, 'src': 2, 'tgt': 2, 'gromet_type': 'GrometWire', 'metadata': None}], 'bl': None, 'pil': None, 'pol': None, 'wlopi': None, 'wll': None, 'wlf': None, 'wlc': None, 'wlopo': None, 'bc': None, 'pic': None, 'poc': None, 'wcopi': None, 'wcl': None, 'wcf': None, 'wcc': None, 'wcopo': None, 'gromet_type': 'GrometFN', 'metadata': 7}, {'name': None, 'b': [{'function_type': 'FUNCTION', 'body': None, 'import_type': None, 'import_version': None, 'import_source': None, 'source_language': None, 'source_language_version': None, 'value': None, 'gromet_type': 'GrometBoxFunction', 'name': None, 'metadata': None}], 'opi': [{'id': 1, 'name': None, 'box': 1, 'default_value': None, 'gromet_type': 'GrometPort', 'metadata': None}], 'opo': [{'id': 1, 'name': '__name__', 'box': 1, 'default_value': None, 'gromet_type': 'GrometPort', 'metadata': None}], 'wopio': [{'name': None, 'src': 1, 'tgt': 1, 'gromet_type': 'GrometWire', 'metadata': None}], 'bf': [{'function_type': 'LANGUAGE_PRIMITIVE', 'body': None, 'import_type': None, 'import_version': None, 'import_source': None, 'source_language': None, 'source_language_version': None, 'value': None, 'gromet_type': 'GrometBoxFunction', 'name': 'print', 'metadata': None}, {'function_type': 'LITERAL', 'body': None, 'import_type': None, 'import_version': None, 'import_source': None, 'source_language': None, 'source_language_version': None, 'value': {'value_type': 'Integer', 'value': 1, 'source_fn': None, 'import_type': None, 'import_version': None, 'import_source': None, 'source_language': None, 'source_language_version': None, 'gromet_type': 'LiteralValue'}, 'gromet_type': 'GrometBoxFunction', 'name': None, 'metadata': 10}, {'function_type': 'LITERAL', 'body': None, 'import_type': None, 'import_version': None, 'import_source': None, 'source_language': None, 'source_language_version': None, 'value': {'value_type': 'Integer', 'value': 2, 'source_fn': None, 'import_type': None, 'import_version': None, 'import_source': None, 'source_language': None, 'source_language_version': None, 'gromet_type': 'LiteralValue'}, 'gromet_type': 'GrometBoxFunction', 'name': None, 'metadata': 11}, {'function_type': 'LITERAL', 'body': None, 'import_type': None, 'import_version': None, 'import_source': None, 'source_language': None, 'source_language_version': None, 'value': {'value_type': 'Integer', 'value': 3, 'source_fn': None, 'import_type': None, 'import_version': None, 'import_source': None, 'source_language': None, 'source_language_version': None, 'gromet_type': 'LiteralValue'}, 'gromet_type': 'GrometBoxFunction', 'name': None, 'metadata': 12}, {'function_type': 'IMPORTED_METHOD', 'body': None, 'import_type': 'OTHER', 'import_version': None, 'import_source': None, 'source_language': 'Python', 'source_language_version': '3.10', 'value': None, 'gromet_type': 'GrometBoxFunction', 'name': 'model.model_id2', 'metadata': 13}], 'pif': [{'id': 1, 'name': None, 'box': 5, 'default_value': None, 'gromet_type': 'GrometPort', 'metadata': None}, {'id': 2, 'name': None, 'box': 5, 'default_value': None, 'gromet_type': 'GrometPort', 'metadata': None}, {'id': 3, 'name': None, 'box': 5, 'default_value': None, 'gromet_type': 'GrometPort', 'metadata': None}, {'id': 1, 'name': None, 'box': 1, 'default_value': None, 'gromet_type': 'GrometPort', 'metadata': None}], 'pof': [{'id': 1, 'name': None, 'box': 2, 'default_value': None, 'gromet_type': 'GrometPort', 'metadata': None}, {'id': 1, 'name': None, 'box': 3, 'default_value': None, 'gromet_type': 'GrometPort', 'metadata': None}, {'id': 1, 'name': None, 'box': 4, 'default_value': None, 'gromet_type': 'GrometPort', 'metadata': None}], 'wfopi': None, 'wfl': None, 'wff': [{'name': None, 'src': 1, 'tgt': 1, 'gromet_type': 'GrometWire', 'metadata': None}, {'name': None, 'src': 2, 'tgt': 2, 'gromet_type': 'GrometWire', 'metadata': None}, {'name': None, 'src': 3, 'tgt': 3, 'gromet_type': 'GrometWire', 'metadata': None}, {'name': None, 'src': 4, 'tgt': 3, 'gromet_type': 'GrometWire', 'metadata': None}], 'wfc': None, 'wfopo': None, 'bl': None, 'pil': None, 'pol': None, 'wlopi': None, 'wll': None, 'wlf': None, 'wlc': None, 'wlopo': None, 'bc': None, 'pic': None, 'poc': None, 'wcopi': None, 'wcl': None, 'wcf': None, 'wcc': None, 'wcopo': None, 'gromet_type': 'GrometFN', 'metadata': 8}], 'metadata_collection': [[], [{'metadata_type': 'source_code_collection', 'name': '', 'global_reference_id': '', 'files': [{'uid': 'ac6824c1-dadb-783c-c194-7c2214ec75e8', 'name': 'driver.py', 'path': ''}], 'provenance': {'method': 'skema_code2fn_program_analysis', 'timestamp': '2023-07-06 02:51:24.808118'}}, {'metadata_type': 'gromet_creation', 'gromet_version': '0.1.2', 'provenance': {'method': 'skema_code2fn_program_analysis', 'timestamp': '2023-07-06 02:51:24.808133'}}], [{'metadata_type': 'source_code_reference', 'code_file_reference_uid': 'ac6824c1-dadb-783c-c194-7c2214ec75e8', 'line_begin': 1, 'line_end': 5, 'col_begin': None, 'col_end': None, 'provenance': {'method': 'skema_code2fn_program_analysis', 'timestamp': '2023-07-06 02:51:24.808148'}}], [{'metadata_type': 'source_code_reference', 'code_file_reference_uid': 'ac6824c1-dadb-783c-c194-7c2214ec75e8', 'line_begin': 3, 'line_end': 4, 'col_begin': 0, 'col_end': 23, 'provenance': {'method': 'skema_code2fn_program_analysis', 'timestamp': '2023-07-06 02:51:24.808209'}}], [{'metadata_type': 'source_code_data_type', 'source_language': 'Python', 'source_language_version': '3.8', 'data_type': \"<class 'str'>\", 'provenance': {'method': 'skema_code2fn_program_analysis', 'timestamp': '2023-07-06 02:51:24.808294'}}, {'metadata_type': 'source_code_reference', 'code_file_reference_uid': 'ac6824c1-dadb-783c-c194-7c2214ec75e8', 'line_begin': 3, 'line_end': 3, 'col_begin': 15, 'col_end': 25, 'provenance': {'method': 'skema_code2fn_program_analysis', 'timestamp': '2023-07-06 02:51:24.808283'}}], [{'metadata_type': 'source_code_reference', 'code_file_reference_uid': 'ac6824c1-dadb-783c-c194-7c2214ec75e8', 'line_begin': 3, 'line_end': 3, 'col_begin': 3, 'col_end': 25, 'provenance': {'method': 'skema_code2fn_program_analysis', 'timestamp': '2023-07-06 02:51:24.808325'}}], [{'metadata_type': 'source_code_reference', 'code_file_reference_uid': 'ac6824c1-dadb-783c-c194-7c2214ec75e8', 'line_begin': 3, 'line_end': 3, 'col_begin': 3, 'col_end': 25, 'provenance': {'method': 'skema_code2fn_program_analysis', 'timestamp': '2023-07-06 02:51:24.808387'}}], [{'metadata_type': 'source_code_reference', 'code_file_reference_uid': 'ac6824c1-dadb-783c-c194-7c2214ec75e8', 'line_begin': 4, 'line_end': 4, 'col_begin': 4, 'col_end': 23, 'provenance': {'method': 'skema_code2fn_program_analysis', 'timestamp': '2023-07-06 02:51:24.808415'}}], [{'metadata_type': 'source_code_reference', 'code_file_reference_uid': 'ac6824c1-dadb-783c-c194-7c2214ec75e8', 'line_begin': 4, 'line_end': 4, 'col_begin': 4, 'col_end': 23, 'provenance': {'method': 'skema_code2fn_program_analysis', 'timestamp': '2023-07-06 02:51:24.808494'}}], [{'metadata_type': 'source_code_data_type', 'source_language': 'Python', 'source_language_version': '3.8', 'data_type': \"<class 'int'>\", 'provenance': {'method': 'skema_code2fn_program_analysis', 'timestamp': '2023-07-06 02:51:24.808565'}}, {'metadata_type': 'source_code_reference', 'code_file_reference_uid': 'ac6824c1-dadb-783c-c194-7c2214ec75e8', 'line_begin': 4, 'line_end': 4, 'col_begin': 16, 'col_end': 17, 'provenance': {'method': 'skema_code2fn_program_analysis', 'timestamp': '2023-07-06 02:51:24.808556'}}], [{'metadata_type': 'source_code_data_type', 'source_language': 'Python', 'source_language_version': '3.8', 'data_type': \"<class 'int'>\", 'provenance': {'method': 'skema_code2fn_program_analysis', 'timestamp': '2023-07-06 02:51:24.808610'}}, {'metadata_type': 'source_code_reference', 'code_file_reference_uid': 'ac6824c1-dadb-783c-c194-7c2214ec75e8', 'line_begin': 4, 'line_end': 4, 'col_begin': 18, 'col_end': 19, 'provenance': {'method': 'skema_code2fn_program_analysis', 'timestamp': '2023-07-06 02:51:24.808600'}}], [{'metadata_type': 'source_code_data_type', 'source_language': 'Python', 'source_language_version': '3.8', 'data_type': \"<class 'int'>\", 'provenance': {'method': 'skema_code2fn_program_analysis', 'timestamp': '2023-07-06 02:51:24.808654'}}, {'metadata_type': 'source_code_reference', 'code_file_reference_uid': 'ac6824c1-dadb-783c-c194-7c2214ec75e8', 'line_begin': 4, 'line_end': 4, 'col_begin': 20, 'col_end': 21, 'provenance': {'method': 'skema_code2fn_program_analysis', 'timestamp': '2023-07-06 02:51:24.808644'}}], [{'metadata_type': 'source_code_reference', 'code_file_reference_uid': 'ac6824c1-dadb-783c-c194-7c2214ec75e8', 'line_begin': 4, 'line_end': 4, 'col_begin': 10, 'col_end': 22, 'provenance': {'method': 'skema_code2fn_program_analysis', 'timestamp': '2023-07-06 02:51:24.808703'}}]], 'gromet_type': 'GrometFNModule', 'metadata': 2}, {'schema': 'FN', 'schema_version': '0.1.7', 'name': 'model', 'fn': {'name': None, 'b': [{'function_type': 'MODULE', 'body': None, 'import_type': None, 'import_version': None, 'import_source': None, 'source_language': None, 'source_language_version': None, 'value': None, 'gromet_type': 'GrometBoxFunction', 'name': 'module', 'metadata': 3}], 'opi': None, 'opo': None, 'wopio': None, 'bf': None, 'pif': None, 'pof': None, 'wfopi': None, 'wfl': None, 'wff': None, 'wfc': None, 'wfopo': None, 'bl': None, 'pil': None, 'pol': None, 'wlopi': None, 'wll': None, 'wlf': None, 'wlc': None, 'wlopo': None, 'bc': None, 'pic': None, 'poc': None, 'wcopi': None, 'wcl': None, 'wcf': None, 'wcc': None, 'wcopo': None, 'gromet_type': 'GrometFN', 'metadata': None}, 'fn_array': [{'name': None, 'b': [{'function_type': 'FUNCTION', 'body': None, 'import_type': None, 'import_version': None, 'import_source': None, 'source_language': None, 'source_language_version': None, 'value': None, 'gromet_type': 'GrometBoxFunction', 'name': 'model_id0', 'metadata': 4}], 'opi': [{'id': 1, 'name': 'x', 'box': 1, 'default_value': None, 'gromet_type': 'GrometPort', 'metadata': 5}, {'id': 2, 'name': 'y', 'box': 1, 'default_value': None, 'gromet_type': 'GrometPort', 'metadata': 6}, {'id': 3, 'name': 'z', 'box': 1, 'default_value': None, 'gromet_type': 'GrometPort', 'metadata': 7}], 'opo': [{'id': 1, 'name': None, 'box': 1, 'default_value': None, 'gromet_type': 'GrometPort', 'metadata': 10}], 'wopio': None, 'bf': [{'function_type': 'LANGUAGE_PRIMITIVE', 'body': None, 'import_type': None, 'import_version': None, 'import_source': None, 'source_language': None, 'source_language_version': None, 'value': None, 'gromet_type': 'GrometBoxFunction', 'name': 'ast.Add', 'metadata': 8}, {'function_type': 'LANGUAGE_PRIMITIVE', 'body': None, 'import_type': None, 'import_version': None, 'import_source': None, 'source_language': None, 'source_language_version': None, 'value': None, 'gromet_type': 'GrometBoxFunction', 'name': 'ast.Sub', 'metadata': 9}], 'pif': [{'id': 1, 'name': None, 'box': 1, 'default_value': None, 'gromet_type': 'GrometPort', 'metadata': None}, {'id': 2, 'name': None, 'box': 1, 'default_value': None, 'gromet_type': 'GrometPort', 'metadata': None}, {'id': 1, 'name': None, 'box': 2, 'default_value': None, 'gromet_type': 'GrometPort', 'metadata': None}, {'id': 2, 'name': None, 'box': 2, 'default_value': None, 'gromet_type': 'GrometPort', 'metadata': None}], 'pof': [{'id': 1, 'name': None, 'box': 1, 'default_value': None, 'gromet_type': 'GrometPort', 'metadata': None}, {'id': 1, 'name': None, 'box': 2, 'default_value': None, 'gromet_type': 'GrometPort', 'metadata': None}], 'wfopi': [{'name': None, 'src': 1, 'tgt': 1, 'gromet_type': 'GrometWire', 'metadata': None}, {'name': None, 'src': 2, 'tgt': 2, 'gromet_type': 'GrometWire', 'metadata': None}, {'name': None, 'src': 4, 'tgt': 3, 'gromet_type': 'GrometWire', 'metadata': None}], 'wfl': None, 'wff': [{'name': None, 'src': 3, 'tgt': 1, 'gromet_type': 'GrometWire', 'metadata': None}], 'wfc': None, 'wfopo': [{'name': None, 'src': 1, 'tgt': 2, 'gromet_type': 'GrometWire', 'metadata': None}], 'bl': None, 'pil': None, 'pol': None, 'wlopi': None, 'wll': None, 'wlf': None, 'wlc': None, 'wlopo': None, 'bc': None, 'pic': None, 'poc': None, 'wcopi': None, 'wcl': None, 'wcf': None, 'wcc': None, 'wcopo': None, 'gromet_type': 'GrometFN', 'metadata': None}], 'metadata_collection': [[], [{'metadata_type': 'source_code_collection', 'name': '', 'global_reference_id': '', 'files': [{'uid': '28178a11-e6f8-f9cc-1710-6c8430efdf5d', 'name': 'model.py', 'path': ''}], 'provenance': {'method': 'skema_code2fn_program_analysis', 'timestamp': '2023-07-06 02:51:24.810764'}}, {'metadata_type': 'gromet_creation', 'gromet_version': '0.1.2', 'provenance': {'method': 'skema_code2fn_program_analysis', 'timestamp': '2023-07-06 02:51:24.810777'}}], [{'metadata_type': 'source_code_reference', 'code_file_reference_uid': '28178a11-e6f8-f9cc-1710-6c8430efdf5d', 'line_begin': 1, 'line_end': 2, 'col_begin': None, 'col_end': None, 'provenance': {'method': 'skema_code2fn_program_analysis', 'timestamp': '2023-07-06 02:51:24.810791'}}], [{'metadata_type': 'source_code_reference', 'code_file_reference_uid': '28178a11-e6f8-f9cc-1710-6c8430efdf5d', 'line_begin': 1, 'line_end': 2, 'col_begin': 0, 'col_end': 20, 'provenance': {'method': 'skema_code2fn_program_analysis', 'timestamp': '2023-07-06 02:51:24.810846'}}], [{'metadata_type': 'source_code_reference', 'code_file_reference_uid': '28178a11-e6f8-f9cc-1710-6c8430efdf5d', 'line_begin': 1, 'line_end': 1, 'col_begin': 10, 'col_end': 11, 'provenance': {'method': 'skema_code2fn_program_analysis', 'timestamp': '2023-07-06 02:51:24.810875'}}], [{'metadata_type': 'source_code_reference', 'code_file_reference_uid': '28178a11-e6f8-f9cc-1710-6c8430efdf5d', 'line_begin': 1, 'line_end': 1, 'col_begin': 13, 'col_end': 14, 'provenance': {'method': 'skema_code2fn_program_analysis', 'timestamp': '2023-07-06 02:51:24.810906'}}], [{'metadata_type': 'source_code_reference', 'code_file_reference_uid': '28178a11-e6f8-f9cc-1710-6c8430efdf5d', 'line_begin': 1, 'line_end': 1, 'col_begin': 16, 'col_end': 17, 'provenance': {'method': 'skema_code2fn_program_analysis', 'timestamp': '2023-07-06 02:51:24.810938'}}], [{'metadata_type': 'source_code_reference', 'code_file_reference_uid': '28178a11-e6f8-f9cc-1710-6c8430efdf5d', 'line_begin': 2, 'line_end': 2, 'col_begin': 11, 'col_end': 16, 'provenance': {'method': 'skema_code2fn_program_analysis', 'timestamp': '2023-07-06 02:51:24.810991'}}], [{'metadata_type': 'source_code_reference', 'code_file_reference_uid': '28178a11-e6f8-f9cc-1710-6c8430efdf5d', 'line_begin': 2, 'line_end': 2, 'col_begin': 11, 'col_end': 20, 'provenance': {'method': 'skema_code2fn_program_analysis', 'timestamp': '2023-07-06 02:51:24.811048'}}], [{'metadata_type': 'source_code_reference', 'code_file_reference_uid': '28178a11-e6f8-f9cc-1710-6c8430efdf5d', 'line_begin': 2, 'line_end': 2, 'col_begin': 4, 'col_end': 20, 'provenance': {'method': 'skema_code2fn_program_analysis', 'timestamp': '2023-07-06 02:51:24.811095'}}]], 'gromet_type': 'GrometFNModule', 'metadata': 2}, {'schema': 'FN', 'schema_version': '0.1.7', 'name': 'util', 'fn': {'name': None, 'b': [{'function_type': 'MODULE', 'body': None, 'import_type': None, 'import_version': None, 'import_source': None, 'source_language': None, 'source_language_version': None, 'value': None, 'gromet_type': 'GrometBoxFunction', 'name': 'module', 'metadata': 3}], 'opi': None, 'opo': None, 'wopio': None, 'bf': None, 'pif': None, 'pof': None, 'wfopi': None, 'wfl': None, 'wff': None, 'wfc': None, 'wfopo': None, 'bl': None, 'pil': None, 'pol': None, 'wlopi': None, 'wll': None, 'wlf': None, 'wlc': None, 'wlopo': None, 'bc': None, 'pic': None, 'poc': None, 'wcopi': None, 'wcl': None, 'wcf': None, 'wcc': None, 'wcopo': None, 'gromet_type': 'GrometFN', 'metadata': None}, 'fn_array': [{'name': None, 'b': [{'function_type': 'FUNCTION', 'body': None, 'import_type': None, 'import_version': None, 'import_source': None, 'source_language': None, 'source_language_version': None, 'value': None, 'gromet_type': 'GrometBoxFunction', 'name': 'model_tester_id0', 'metadata': 4}], 'opi': [{'id': 1, 'name': 'x', 'box': 1, 'default_value': None, 'gromet_type': 'GrometPort', 'metadata': 5}, {'id': 2, 'name': 'y', 'box': 1, 'default_value': None, 'gromet_type': 'GrometPort', 'metadata': 6}, {'id': 3, 'name': 'z', 'box': 1, 'default_value': None, 'gromet_type': 'GrometPort', 'metadata': 7}, {'id': 4, 'name': 'result', 'box': 1, 'default_value': None, 'gromet_type': 'GrometPort', 'metadata': 8}], 'opo': [{'id': 1, 'name': None, 'box': 1, 'default_value': None, 'gromet_type': 'GrometPort', 'metadata': 12}], 'wopio': None, 'bf': [{'function_type': 'LANGUAGE_PRIMITIVE', 'body': None, 'import_type': None, 'import_version': None, 'import_source': None, 'source_language': None, 'source_language_version': None, 'value': None, 'gromet_type': 'GrometBoxFunction', 'name': 'ast.Add', 'metadata': 9}, {'function_type': 'LANGUAGE_PRIMITIVE', 'body': None, 'import_type': None, 'import_version': None, 'import_source': None, 'source_language': None, 'source_language_version': None, 'value': None, 'gromet_type': 'GrometBoxFunction', 'name': 'ast.Sub', 'metadata': 10}, {'function_type': 'LANGUAGE_PRIMITIVE', 'body': None, 'import_type': None, 'import_version': None, 'import_source': None, 'source_language': None, 'source_language_version': None, 'value': None, 'gromet_type': 'GrometBoxFunction', 'name': 'ast.Eq', 'metadata': 11}], 'pif': [{'id': 1, 'name': None, 'box': 1, 'default_value': None, 'gromet_type': 'GrometPort', 'metadata': None}, {'id': 2, 'name': None, 'box': 1, 'default_value': None, 'gromet_type': 'GrometPort', 'metadata': None}, {'id': 1, 'name': None, 'box': 2, 'default_value': None, 'gromet_type': 'GrometPort', 'metadata': None}, {'id': 2, 'name': None, 'box': 2, 'default_value': None, 'gromet_type': 'GrometPort', 'metadata': None}, {'id': 1, 'name': None, 'box': 3, 'default_value': None, 'gromet_type': 'GrometPort', 'metadata': None}, {'id': 2, 'name': None, 'box': 3, 'default_value': None, 'gromet_type': 'GrometPort', 'metadata': None}], 'pof': [{'id': 1, 'name': None, 'box': 1, 'default_value': None, 'gromet_type': 'GrometPort', 'metadata': None}, {'id': 1, 'name': None, 'box': 2, 'default_value': None, 'gromet_type': 'GrometPort', 'metadata': None}, {'id': 1, 'name': None, 'box': 3, 'default_value': None, 'gromet_type': 'GrometPort', 'metadata': None}], 'wfopi': [{'name': None, 'src': 1, 'tgt': 1, 'gromet_type': 'GrometWire', 'metadata': None}, {'name': None, 'src': 2, 'tgt': 2, 'gromet_type': 'GrometWire', 'metadata': None}, {'name': None, 'src': 4, 'tgt': 3, 'gromet_type': 'GrometWire', 'metadata': None}, {'name': None, 'src': 6, 'tgt': 4, 'gromet_type': 'GrometWire', 'metadata': None}], 'wfl': None, 'wff': [{'name': None, 'src': 3, 'tgt': 1, 'gromet_type': 'GrometWire', 'metadata': None}, {'name': None, 'src': 5, 'tgt': 2, 'gromet_type': 'GrometWire', 'metadata': None}], 'wfc': None, 'wfopo': [{'name': None, 'src': 1, 'tgt': 3, 'gromet_type': 'GrometWire', 'metadata': None}], 'bl': None, 'pil': None, 'pol': None, 'wlopi': None, 'wll': None, 'wlf': None, 'wlc': None, 'wlopo': None, 'bc': None, 'pic': None, 'poc': None, 'wcopi': None, 'wcl': None, 'wcf': None, 'wcc': None, 'wcopo': None, 'gromet_type': 'GrometFN', 'metadata': None}], 'metadata_collection': [[], [{'metadata_type': 'source_code_collection', 'name': '', 'global_reference_id': '', 'files': [{'uid': '46208e0d-6435-cb9f-e611-2a6ec4ee7d9d', 'name': 'util.py', 'path': ''}], 'provenance': {'method': 'skema_code2fn_program_analysis', 'timestamp': '2023-07-06 02:51:24.813307'}}, {'metadata_type': 'gromet_creation', 'gromet_version': '0.1.2', 'provenance': {'method': 'skema_code2fn_program_analysis', 'timestamp': '2023-07-06 02:51:24.813320'}}], [{'metadata_type': 'source_code_reference', 'code_file_reference_uid': '46208e0d-6435-cb9f-e611-2a6ec4ee7d9d', 'line_begin': 1, 'line_end': 2, 'col_begin': None, 'col_end': None, 'provenance': {'method': 'skema_code2fn_program_analysis', 'timestamp': '2023-07-06 02:51:24.813333'}}], [{'metadata_type': 'source_code_reference', 'code_file_reference_uid': '46208e0d-6435-cb9f-e611-2a6ec4ee7d9d', 'line_begin': 1, 'line_end': 2, 'col_begin': 0, 'col_end': 26, 'provenance': {'method': 'skema_code2fn_program_analysis', 'timestamp': '2023-07-06 02:51:24.813387'}}], [{'metadata_type': 'source_code_reference', 'code_file_reference_uid': '46208e0d-6435-cb9f-e611-2a6ec4ee7d9d', 'line_begin': 1, 'line_end': 1, 'col_begin': 17, 'col_end': 18, 'provenance': {'method': 'skema_code2fn_program_analysis', 'timestamp': '2023-07-06 02:51:24.813417'}}], [{'metadata_type': 'source_code_reference', 'code_file_reference_uid': '46208e0d-6435-cb9f-e611-2a6ec4ee7d9d', 'line_begin': 1, 'line_end': 1, 'col_begin': 20, 'col_end': 21, 'provenance': {'method': 'skema_code2fn_program_analysis', 'timestamp': '2023-07-06 02:51:24.813449'}}], [{'metadata_type': 'source_code_reference', 'code_file_reference_uid': '46208e0d-6435-cb9f-e611-2a6ec4ee7d9d', 'line_begin': 1, 'line_end': 1, 'col_begin': 23, 'col_end': 24, 'provenance': {'method': 'skema_code2fn_program_analysis', 'timestamp': '2023-07-06 02:51:24.813490'}}], [{'metadata_type': 'source_code_reference', 'code_file_reference_uid': '46208e0d-6435-cb9f-e611-2a6ec4ee7d9d', 'line_begin': 1, 'line_end': 1, 'col_begin': 26, 'col_end': 32, 'provenance': {'method': 'skema_code2fn_program_analysis', 'timestamp': '2023-07-06 02:51:24.813521'}}], [{'metadata_type': 'source_code_reference', 'code_file_reference_uid': '46208e0d-6435-cb9f-e611-2a6ec4ee7d9d', 'line_begin': 2, 'line_end': 2, 'col_begin': 11, 'col_end': 14, 'provenance': {'method': 'skema_code2fn_program_analysis', 'timestamp': '2023-07-06 02:51:24.813580'}}], [{'metadata_type': 'source_code_reference', 'code_file_reference_uid': '46208e0d-6435-cb9f-e611-2a6ec4ee7d9d', 'line_begin': 2, 'line_end': 2, 'col_begin': 11, 'col_end': 16, 'provenance': {'method': 'skema_code2fn_program_analysis', 'timestamp': '2023-07-06 02:51:24.813638'}}], [{'metadata_type': 'source_code_reference', 'code_file_reference_uid': '46208e0d-6435-cb9f-e611-2a6ec4ee7d9d', 'line_begin': 2, 'line_end': 2, 'col_begin': 11, 'col_end': 26, 'provenance': {'method': 'skema_code2fn_program_analysis', 'timestamp': '2023-07-06 02:51:24.813692'}}], [{'metadata_type': 'source_code_reference', 'code_file_reference_uid': '46208e0d-6435-cb9f-e611-2a6ec4ee7d9d', 'line_begin': 2, 'line_end': 2, 'col_begin': 4, 'col_end': 26, 'provenance': {'method': 'skema_code2fn_program_analysis', 'timestamp': '2023-07-06 02:51:24.813739'}}]], 'gromet_type': 'GrometFNModule', 'metadata': 2}], 'module_index': ['system_test.driver', 'system_test.model', 'system_test.util.util'], 'executables': [], 'gromet_type': 'GrometFNModuleCollection', 'metadata': None}\n"
     ]
    }
   ],
   "source": [
    "post_data = {\n",
    "    \"files\":[\"exp0.py\", \"exp1.py\"],\n",
    "    \"blobs\":[\"x=2\", \"x=2\\ny=1\"],\n",
    "}\n",
    "\n",
    "response_multi = requests.post(URL, json=post_data)\n",
    "print(response_multi.json())"
   ]
  },
  {
   "cell_type": "markdown",
   "id": "a457020b",
   "metadata": {},
   "source": [
    "## Process a system with optional arguments"
   ]
  },
  {
   "cell_type": "code",
   "execution_count": null,
   "id": "006ce91a",
   "metadata": {},
   "outputs": [],
   "source": [
    "post_data = {\n",
    "    \"files\":[\"example1.py\", \"dir/example2.py\"],\n",
    "    \"blobs\":[\"import minimal\\nx=minimal.add(1,2)\", \"#Variable declaration\\nx=2\\n#Function definition\\ndef foo(x):\\n    '''Increment the input variable'''\\n    return x+1\",],\n",
    "    \"system_name\": \"examples\",\n",
    "    \"root_name\": \"example-system\",\n",
    "    \"comments\": {\n",
    "            \"files\": {\n",
    "                \"example-system/dir/example2.py\": {\n",
    "                    \"single\": [\n",
    "                        {\"content\": \"Variable declaration\", \"line_number\": 0},\n",
    "                        {\"content\": \"Function definition\", \"line_number\": 2},\n",
    "                    ],\n",
    "                    \"multi\": [],\n",
    "                    \"docstring\": [\n",
    "                        {\n",
    "                            \"content\": [\"Increment the input variable\"],\n",
    "                            \"function_name\": \"foo\",\n",
    "                            \"start_line_number\": 5,\n",
    "                            \"end_line_number\": 6,\n",
    "                        }\n",
    "                    ],\n",
    "                }\n",
    "            }\n",
    "        },\n",
    "    \"dependency_depth\": 1\n",
    "}\n",
    "\n",
    "response_multi = requests.post(URL, json=post_data)\n",
    "print(response_multi.json())"
   ]
  }
 ],
 "metadata": {
  "kernelspec": {
   "display_name": "Python 3 (ipykernel)",
   "language": "python",
   "name": "python3"
  },
  "language_info": {
   "codemirror_mode": {
    "name": "ipython",
    "version": 3
   },
   "file_extension": ".py",
   "mimetype": "text/x-python",
   "name": "python",
   "nbconvert_exporter": "python",
   "pygments_lexer": "ipython3",
   "version": "3.8.17"
  }
 },
 "nbformat": 4,
 "nbformat_minor": 5
}
