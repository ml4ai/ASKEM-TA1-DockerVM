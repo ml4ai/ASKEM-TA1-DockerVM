{
 "cells": [
  {
   "cell_type": "code",
   "execution_count": 82,
   "metadata": {},
   "outputs": [],
   "source": [
    "from IPython.display import display, HTML, Image\n",
    "from pathlib import Path\n",
    "import requests\n",
    "import json\n",
    "import os\n",
    "\n",
    "SKEMA_ADDRESS = os.environ.get(\"SKEMA_ADDRESS\", \"https://api.askem.lum.ai\")"
   ]
  },
  {
   "cell_type": "code",
   "execution_count": 90,
   "metadata": {},
   "outputs": [],
   "source": [
    "zipfile_path =  \"../data/code/code_sir.zip\""
   ]
  },
  {
   "cell_type": "code",
   "execution_count": 93,
   "metadata": {},
   "outputs": [
    {
     "data": {
      "text/plain": [
       "{'header': {'name': 'mathml model',\n",
       "  'schema': 'https://github.com/DARPA-ASKEM/Model-Representations/blob/main/petrinet/petrinet_schema.json',\n",
       "  'schema_name': 'PetriNet',\n",
       "  'description': 'This is a model from equations',\n",
       "  'model_version': '0.1'},\n",
       " 'model': {'states': [{'id': 'i', 'name': 'i'},\n",
       "   {'id': 'r', 'name': 'r'},\n",
       "   {'id': 's', 'name': 's'}],\n",
       "  'transitions': [{'id': 't0', 'input': ['i', 's'], 'output': ['i', 'i']},\n",
       "   {'id': 't1', 'input': ['i'], 'output': ['r']}]},\n",
       " 'semantics': {'ode': {'rates': [{'target': 't0',\n",
       "     'expression': 'beta*i*s',\n",
       "     'expression_mathml': '<apply><times/><ci>i</ci><ci>beta</ci><ci>s</ci></apply>'},\n",
       "    {'target': 't1',\n",
       "     'expression': 'gamma*i',\n",
       "     'expression_mathml': '<apply><times/><ci>gamma</ci><ci>i</ci></apply>'}],\n",
       "   'initials': [{'target': 'i', 'expression': '', 'expression_mathml': ''},\n",
       "    {'target': 'r', 'expression': '', 'expression_mathml': ''},\n",
       "    {'target': 's', 'expression': '', 'expression_mathml': ''}],\n",
       "   'parameters': [{'id': 'beta', 'name': 'beta'},\n",
       "    {'id': 'gamma', 'name': 'gamma'}]}}}"
      ]
     },
     "execution_count": 93,
     "metadata": {},
     "output_type": "execute_result"
    }
   ],
   "source": [
    "URL = f\"{SKEMA_ADDRESS}/workflows/code/codebase-to-pn-amr\"\n",
    "response_zip = requests.post(URL, files={\"zip_file\": open(zipfile_path, \"rb\")},)\n",
    "response_zip.json()"
   ]
  },
  {
   "cell_type": "code",
   "execution_count": 94,
   "metadata": {},
   "outputs": [
    {
     "data": {
      "text/plain": [
       "<Response [500]>"
      ]
     },
     "execution_count": 94,
     "metadata": {},
     "output_type": "execute_result"
    }
   ],
   "source": [
    "URL = f\"{SKEMA_ADDRESS}/morae/linespan-given-filepaths-zip\"\n",
    "response_zip = requests.post(URL, files={\"zip_file\": open(zipfile_path, \"rb\")},)\n",
    "response_zip.json()"
   ]
  },
  {
   "attachments": {},
   "cell_type": "markdown",
   "metadata": {},
   "source": [
    "This is for testing the code2amr endpoint. First is the just the core dynamics selected. "
   ]
  },
  {
   "cell_type": "code",
   "execution_count": 83,
   "metadata": {},
   "outputs": [],
   "source": [
    "single_snippet_payload = {\n",
    "        \"files\": [\"SIDARTHE.py\"],\n",
    "        \"blobs\": [open(\"../data/code/knowledge-middleware/testing_suite_chime.py\").read()],\n",
    "    }"
   ]
  },
  {
   "cell_type": "code",
   "execution_count": 86,
   "metadata": {},
   "outputs": [],
   "source": [
    "single_snippet_payload = {\n",
    "        \"files\": [\"SIDARTHE.py\"],\n",
    "        \"blobs\": [open(\"../data/code/knowledge-middleware/SIDARTHE_full.py\").read()],\n",
    "    }"
   ]
  },
  {
   "cell_type": "code",
   "execution_count": 88,
   "metadata": {},
   "outputs": [],
   "source": [
    "single_snippet_payload = {\n",
    "        \"files\": [\"SIDARTHE.py\"],\n",
    "        \"blobs\": [open(\"../data/code/knowledge-middleware/12-month-scen3.py\").read()],\n",
    "    }"
   ]
  },
  {
   "cell_type": "code",
   "execution_count": null,
   "metadata": {},
   "outputs": [],
   "source": [
    "URL = f\"{SKEMA_ADDRESS}/workflows/code/snippets-to-pn-amr\"\n",
    "response_zip = requests.post(URL, json=single_snippet_payload)\n",
    "response_zip.json()"
   ]
  },
  {
   "cell_type": "code",
   "execution_count": null,
   "metadata": {},
   "outputs": [],
   "source": [
    "single_snippet_payload = {\"files\": [\"code.py\"], \"blobs\": [\"def sir(\\n    s: float, i: float, r: float, beta: float, gamma: float, n: float\\n) -> Tuple[float, float, float]:\\n    \\\"\\\"\\\"The SIR model, one time step.\\\"\\\"\\\"\\n    s_n = (-beta * s * i) + s\\n    i_n = (beta * s * i - gamma * i) + i\\n    r_n = gamma * i + r\\n    scale = n / (s_n + i_n + r_n)\\n    return s_n * scale, i_n * scale, r_n * scale\"],}"
   ]
  },
  {
   "attachments": {},
   "cell_type": "markdown",
   "metadata": {},
   "source": [
    "Now we test for the full code file"
   ]
  },
  {
   "cell_type": "code",
   "execution_count": 95,
   "metadata": {},
   "outputs": [],
   "source": [
    "single_snippet_payload = {\n",
    "        \"files\": [\"SIDARTHE.py\"],\n",
    "        \"blobs\": [open(\"../data/code/core_dynamics/SIDARTHE_core.py\").read()],\n",
    "    }"
   ]
  },
  {
   "cell_type": "code",
   "execution_count": 96,
   "metadata": {},
   "outputs": [
    {
     "data": {
      "text/plain": [
       "{'header': {'name': 'mathml model',\n",
       "  'schema': 'https://github.com/DARPA-ASKEM/Model-Representations/blob/main/petrinet/petrinet_schema.json',\n",
       "  'schema_name': 'PetriNet',\n",
       "  'description': 'This is a model from equations',\n",
       "  'model_version': '0.1'},\n",
       " 'model': {'states': [{'id': 'A', 'name': 'A'},\n",
       "   {'id': 'D', 'name': 'D'},\n",
       "   {'id': 'E', 'name': 'E'},\n",
       "   {'id': 'H', 'name': 'H'},\n",
       "   {'id': 'I', 'name': 'I'},\n",
       "   {'id': 'R', 'name': 'R'},\n",
       "   {'id': 'S', 'name': 'S'},\n",
       "   {'id': 'T', 'name': 'T'}],\n",
       "  'transitions': [{'id': 't0', 'input': ['I', 'S'], 'output': ['I', 'I']},\n",
       "   {'id': 't1', 'input': ['D', 'S'], 'output': ['I', 'D']},\n",
       "   {'id': 't10', 'input': ['D'], 'output': ['H']},\n",
       "   {'id': 't11', 'input': ['A'], 'output': ['H']},\n",
       "   {'id': 't12', 'input': ['R'], 'output': ['H']},\n",
       "   {'id': 't13', 'input': ['T'], 'output': ['H']},\n",
       "   {'id': 't14', 'input': ['T'], 'output': ['E']},\n",
       "   {'id': 't15', 'input': ['I'], 'output': ['D']},\n",
       "   {'id': 't2', 'input': ['A', 'S'], 'output': ['I', 'A']},\n",
       "   {'id': 't3', 'input': ['R', 'S'], 'output': ['I', 'R']},\n",
       "   {'id': 't4', 'input': ['I'], 'output': ['A']},\n",
       "   {'id': 't5', 'input': ['D'], 'output': ['R']},\n",
       "   {'id': 't6', 'input': ['A'], 'output': ['R']},\n",
       "   {'id': 't7', 'input': ['A'], 'output': ['T']},\n",
       "   {'id': 't8', 'input': ['R'], 'output': ['T']},\n",
       "   {'id': 't9', 'input': ['I'], 'output': ['H']}]},\n",
       " 'semantics': {'ode': {'rates': [{'target': 't0',\n",
       "     'expression': 'alpha*I*S',\n",
       "     'expression_mathml': '<apply><times/><ci>S</ci><ci>alpha</ci><ci>I</ci></apply>'},\n",
       "    {'target': 't1',\n",
       "     'expression': 'beta*D*S',\n",
       "     'expression_mathml': '<apply><times/><ci>S</ci><ci>beta</ci><ci>D</ci></apply>'},\n",
       "    {'target': 't2',\n",
       "     'expression': 'gamma*A*S',\n",
       "     'expression_mathml': '<apply><times/><ci>S</ci><ci>gamma</ci><ci>A</ci></apply>'},\n",
       "    {'target': 't3',\n",
       "     'expression': 'delta*R*S',\n",
       "     'expression_mathml': '<apply><times/><ci>S</ci><ci>delta</ci><ci>R</ci></apply>'},\n",
       "    {'target': 't4',\n",
       "     'expression': 'zeta*I',\n",
       "     'expression_mathml': '<apply><times/><ci>zeta</ci><ci>I</ci></apply>'},\n",
       "    {'target': 't5',\n",
       "     'expression': 'eta*D',\n",
       "     'expression_mathml': '<apply><times/><ci>eta</ci><ci>D</ci></apply>'},\n",
       "    {'target': 't6',\n",
       "     'expression': 'theta*A',\n",
       "     'expression_mathml': '<apply><times/><ci>theta</ci><ci>A</ci></apply>'},\n",
       "    {'target': 't7',\n",
       "     'expression': 'mu*A',\n",
       "     'expression_mathml': '<apply><times/><ci>mu</ci><ci>A</ci></apply>'},\n",
       "    {'target': 't8',\n",
       "     'expression': 'nu*R',\n",
       "     'expression_mathml': '<apply><times/><ci>nu</ci><ci>R</ci></apply>'},\n",
       "    {'target': 't9',\n",
       "     'expression': 'lamb*I',\n",
       "     'expression_mathml': '<apply><times/><ci>lamb</ci><ci>I</ci></apply>'},\n",
       "    {'target': 't10',\n",
       "     'expression': 'rho*D',\n",
       "     'expression_mathml': '<apply><times/><ci>rho</ci><ci>D</ci></apply>'},\n",
       "    {'target': 't11',\n",
       "     'expression': 'kappa*A',\n",
       "     'expression_mathml': '<apply><times/><ci>kappa</ci><ci>A</ci></apply>'},\n",
       "    {'target': 't12',\n",
       "     'expression': 'xi*R',\n",
       "     'expression_mathml': '<apply><times/><ci>xi</ci><ci>R</ci></apply>'},\n",
       "    {'target': 't13',\n",
       "     'expression': 'sigma*T',\n",
       "     'expression_mathml': '<apply><times/><ci>sigma</ci><ci>T</ci></apply>'},\n",
       "    {'target': 't14',\n",
       "     'expression': 'tau*T',\n",
       "     'expression_mathml': '<apply><times/><ci>tau</ci><ci>T</ci></apply>'},\n",
       "    {'target': 't15',\n",
       "     'expression': 'epsilon*I',\n",
       "     'expression_mathml': '<apply><times/><ci>epsilon</ci><ci>I</ci></apply>'}],\n",
       "   'initials': [{'target': 'A', 'expression': '', 'expression_mathml': ''},\n",
       "    {'target': 'R', 'expression': '', 'expression_mathml': ''},\n",
       "    {'target': 'T', 'expression': '', 'expression_mathml': ''},\n",
       "    {'target': 'H', 'expression': '', 'expression_mathml': ''},\n",
       "    {'target': 'E', 'expression': '', 'expression_mathml': ''},\n",
       "    {'target': 'S', 'expression': '', 'expression_mathml': ''},\n",
       "    {'target': 'I', 'expression': '', 'expression_mathml': ''},\n",
       "    {'target': 'D', 'expression': '', 'expression_mathml': ''}],\n",
       "   'parameters': [{'id': 'alpha', 'name': 'alpha'},\n",
       "    {'id': 'beta', 'name': 'beta'},\n",
       "    {'id': 'delta', 'name': 'delta'},\n",
       "    {'id': 'epsilon', 'name': 'epsilon'},\n",
       "    {'id': 'eta', 'name': 'eta'},\n",
       "    {'id': 'gamma', 'name': 'gamma'},\n",
       "    {'id': 'kappa', 'name': 'kappa'},\n",
       "    {'id': 'lamb', 'name': 'lamb'},\n",
       "    {'id': 'mu', 'name': 'mu'},\n",
       "    {'id': 'nu', 'name': 'nu'},\n",
       "    {'id': 'rho', 'name': 'rho'},\n",
       "    {'id': 'sigma', 'name': 'sigma'},\n",
       "    {'id': 'tau', 'name': 'tau'},\n",
       "    {'id': 'theta', 'name': 'theta'},\n",
       "    {'id': 'xi', 'name': 'xi'},\n",
       "    {'id': 'zeta', 'name': 'zeta'}]}}}"
      ]
     },
     "execution_count": 96,
     "metadata": {},
     "output_type": "execute_result"
    }
   ],
   "source": [
    "URL = f\"{SKEMA_ADDRESS}/workflows/code/snippets-to-pn-amr\"\n",
    "response_zip = requests.post(URL, json=single_snippet_payload)\n",
    "response_zip.json()"
   ]
  },
  {
   "attachments": {},
   "cell_type": "markdown",
   "metadata": {},
   "source": [
    "Now we test with distribution applied"
   ]
  },
  {
   "cell_type": "code",
   "execution_count": null,
   "metadata": {},
   "outputs": [],
   "source": [
    "single_snippet_payload = {\n",
    "        \"files\": [\"SIDARTHE.py\"],\n",
    "        \"blobs\": [open(\"../data/code/SEIRD_full_hack.py\").read()],\n",
    "    }"
   ]
  },
  {
   "cell_type": "code",
   "execution_count": null,
   "metadata": {},
   "outputs": [],
   "source": [
    "URL = f\"{SKEMA_ADDRESS}/workflows/code/snippets-to-pn-amr\"\n",
    "response_zip = requests.post(URL, json=single_snippet_payload)\n",
    "response_zip.json()"
   ]
  },
  {
   "cell_type": "code",
   "execution_count": null,
   "metadata": {},
   "outputs": [],
   "source": [
    "amr = json.dumps(response_zip.json(), indent=4)\n",
    "\n",
    "with open(\"testing_amr_output11.json\", \"w\") as outfile:\n",
    "    outfile.write(amr)"
   ]
  },
  {
   "attachments": {},
   "cell_type": "markdown",
   "metadata": {},
   "source": [
    "This is for testing the eq2amr workflow through LaTeX"
   ]
  },
  {
   "cell_type": "code",
   "execution_count": null,
   "metadata": {},
   "outputs": [],
   "source": [
    "equations = {\n",
    "    \"equations\": [\n",
    "    \"\\\\frac{dS}{dt} = - \\\\beta I \\\\frac{S}{N}\",\n",
    "    \"\\\\frac{dE}{dt} = \\\\beta I \\\\frac{S}{N} - r_{EI}E\",\n",
    "    \"\\\\frac{dI}{dt} = r_{EI}E - r_{IR}p_{IR}I - r_{IH}p_{IH}I\",\n",
    "    \"\\\\frac{dH}{dt} = r_{IH}p_{IH}I - r_{HR}p_{HR}H - r_{HD}p_{HD}H\",\n",
    "    \"\\\\frac{dR}{dt} = r_{IR}p_{IR}I + r_{HR}p_{HR}H\",\n",
    "    \"\\\\frac{dD}{dt} = r_{HD}p_{HD}H\"\n",
    "    ],\n",
    "    \"model\": \"petrinet\"\n",
    "}"
   ]
  },
  {
   "cell_type": "code",
   "execution_count": null,
   "metadata": {},
   "outputs": [],
   "source": [
    "URL = f\"{SKEMA_ADDRESS}/workflows/latex/equations-to-amr\"\n",
    "response_zip = requests.post(URL, json=equations)\n",
    "print(json.dumps(response_zip.json()))"
   ]
  },
  {
   "cell_type": "code",
   "execution_count": null,
   "metadata": {},
   "outputs": [],
   "source": [
    "equations = {\n",
    "  \"equations\": [\n",
    "    \"<math><mfrac><mrow><mi>d</mi><mi>E</mi></mrow><mrow><mi>d</mi><mi>t</mi></mrow></mfrac><mo>=</mo><mi>&#x03B2;</mi><mi>I</mi><mi>S</mi><mo>&#x2212;</mo><mi>&#x03B4;</mi><mi>E</mi></math>\",\n",
    "\"<math><mfrac><mrow><mi>d</mi><mi>R</mi></mrow><mrow><mi>d</mi><mi>t</mi></mrow></mfrac><mo>=</mo><mi>(1&#x2212;&#x03B1;)</mi><mi>&#x03B3;</mi><mi>I</mi></math>\",\n",
    "\"<math><mfrac><mrow><mi>d</mi><mi>I</mi></mrow><mrow><mi>d</mi><mi>t</mi></mrow></mfrac><mo>=</mo><mi>&#x03B4;</mi><mi>E</mi><mo>&#x2212;</mo><mi>(1&#x2212;&#x03B1;)</mi><mi>&#x03B3;</mi><mi>I</mi><mo>&#x2212;</mo><mi>&#x03B1;</mi><mi>&#x03C1;</mi><mi>I</mi></math>\",\n",
    "\"<math><mfrac><mrow><mi>d</mi><mi>D</mi></mrow><mrow><mi>d</mi><mi>t</mi></mrow></mfrac><mo>=</mo><mi>&#x03B1;</mi><mi>&#x03C1;</mi><mi>I</mi></math>\",\n",
    "\"<math><mfrac><mrow><mi>d</mi><mi>S</mi></mrow><mrow><mi>d</mi><mi>t</mi></mrow></mfrac><mo>=</mo><mo>&#x2212;</mo><mi>&#x03B2;</mi><mi>I</mi><mi>S</mi></math>\"\n",
    "  ],\n",
    "  \"model\": \"petrinet\"\n",
    "}"
   ]
  },
  {
   "cell_type": "code",
   "execution_count": null,
   "metadata": {},
   "outputs": [],
   "source": [
    "URL = f\"{SKEMA_ADDRESS}/workflows/pmml/equations-to-amr\"\n",
    "response_zip = requests.post(URL, json=equations)\n",
    "response_zip.json()"
   ]
  },
  {
   "cell_type": "code",
   "execution_count": null,
   "metadata": {},
   "outputs": [],
   "source": [
    "# more testing now with using the local skema-rs \n",
    "SKEMA_ADDRESS = os.environ.get(\"SKEMA_ADDRESS\", \"http://localhost:8080\")"
   ]
  },
  {
   "cell_type": "code",
   "execution_count": null,
   "metadata": {},
   "outputs": [],
   "source": [
    "equations = {\n",
    "  \"mathml\": [\n",
    "    \"<math><mfrac><mrow><mi>d</mi><mi>E</mi></mrow><mrow><mi>d</mi><mi>t</mi></mrow></mfrac><mo>=</mo><mi>&#x03B2;</mi><mi>I</mi><mi>S</mi><mo>&#x2212;</mo><mi>&#x03B4;</mi><mi>E</mi></math>\",\n",
    "\"<math><mfrac><mrow><mi>d</mi><mi>R</mi></mrow><mrow><mi>d</mi><mi>t</mi></mrow></mfrac><mo>=</mo><mi>(1&#x2212;&#x03B1;)</mi><mi>&#x03B3;</mi><mi>I</mi></math>\",\n",
    "\"<math><mfrac><mrow><mi>d</mi><mi>I</mi></mrow><mrow><mi>d</mi><mi>t</mi></mrow></mfrac><mo>=</mo><mi>&#x03B4;</mi><mi>E</mi><mo>&#x2212;</mo><mi>(1&#x2212;&#x03B1;)</mi><mi>&#x03B3;</mi><mi>I</mi><mo>&#x2212;</mo><mi>&#x03B1;</mi><mi>&#x03C1;</mi><mi>I</mi></math>\",\n",
    "\"<math><mfrac><mrow><mi>d</mi><mi>D</mi></mrow><mrow><mi>d</mi><mi>t</mi></mrow></mfrac><mo>=</mo><mi>&#x03B1;</mi><mi>&#x03C1;</mi><mi>I</mi></math>\",\n",
    "\"<math><mfrac><mrow><mi>d</mi><mi>S</mi></mrow><mrow><mi>d</mi><mi>t</mi></mrow></mfrac><mo>=</mo><mo>&#x2212;</mo><mi>&#x03B2;</mi><mi>I</mi><mi>S</mi></math>\"\n",
    "  ],\n",
    "  \"model\": \"petrinet\"\n",
    "}"
   ]
  },
  {
   "cell_type": "code",
   "execution_count": null,
   "metadata": {},
   "outputs": [],
   "source": [
    "URL = f\"{SKEMA_ADDRESS}/mathml/amr\"\n",
    "response_zip = requests.put(URL, json=equations)\n",
    "response_zip.json()"
   ]
  },
  {
   "attachments": {},
   "cell_type": "markdown",
   "metadata": {},
   "source": [
    "This is just me getting the FN to see why the distribution isn't being handled"
   ]
  },
  {
   "cell_type": "code",
   "execution_count": null,
   "metadata": {},
   "outputs": [],
   "source": [
    "single_snippet_payload = {\n",
    "        \"files\": [\"SIR_test.py\"],\n",
    "        \"blobs\": [open(\"../data/code/testing_suite_sir.py\").read()],\n",
    "    }"
   ]
  },
  {
   "cell_type": "code",
   "execution_count": 97,
   "metadata": {},
   "outputs": [],
   "source": [
    "import json\n",
    "\n",
    "\n",
    "def dictionary_to_gromet_json(\n",
    "    o, fold_level=5, indent=4, level=0, parent_key=\"\"\n",
    "):\n",
    "    if level < fold_level:\n",
    "        newline = \"\\n\"\n",
    "        space = \" \"\n",
    "    else:\n",
    "        newline = \"\"\n",
    "        space = \"\"\n",
    "    ret = \"\"\n",
    "    if isinstance(o, str):\n",
    "        ret += json.dumps(\n",
    "            o\n",
    "        )  # json.dumps() will properly escape special characters\n",
    "    elif isinstance(o, bool):\n",
    "        ret += \"true\" if o else \"false\"\n",
    "    elif isinstance(o, float):\n",
    "        ret += \"%.7g\" % o\n",
    "    elif isinstance(o, int):\n",
    "        ret += str(o)\n",
    "    elif isinstance(o, list):\n",
    "        ret += \"[\" + newline\n",
    "        comma = \"\"\n",
    "        for e in o:\n",
    "            ret += comma\n",
    "            comma = \",\" + newline\n",
    "            ret += space * indent * (level + 1)\n",
    "            ret += dictionary_to_gromet_json(\n",
    "                e, fold_level, indent, level + 1, parent_key\n",
    "            )\n",
    "        ret += newline + space * indent * level + \"]\"\n",
    "    elif isinstance(o, dict):\n",
    "        ret += \"{\" + newline\n",
    "        comma = \"\"\n",
    "        for k, v in o.items():\n",
    "            ret += comma\n",
    "            comma = \",\" + newline\n",
    "            ret += space * indent * (level + 1)\n",
    "            ret += '\"' + str(k) + '\":' + space\n",
    "            if k == \"fn\":\n",
    "                ret += dictionary_to_gromet_json(v, 4, indent, level + 1, k)\n",
    "            elif k == \"attributes\":\n",
    "                ret += dictionary_to_gromet_json(v, 6, indent, level + 1, k)\n",
    "            elif k == \"bf\" and parent_key == \"fn\":\n",
    "                ret += dictionary_to_gromet_json(v, 5, indent, level + 1, k)\n",
    "            elif k == \"bf\" and parent_key == \"value\":\n",
    "                ret += dictionary_to_gromet_json(v, 7, indent, level + 1, k)\n",
    "            else:\n",
    "                ret += dictionary_to_gromet_json(\n",
    "                    v, fold_level, indent, level + 1, k\n",
    "                )\n",
    "        ret += newline + space * indent * level + \"}\"\n",
    "    elif o is None:\n",
    "        ret += \"null\"\n",
    "    else:\n",
    "        # NOTE: We added this check here to catch any Python objects that\n",
    "        # didn't get turned into dictionaries.\n",
    "        # This is to circumvent Swagger's inability to generate to_dicts that support\n",
    "        # multi-dimensional dictionaries. This becomes an issue for us when we're storing\n",
    "        # an array of metadata arrays\n",
    "        if hasattr(o, \"to_dict\"):\n",
    "            temp = del_nulls(o.to_dict())\n",
    "            ret += dictionary_to_gromet_json(\n",
    "                temp, fold_level, indent, level, parent_key\n",
    "            )\n",
    "        else:\n",
    "            ret += str(o)\n",
    "    return ret\n",
    "\n",
    "\n",
    "def del_nulls(d):\n",
    "    for key, value in list(d.items()):\n",
    "        if isinstance(value, list):\n",
    "            for elem in value:\n",
    "                if isinstance(elem, dict):\n",
    "                    del_nulls(elem)\n",
    "        if isinstance(value, dict):\n",
    "            del_nulls(value)\n",
    "        if value is None:\n",
    "            del d[key]\n",
    "\n",
    "    return d\n"
   ]
  },
  {
   "cell_type": "code",
   "execution_count": 89,
   "metadata": {},
   "outputs": [],
   "source": [
    "URL = f\"{SKEMA_ADDRESS}/code2fn/fn-given-filepaths\"\n",
    "response_zip = requests.post(URL, json=single_snippet_payload)\n",
    "gromet = json.dumps(response_zip.json(), indent=4)\n",
    "\n",
    "gromet_json = json.loads(gromet)\n",
    "\n",
    "with open(\"SIDARTHE_core.json\", \"w\") as outfile:\n",
    "    gromet_collection_dict = (\n",
    "                    gromet_json\n",
    "                )\n",
    "    outfile.write(\n",
    "        dictionary_to_gromet_json(\n",
    "            del_nulls(gromet_collection_dict), level=0\n",
    "            )\n",
    "        )"
   ]
  },
  {
   "cell_type": "code",
   "execution_count": null,
   "metadata": {},
   "outputs": [],
   "source": [
    "URL = f\"{SKEMA_ADDRESS}/code2fn/fn-given-filepaths\"\n",
    "response_zip = requests.post(URL, json=single_snippet_payload)\n",
    "print(response_zip)\n",
    "gromet = json.dumps(response_zip.json(), indent=4)\n",
    "\n",
    "gromet_json = json.loads(gromet)\n",
    "\n",
    "print(dictionary_to_gromet_json(del_nulls(gromet_json)))\n",
    "\n",
    "with open(\"testing_SIDARTHE_core.json\", \"w\") as outfile:\n",
    "    outfile.write(f\"{dictionary_to_gromet_json(del_nulls(gromet_json))}\")"
   ]
  },
  {
   "cell_type": "code",
   "execution_count": 4,
   "metadata": {},
   "outputs": [
    {
     "name": "stdout",
     "output_type": "stream",
     "text": [
      "{'count': 0}\n"
     ]
    }
   ],
   "source": [
    "from neo4j import GraphDatabase\n",
    "URI = \"bolt+s://graphdb-bolt.askem.lum.ai:443\"\n",
    "AUTH = (\"\", \"\") # NOTE: seems we could lock things down here...\n",
    "with GraphDatabase.driver(URI, auth=AUTH) as client:\n",
    "   # Check the connection\n",
    "   client.verify_connectivity()\n",
    "   res = client.execute_query(\"MATCH (n)\\nRETURN count(n) as count\")\n",
    "   print(res.records[0].data())"
   ]
  }
 ],
 "metadata": {
  "kernelspec": {
   "display_name": "Python 3",
   "language": "python",
   "name": "python3"
  },
  "language_info": {
   "codemirror_mode": {
    "name": "ipython",
    "version": 3
   },
   "file_extension": ".py",
   "mimetype": "text/x-python",
   "name": "python",
   "nbconvert_exporter": "python",
   "pygments_lexer": "ipython3",
   "version": "3.9.6"
  },
  "orig_nbformat": 4
 },
 "nbformat": 4,
 "nbformat_minor": 2
}
