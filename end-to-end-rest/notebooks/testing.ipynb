{
 "cells": [
  {
   "cell_type": "code",
   "execution_count": 93,
   "metadata": {},
   "outputs": [],
   "source": [
    "from IPython.display import display, HTML, Image\n",
    "from pathlib import Path\n",
    "import requests\n",
    "import json\n",
    "import os\n",
    "\n",
    "SKEMA_ADDRESS = os.environ.get(\"SKEMA_ADDRESS\", \"https://api.askem.lum.ai\")\n",
    "SKEMA_LOCAL_ADDRESS = \"http://0.0.0.0:8000\""
   ]
  },
  {
   "cell_type": "code",
   "execution_count": 94,
   "metadata": {},
   "outputs": [],
   "source": [
    "zipfile_path = \"../../../testing-materials/code2amr/knowledge-middleware-testing/chime_sviir/code.zip\" # failed but 200 response\n",
    "zipfile_path = \"../../../testing-materials/code2amr/knowledge-middleware-testing/basic/code.zip\" # work\n",
    "#zipfile_path = \"../../../testing-materials/code2amr/knowledge-middleware-testing/penn_chime/chime-1.1.5.zip\" #fails, hidden files\n",
    "#zipfile_path = \"../../../testing-materials/code2amr/knowledge-middleware-testing/scenario_1/code.zip\" # works\n",
    "#zipfile_path = \"../../../testing-materials/code2amr/knowledge-middleware-testing/scenario_3/code.zip\" # failed but 200 response\n",
    "#zipfile_path = \"../../../testing-materials/code2amr/knowledge-middleware-testing/sidarthe/code.zip\" # works"
   ]
  },
  {
   "cell_type": "code",
   "execution_count": 100,
   "metadata": {},
   "outputs": [
    {
     "data": {
      "text/plain": [
       "{'header': {'name': 'LLM-assisted code to amr model',\n",
       "  'schema': 'https://github.com/DARPA-ASKEM/Model-Representations/blob/main/petrinet/petrinet_schema.json',\n",
       "  'schema_name': 'PetriNet',\n",
       "  'description': 'This model came from code file: code.py',\n",
       "  'model_version': '0.1',\n",
       "  'linespan': \"name='code.py' description=None block=['L1-L9']\"},\n",
       " 'model': {'states': [{'id': 'i', 'name': 'i'},\n",
       "   {'id': 'r', 'name': 'r'},\n",
       "   {'id': 's', 'name': 's'}],\n",
       "  'transitions': [{'id': 't0', 'input': ['i', 's'], 'output': ['i', 'i']},\n",
       "   {'id': 't1', 'input': ['i'], 'output': ['r']}]},\n",
       " 'semantics': {'ode': {'rates': [{'target': 't0',\n",
       "     'expression': 'beta*i*s',\n",
       "     'expression_mathml': '<apply><times/><ci>i</ci><ci>beta</ci><ci>s</ci></apply>'},\n",
       "    {'target': 't1',\n",
       "     'expression': 'gamma*i',\n",
       "     'expression_mathml': '<apply><times/><ci>gamma</ci><ci>i</ci></apply>'}],\n",
       "   'initials': [{'target': 'i', 'expression': '', 'expression_mathml': ''},\n",
       "    {'target': 'r', 'expression': '', 'expression_mathml': ''},\n",
       "    {'target': 's', 'expression': '', 'expression_mathml': ''}],\n",
       "   'parameters': [{'id': 'beta', 'name': 'beta'},\n",
       "    {'id': 'gamma', 'name': 'gamma'}]}}}"
      ]
     },
     "execution_count": 100,
     "metadata": {},
     "output_type": "execute_result"
    }
   ],
   "source": [
    "URL = f\"{SKEMA_LOCAL_ADDRESS}/workflows/code/llm-assisted-codebase-to-pn-amr\"\n",
    "response_zip = requests.post(URL, files={\"zip_file\": open(zipfile_path, \"rb\")},)\n",
    "response_zip.json()"
   ]
  },
  {
   "cell_type": "code",
   "execution_count": 49,
   "metadata": {},
   "outputs": [
    {
     "name": "stdout",
     "output_type": "stream",
     "text": [
      "should be green checkmark\n"
     ]
    }
   ],
   "source": [
    "amr_response = response_zip\n",
    "try:\n",
    "        amr_json = amr_response.json()\n",
    "        #print(f\"TA 1 response object: {amr_json}\")\n",
    "except:\n",
    "        print(\n",
    "            f\"Failed to parse response from backend knowledge service:\\n{amr_response.text}\"\n",
    "        )\n",
    "\n",
    "if amr_response.status_code == 200 and amr_json:\n",
    "    metadata = amr_json.get(\"metadata\", {})\n",
    "    metadata[\"code_id\"] = \"temp\"\n",
    "    amr_json[\"metadata\"] = metadata\n",
    "    #tds_responses = put_amr_to_tds(amr_json, name, description, model_id)\n",
    "    #print(f\"TDS Response: {tds_responses}\")\n",
    "\n",
    "    # put_code_extraction_to_tds(\n",
    "    #     code_id=code_id,\n",
    "    #     name=code_json.get(\"name\", None),\n",
    "    #     files=code_json.get(\"files\"),\n",
    "    #     description=code_json.get(\"description\", None),\n",
    "    #     model_id=tds_responses.get(\"model_id\"),\n",
    "    # )\n",
    "\n",
    "    # try:\n",
    "    #     set_provenance(\n",
    "    #         tds_responses.get(\"model_id\"),\n",
    "    #         \"Model\",\n",
    "    #         code_id,\n",
    "    #         \"Code\",\n",
    "    #         \"EXTRACTED_FROM\",\n",
    "    #     )\n",
    "    # except Exception as e:\n",
    "    #     logger.error(f\"Failed to store provenance tying model to code: {e}\")\n",
    "\n",
    "    response = {\n",
    "        \"status_code\": amr_response.status_code,\n",
    "        \"amr\": amr_json,\n",
    "        #\"tds_model_id\": tds_responses.get(\"model_id\"),\n",
    "        #\"tds_configuration_id\": tds_responses.get(\"configuration_id\"),\n",
    "        \"error\": None,\n",
    "    }\n",
    "\n",
    "    response\n",
    "    print(\"should be green checkmark\")\n",
    "else:\n",
    "    print(f\"Content: {amr_response.content}\")\n",
    "    raise Exception(f\"Code extraction failure: {amr_response.text}\")"
   ]
  },
  {
   "cell_type": "code",
   "execution_count": null,
   "metadata": {},
   "outputs": [],
   "source": [
    "URL = f\"{SKEMA_ADDRESS}/morae/linespan-given-filepaths-zip\"\n",
    "response_zip = requests.post(URL, files={\"zip_file\": open(zipfile_path, \"rb\")},)\n",
    "response_zip.json()"
   ]
  },
  {
   "attachments": {},
   "cell_type": "markdown",
   "metadata": {},
   "source": [
    "This is for testing the code2amr endpoint. First is the just the core dynamics selected. "
   ]
  },
  {
   "cell_type": "code",
   "execution_count": null,
   "metadata": {},
   "outputs": [],
   "source": [
    "single_snippet_payload = {\n",
    "        \"files\": [\"SIDARTHE.py\"],\n",
    "        \"blobs\": [open(\"../data/code/knowledge-middleware/testing_suite_chime.py\").read()],\n",
    "    }"
   ]
  },
  {
   "cell_type": "code",
   "execution_count": null,
   "metadata": {},
   "outputs": [],
   "source": [
    "single_snippet_payload = {\n",
    "        \"files\": [\"SIDARTHE.py\"],\n",
    "        \"blobs\": [open(\"../data/code/knowledge-middleware/SIDARTHE_full.py\").read()],\n",
    "    }"
   ]
  },
  {
   "cell_type": "code",
   "execution_count": null,
   "metadata": {},
   "outputs": [],
   "source": [
    "single_snippet_payload = {\n",
    "        \"files\": [\"SIDARTHE.py\"],\n",
    "        \"blobs\": [open(\"../data/code/knowledge-middleware/12-month-scen3.py\").read()],\n",
    "    }"
   ]
  },
  {
   "cell_type": "code",
   "execution_count": 88,
   "metadata": {},
   "outputs": [
    {
     "data": {
      "text/plain": [
       "{'header': {'name': 'mathml model',\n",
       "  'schema': 'https://github.com/DARPA-ASKEM/Model-Representations/blob/main/petrinet/petrinet_schema.json',\n",
       "  'schema_name': 'PetriNet',\n",
       "  'description': 'This is a model from equations',\n",
       "  'model_version': '0.1'},\n",
       " 'model': {'states': [{'id': 'i', 'name': 'i'},\n",
       "   {'id': 'r', 'name': 'r'},\n",
       "   {'id': 's', 'name': 's'}],\n",
       "  'transitions': [{'id': 't0', 'input': ['i', 's'], 'output': ['i', 'i']},\n",
       "   {'id': 't1', 'input': ['i'], 'output': ['r']}]},\n",
       " 'semantics': {'ode': {'rates': [{'target': 't0',\n",
       "     'expression': 'beta*i*s',\n",
       "     'expression_mathml': '<apply><times/><ci>i</ci><ci>beta</ci><ci>s</ci></apply>'},\n",
       "    {'target': 't1',\n",
       "     'expression': 'gamma*i',\n",
       "     'expression_mathml': '<apply><times/><ci>gamma</ci><ci>i</ci></apply>'}],\n",
       "   'initials': [{'target': 'i', 'expression': '', 'expression_mathml': ''},\n",
       "    {'target': 'r', 'expression': '', 'expression_mathml': ''},\n",
       "    {'target': 's', 'expression': '', 'expression_mathml': ''}],\n",
       "   'parameters': [{'id': 'beta', 'name': 'beta'},\n",
       "    {'id': 'gamma', 'name': 'gamma'}]}}}"
      ]
     },
     "execution_count": 88,
     "metadata": {},
     "output_type": "execute_result"
    }
   ],
   "source": [
    "URL = f\"{SKEMA_ADDRESS}/workflows/code/snippets-to-pn-amr\"\n",
    "response_zip = requests.post(URL, json=single_snippet_payload)\n",
    "response_zip.json()"
   ]
  },
  {
   "cell_type": "code",
   "execution_count": 101,
   "metadata": {},
   "outputs": [],
   "source": [
    "single_snippet_payload = {\"files\": [\"code.py\"], \"blobs\": [\"def sir(\\n    s: float, i: float, r: float, beta: float, gamma: float, n: float\\n) -> Tuple[float, float, float]:\\n    \\\"\\\"\\\"The SIR model, one time step.\\\"\\\"\\\"\\n    s_n = (-beta * s * i) + s\\n    i_n = (beta * s * i - gamma * i) + i\\n    r_n = gamma * i + r\\n    scale = n / (s_n + i_n + r_n)\\n    return s_n * scale, i_n * scale, r_n * scale\"],}"
   ]
  },
  {
   "cell_type": "code",
   "execution_count": 103,
   "metadata": {},
   "outputs": [
    {
     "data": {
      "text/plain": [
       "{'header': {'name': 'mathml model',\n",
       "  'schema': 'https://github.com/DARPA-ASKEM/Model-Representations/blob/main/petrinet/petrinet_schema.json',\n",
       "  'schema_name': 'PetriNet',\n",
       "  'description': 'This is a model from equations',\n",
       "  'model_version': '0.1'},\n",
       " 'model': {'states': [{'id': 'i', 'name': 'i'},\n",
       "   {'id': 'r', 'name': 'r'},\n",
       "   {'id': 's', 'name': 's'}],\n",
       "  'transitions': [{'id': 't0', 'input': ['i', 's'], 'output': ['i', 'i']},\n",
       "   {'id': 't1', 'input': ['i'], 'output': ['r']}]},\n",
       " 'semantics': {'ode': {'rates': [{'target': 't0',\n",
       "     'expression': 'beta*i*s',\n",
       "     'expression_mathml': '<apply><times/><ci>i</ci><ci>beta</ci><ci>s</ci></apply>'},\n",
       "    {'target': 't1',\n",
       "     'expression': 'gamma*i',\n",
       "     'expression_mathml': '<apply><times/><ci>gamma</ci><ci>i</ci></apply>'}],\n",
       "   'initials': [{'target': 'i',\n",
       "     'expression': '0',\n",
       "     'expression_mathml': '<math><\\\\math>'},\n",
       "    {'target': 'r', 'expression': '0', 'expression_mathml': '<math><\\\\math>'},\n",
       "    {'target': 's', 'expression': '0', 'expression_mathml': '<math><\\\\math>'}],\n",
       "   'parameters': [{'id': 'beta', 'name': 'beta'},\n",
       "    {'id': 'gamma', 'name': 'gamma'}]}}}"
      ]
     },
     "execution_count": 103,
     "metadata": {},
     "output_type": "execute_result"
    }
   ],
   "source": [
    "URL = f\"{SKEMA_LOCAL_ADDRESS}/workflows/consolidated/code-snippets-to-amrs\"\n",
    "response_zip = requests.post(URL, json=single_snippet_payload)\n",
    "response_zip.json()"
   ]
  },
  {
   "cell_type": "code",
   "execution_count": 85,
   "metadata": {},
   "outputs": [
    {
     "data": {
      "text/plain": [
       "{'header': {'name': '',\n",
       "  'schema': '',\n",
       "  'schema_name': '',\n",
       "  'description': '',\n",
       "  'model_version': ''},\n",
       " 'met': [{'Cons': ['Equals',\n",
       "    [{'Cons': [{'Derivative': {'order': 1,\n",
       "         'var_index': 1,\n",
       "         'bound_var': {'type': 'Real',\n",
       "          'content': {'Mi': 't'},\n",
       "          'func_of': None}}},\n",
       "       [{'Atom': {'Ci': {'type': 'Function',\n",
       "           'content': {'Mi': 'i'},\n",
       "           'func_of': [{'type': 'Real',\n",
       "             'content': {'Mi': ''},\n",
       "             'func_of': None}]}}}]]},\n",
       "     {'Cons': ['Add',\n",
       "       [{'Cons': ['Subtract',\n",
       "          [{'Cons': ['Multiply',\n",
       "             [{'Atom': {'Ci': {'type': 'Real',\n",
       "                 'content': {'Mi': 'i'},\n",
       "                 'func_of': None}}},\n",
       "              {'Atom': {'Ci': {'type': 'Real',\n",
       "                 'content': {'Mi': 'beta'},\n",
       "                 'func_of': None}}},\n",
       "              {'Atom': {'Ci': {'type': 'Real',\n",
       "                 'content': {'Mi': 's'},\n",
       "                 'func_of': None}}}]]},\n",
       "           {'Cons': ['Multiply',\n",
       "             [{'Atom': {'Ci': {'type': 'Real',\n",
       "                 'content': {'Mi': 'gamma'},\n",
       "                 'func_of': None}}},\n",
       "              {'Atom': {'Ci': {'type': 'Real',\n",
       "                 'content': {'Mi': 'i'},\n",
       "                 'func_of': None}}}]]}]]},\n",
       "        {'Atom': {'Ci': {'type': 'Real',\n",
       "           'content': {'Mi': 'i'},\n",
       "           'func_of': None}}}]]}]]},\n",
       "  {'Cons': ['Equals',\n",
       "    [{'Cons': [{'Derivative': {'order': 1,\n",
       "         'var_index': 1,\n",
       "         'bound_var': {'type': 'Real',\n",
       "          'content': {'Mi': 't'},\n",
       "          'func_of': None}}},\n",
       "       [{'Atom': {'Ci': {'type': 'Function',\n",
       "           'content': {'Mi': 'r'},\n",
       "           'func_of': [{'type': 'Real',\n",
       "             'content': {'Mi': ''},\n",
       "             'func_of': None}]}}}]]},\n",
       "     {'Cons': ['Add',\n",
       "       [{'Cons': ['Multiply',\n",
       "          [{'Atom': {'Ci': {'type': 'Real',\n",
       "              'content': {'Mi': 'gamma'},\n",
       "              'func_of': None}}},\n",
       "           {'Atom': {'Ci': {'type': 'Real',\n",
       "              'content': {'Mi': 'i'},\n",
       "              'func_of': None}}}]]},\n",
       "        {'Atom': {'Ci': {'type': 'Real',\n",
       "           'content': {'Mi': 'r'},\n",
       "           'func_of': None}}}]]}]]},\n",
       "  {'Cons': ['Equals',\n",
       "    [{'Cons': [{'Derivative': {'order': 1,\n",
       "         'var_index': 1,\n",
       "         'bound_var': {'type': 'Real',\n",
       "          'content': {'Mi': 't'},\n",
       "          'func_of': None}}},\n",
       "       [{'Atom': {'Ci': {'type': 'Function',\n",
       "           'content': {'Mi': 's'},\n",
       "           'func_of': [{'type': 'Real',\n",
       "             'content': {'Mi': ''},\n",
       "             'func_of': None}]}}}]]},\n",
       "     {'Cons': ['Add',\n",
       "       [{'Cons': ['Multiply',\n",
       "          [{'Atom': {'Ci': {'type': 'Real',\n",
       "              'content': {'Mi': 'i'},\n",
       "              'func_of': None}}},\n",
       "           {'Cons': ['Subtract',\n",
       "             [{'Atom': {'Ci': {'type': 'Real',\n",
       "                 'content': {'Mi': 'beta'},\n",
       "                 'func_of': None}}}]]},\n",
       "           {'Atom': {'Ci': {'type': 'Real',\n",
       "              'content': {'Mi': 's'},\n",
       "              'func_of': None}}}]]},\n",
       "        {'Atom': {'Ci': {'type': 'Real',\n",
       "           'content': {'Mi': 's'},\n",
       "           'func_of': None}}}]]}]]}],\n",
       " 'semantics': {'states': [{'id': 'i', 'name': 'i'},\n",
       "   {'id': 'r', 'name': 'r'},\n",
       "   {'id': 's', 'name': 's'}],\n",
       "  'parameters': [{'id': 'beta', 'name': 'beta'},\n",
       "   {'id': 'gamma', 'name': 'gamma'}]}}"
      ]
     },
     "execution_count": 85,
     "metadata": {},
     "output_type": "execute_result"
    }
   ],
   "source": [
    "URL = f\"{SKEMA_LOCAL_ADDRESS}/workflows/code/snippets-to-G-AMR\"\n",
    "response_zip = requests.post(URL, json=single_snippet_payload)\n",
    "response_zip.json()"
   ]
  },
  {
   "attachments": {},
   "cell_type": "markdown",
   "metadata": {},
   "source": [
    "Now we test for the full code file"
   ]
  },
  {
   "cell_type": "code",
   "execution_count": null,
   "metadata": {},
   "outputs": [],
   "source": [
    "single_snippet_payload = {\n",
    "        \"files\": [\"SIDARTHE.py\"],\n",
    "        \"blobs\": [open(\"../data/code/core_dynamics/SIDARTHE_core.py\").read()],\n",
    "    }"
   ]
  },
  {
   "cell_type": "code",
   "execution_count": null,
   "metadata": {},
   "outputs": [],
   "source": [
    "for x in range(1):\n",
    "    print(\"ran\")"
   ]
  },
  {
   "cell_type": "code",
   "execution_count": 62,
   "metadata": {},
   "outputs": [
    {
     "data": {
      "text/plain": [
       "[{'Cons': ['Equals',\n",
       "   [{'Atom': {'Ci': {'type': 'Function',\n",
       "       'content': {'Mi': 'i'},\n",
       "       'func_of': None}}},\n",
       "    {'Cons': ['Add',\n",
       "      [{'Cons': ['Subtract',\n",
       "         [{'Cons': ['Multiply',\n",
       "            [{'Atom': {'Mi': 'i'}},\n",
       "             {'Atom': {'Mi': 'beta'}},\n",
       "             {'Atom': {'Mi': 's'}}]]},\n",
       "          {'Cons': ['Multiply',\n",
       "            [{'Atom': {'Mi': 'gamma'}}, {'Atom': {'Mi': 'i'}}]]}]]},\n",
       "       {'Atom': {'Mi': 'i'}}]]}]]},\n",
       " {'Cons': ['Equals',\n",
       "   [{'Atom': {'Ci': {'type': 'Function',\n",
       "       'content': {'Mi': 'r'},\n",
       "       'func_of': None}}},\n",
       "    {'Cons': ['Add',\n",
       "      [{'Cons': ['Multiply',\n",
       "         [{'Atom': {'Mi': 'gamma'}}, {'Atom': {'Mi': 'i'}}]]},\n",
       "       {'Atom': {'Mi': 'r'}}]]}]]},\n",
       " {'Cons': ['Equals',\n",
       "   [{'Atom': {'Ci': {'type': 'Function',\n",
       "       'content': {'Mi': 's'},\n",
       "       'func_of': None}}},\n",
       "    {'Cons': ['Add',\n",
       "      [{'Cons': ['Multiply',\n",
       "         [{'Atom': {'Mi': 'i'}},\n",
       "          {'Cons': ['Subtract', [{'Atom': {'Mi': 'beta'}}]]},\n",
       "          {'Atom': {'Mi': 's'}}]]},\n",
       "       {'Atom': {'Mi': 's'}}]]}]]}]"
      ]
     },
     "execution_count": 62,
     "metadata": {},
     "output_type": "execute_result"
    }
   ],
   "source": [
    "URL = f\"{SKEMA_LOCAL_ADDRESS}/workflows/isa/code-align\"\n",
    "response_zip = requests.post(URL, json=single_snippet_payload)\n",
    "response_zip.json()"
   ]
  },
  {
   "attachments": {},
   "cell_type": "markdown",
   "metadata": {},
   "source": [
    "Now we test with distribution applied"
   ]
  },
  {
   "cell_type": "code",
   "execution_count": null,
   "metadata": {},
   "outputs": [],
   "source": [
    "single_snippet_payload = {\n",
    "        \"files\": [\"SIDARTHE.py\"],\n",
    "        \"blobs\": [open(\"../data/code/SEIRD_full_hack.py\").read()],\n",
    "    }"
   ]
  },
  {
   "cell_type": "code",
   "execution_count": 92,
   "metadata": {},
   "outputs": [
    {
     "data": {
      "text/plain": [
       "{'header': {'name': 'mathml model',\n",
       "  'schema': 'https://github.com/DARPA-ASKEM/Model-Representations/blob/main/petrinet/petrinet_schema.json',\n",
       "  'schema_name': 'PetriNet',\n",
       "  'description': 'This is a model from equations',\n",
       "  'model_version': '0.1'},\n",
       " 'model': {'states': [{'id': 'i', 'name': 'i'},\n",
       "   {'id': 'r', 'name': 'r'},\n",
       "   {'id': 's', 'name': 's'}],\n",
       "  'transitions': [{'id': 't0', 'input': ['i', 's'], 'output': ['i', 'i']},\n",
       "   {'id': 't1', 'input': ['i'], 'output': ['r']}]},\n",
       " 'semantics': {'ode': {'rates': [{'target': 't0',\n",
       "     'expression': 'beta*i*s',\n",
       "     'expression_mathml': '<apply><times/><ci>i</ci><ci>beta</ci><ci>s</ci></apply>'},\n",
       "    {'target': 't1',\n",
       "     'expression': 'gamma*i',\n",
       "     'expression_mathml': '<apply><times/><ci>gamma</ci><ci>i</ci></apply>'}],\n",
       "   'initials': [{'target': 'i', 'expression': '', 'expression_mathml': ''},\n",
       "    {'target': 'r', 'expression': '', 'expression_mathml': ''},\n",
       "    {'target': 's', 'expression': '', 'expression_mathml': ''}],\n",
       "   'parameters': [{'id': 'beta', 'name': 'beta'},\n",
       "    {'id': 'gamma', 'name': 'gamma'}]}}}"
      ]
     },
     "execution_count": 92,
     "metadata": {},
     "output_type": "execute_result"
    }
   ],
   "source": [
    "URL = f\"{SKEMA_ADDRESS}/workflows/code/snippets-to-pn-amr\"\n",
    "response_zip = requests.post(URL, json=single_snippet_payload)\n",
    "response_zip.json()"
   ]
  },
  {
   "cell_type": "code",
   "execution_count": null,
   "metadata": {},
   "outputs": [],
   "source": [
    "amr = json.dumps(response_zip.json(), indent=4)\n",
    "\n",
    "with open(\"testing_amr_output11.json\", \"w\") as outfile:\n",
    "    outfile.write(amr)"
   ]
  },
  {
   "attachments": {},
   "cell_type": "markdown",
   "metadata": {},
   "source": [
    "This is for testing the eq2amr workflow through LaTeX"
   ]
  },
  {
   "cell_type": "code",
   "execution_count": null,
   "metadata": {},
   "outputs": [],
   "source": [
    "equations = {\n",
    "    \"equations\": [\n",
    "    \"\\\\frac{dS}{dt} = - \\\\beta I \\\\frac{S}{N}\",\n",
    "    \"\\\\frac{dE}{dt} = \\\\beta I \\\\frac{S}{N} - r_{EI}E\",\n",
    "    \"\\\\frac{dI}{dt} = r_{EI}E - r_{IR}p_{IR}I - r_{IH}p_{IH}I\",\n",
    "    \"\\\\frac{dH}{dt} = r_{IH}p_{IH}I - r_{HR}p_{HR}H - r_{HD}p_{HD}H\",\n",
    "    \"\\\\frac{dR}{dt} = r_{IR}p_{IR}I + r_{HR}p_{HR}H\",\n",
    "    \"\\\\frac{dD}{dt} = r_{HD}p_{HD}H\"\n",
    "    ],\n",
    "    \"model\": \"petrinet\"\n",
    "}"
   ]
  },
  {
   "cell_type": "code",
   "execution_count": null,
   "metadata": {},
   "outputs": [],
   "source": [
    "URL = f\"{SKEMA_ADDRESS}/workflows/latex/equations-to-amr\"\n",
    "response_zip = requests.post(URL, json=equations)\n",
    "print(json.dumps(response_zip.json()))"
   ]
  },
  {
   "cell_type": "code",
   "execution_count": null,
   "metadata": {},
   "outputs": [],
   "source": [
    "equations = {\n",
    "  \"equations\": [\n",
    "    \"<math><mfrac><mrow><mi>d</mi><mi>E</mi></mrow><mrow><mi>d</mi><mi>t</mi></mrow></mfrac><mo>=</mo><mi>&#x03B2;</mi><mi>I</mi><mi>S</mi><mo>&#x2212;</mo><mi>&#x03B4;</mi><mi>E</mi></math>\",\n",
    "\"<math><mfrac><mrow><mi>d</mi><mi>R</mi></mrow><mrow><mi>d</mi><mi>t</mi></mrow></mfrac><mo>=</mo><mi>(1&#x2212;&#x03B1;)</mi><mi>&#x03B3;</mi><mi>I</mi></math>\",\n",
    "\"<math><mfrac><mrow><mi>d</mi><mi>I</mi></mrow><mrow><mi>d</mi><mi>t</mi></mrow></mfrac><mo>=</mo><mi>&#x03B4;</mi><mi>E</mi><mo>&#x2212;</mo><mi>(1&#x2212;&#x03B1;)</mi><mi>&#x03B3;</mi><mi>I</mi><mo>&#x2212;</mo><mi>&#x03B1;</mi><mi>&#x03C1;</mi><mi>I</mi></math>\",\n",
    "\"<math><mfrac><mrow><mi>d</mi><mi>D</mi></mrow><mrow><mi>d</mi><mi>t</mi></mrow></mfrac><mo>=</mo><mi>&#x03B1;</mi><mi>&#x03C1;</mi><mi>I</mi></math>\",\n",
    "\"<math><mfrac><mrow><mi>d</mi><mi>S</mi></mrow><mrow><mi>d</mi><mi>t</mi></mrow></mfrac><mo>=</mo><mo>&#x2212;</mo><mi>&#x03B2;</mi><mi>I</mi><mi>S</mi></math>\"\n",
    "  ],\n",
    "  \"model\": \"petrinet\"\n",
    "}"
   ]
  },
  {
   "cell_type": "code",
   "execution_count": null,
   "metadata": {},
   "outputs": [],
   "source": [
    "URL = f\"{SKEMA_ADDRESS}/workflows/pmml/equations-to-amr\"\n",
    "response_zip = requests.post(URL, json=equations)\n",
    "response_zip.json()"
   ]
  },
  {
   "cell_type": "code",
   "execution_count": null,
   "metadata": {},
   "outputs": [],
   "source": [
    "# more testing now with using the local skema-rs \n",
    "SKEMA_ADDRESS = os.environ.get(\"SKEMA_ADDRESS\", \"http://localhost:8080\")"
   ]
  },
  {
   "cell_type": "code",
   "execution_count": null,
   "metadata": {},
   "outputs": [],
   "source": [
    "equations = {\n",
    "  \"mathml\": [\n",
    "    \"<math><mfrac><mrow><mi>d</mi><mi>E</mi></mrow><mrow><mi>d</mi><mi>t</mi></mrow></mfrac><mo>=</mo><mi>&#x03B2;</mi><mi>I</mi><mi>S</mi><mo>&#x2212;</mo><mi>&#x03B4;</mi><mi>E</mi></math>\",\n",
    "\"<math><mfrac><mrow><mi>d</mi><mi>R</mi></mrow><mrow><mi>d</mi><mi>t</mi></mrow></mfrac><mo>=</mo><mi>(1&#x2212;&#x03B1;)</mi><mi>&#x03B3;</mi><mi>I</mi></math>\",\n",
    "\"<math><mfrac><mrow><mi>d</mi><mi>I</mi></mrow><mrow><mi>d</mi><mi>t</mi></mrow></mfrac><mo>=</mo><mi>&#x03B4;</mi><mi>E</mi><mo>&#x2212;</mo><mi>(1&#x2212;&#x03B1;)</mi><mi>&#x03B3;</mi><mi>I</mi><mo>&#x2212;</mo><mi>&#x03B1;</mi><mi>&#x03C1;</mi><mi>I</mi></math>\",\n",
    "\"<math><mfrac><mrow><mi>d</mi><mi>D</mi></mrow><mrow><mi>d</mi><mi>t</mi></mrow></mfrac><mo>=</mo><mi>&#x03B1;</mi><mi>&#x03C1;</mi><mi>I</mi></math>\",\n",
    "\"<math><mfrac><mrow><mi>d</mi><mi>S</mi></mrow><mrow><mi>d</mi><mi>t</mi></mrow></mfrac><mo>=</mo><mo>&#x2212;</mo><mi>&#x03B2;</mi><mi>I</mi><mi>S</mi></math>\"\n",
    "  ],\n",
    "  \"model\": \"petrinet\"\n",
    "}"
   ]
  },
  {
   "cell_type": "code",
   "execution_count": null,
   "metadata": {},
   "outputs": [],
   "source": [
    "URL = f\"{SKEMA_ADDRESS}/mathml/amr\"\n",
    "response_zip = requests.put(URL, json=equations)\n",
    "response_zip.json()"
   ]
  },
  {
   "attachments": {},
   "cell_type": "markdown",
   "metadata": {},
   "source": [
    "This is just me getting the FN to see why the distribution isn't being handled"
   ]
  },
  {
   "cell_type": "code",
   "execution_count": 63,
   "metadata": {},
   "outputs": [],
   "source": [
    "single_snippet_payload = {\n",
    "        \"files\": [\"SIR_test.py\"],\n",
    "        \"blobs\": [open(\"../../../testing-materials/code2amr/knowledge-middleware-testing/chime_sviir/code.py\").read()],\n",
    "    }"
   ]
  },
  {
   "cell_type": "code",
   "execution_count": 96,
   "metadata": {},
   "outputs": [],
   "source": [
    "import json\n",
    "\n",
    "\n",
    "def dictionary_to_gromet_json(\n",
    "    o, fold_level=5, indent=4, level=0, parent_key=\"\"\n",
    "):\n",
    "    if level < fold_level:\n",
    "        newline = \"\\n\"\n",
    "        space = \" \"\n",
    "    else:\n",
    "        newline = \"\"\n",
    "        space = \"\"\n",
    "    ret = \"\"\n",
    "    if isinstance(o, str):\n",
    "        ret += json.dumps(\n",
    "            o\n",
    "        )  # json.dumps() will properly escape special characters\n",
    "    elif isinstance(o, bool):\n",
    "        ret += \"true\" if o else \"false\"\n",
    "    elif isinstance(o, float):\n",
    "        ret += \"%.7g\" % o\n",
    "    elif isinstance(o, int):\n",
    "        ret += str(o)\n",
    "    elif isinstance(o, list):\n",
    "        ret += \"[\" + newline\n",
    "        comma = \"\"\n",
    "        for e in o:\n",
    "            ret += comma\n",
    "            comma = \",\" + newline\n",
    "            ret += space * indent * (level + 1)\n",
    "            ret += dictionary_to_gromet_json(\n",
    "                e, fold_level, indent, level + 1, parent_key\n",
    "            )\n",
    "        ret += newline + space * indent * level + \"]\"\n",
    "    elif isinstance(o, dict):\n",
    "        ret += \"{\" + newline\n",
    "        comma = \"\"\n",
    "        for k, v in o.items():\n",
    "            ret += comma\n",
    "            comma = \",\" + newline\n",
    "            ret += space * indent * (level + 1)\n",
    "            ret += '\"' + str(k) + '\":' + space\n",
    "            if k == \"fn\":\n",
    "                ret += dictionary_to_gromet_json(v, 4, indent, level + 1, k)\n",
    "            elif k == \"attributes\":\n",
    "                ret += dictionary_to_gromet_json(v, 6, indent, level + 1, k)\n",
    "            elif k == \"bf\" and parent_key == \"fn\":\n",
    "                ret += dictionary_to_gromet_json(v, 5, indent, level + 1, k)\n",
    "            elif k == \"bf\" and parent_key == \"value\":\n",
    "                ret += dictionary_to_gromet_json(v, 7, indent, level + 1, k)\n",
    "            else:\n",
    "                ret += dictionary_to_gromet_json(\n",
    "                    v, fold_level, indent, level + 1, k\n",
    "                )\n",
    "        ret += newline + space * indent * level + \"}\"\n",
    "    elif o is None:\n",
    "        ret += \"null\"\n",
    "    else:\n",
    "        # NOTE: We added this check here to catch any Python objects that\n",
    "        # didn't get turned into dictionaries.\n",
    "        # This is to circumvent Swagger's inability to generate to_dicts that support\n",
    "        # multi-dimensional dictionaries. This becomes an issue for us when we're storing\n",
    "        # an array of metadata arrays\n",
    "        if hasattr(o, \"to_dict\"):\n",
    "            temp = del_nulls(o.to_dict())\n",
    "            ret += dictionary_to_gromet_json(\n",
    "                temp, fold_level, indent, level, parent_key\n",
    "            )\n",
    "        else:\n",
    "            ret += str(o)\n",
    "    return ret\n",
    "\n",
    "\n",
    "def del_nulls(d):\n",
    "    for key, value in list(d.items()):\n",
    "        if isinstance(value, list):\n",
    "            for elem in value:\n",
    "                if isinstance(elem, dict):\n",
    "                    del_nulls(elem)\n",
    "        if isinstance(value, dict):\n",
    "            del_nulls(value)\n",
    "        if value is None:\n",
    "            del d[key]\n",
    "\n",
    "    return d\n"
   ]
  },
  {
   "cell_type": "code",
   "execution_count": 97,
   "metadata": {},
   "outputs": [],
   "source": [
    "URL = f\"{SKEMA_ADDRESS}/code2fn/fn-given-filepaths\"\n",
    "response_zip = requests.post(URL, json=single_snippet_payload)\n",
    "gromet = json.dumps(response_zip.json(), indent=4)\n",
    "\n",
    "gromet_json = json.loads(gromet)\n",
    "\n",
    "with open(\"testing_sir-2-22-24.json\", \"w\") as outfile:\n",
    "    gromet_collection_dict = (\n",
    "                    gromet_json\n",
    "                )\n",
    "    outfile.write(\n",
    "        dictionary_to_gromet_json(\n",
    "            del_nulls(gromet_collection_dict), level=0\n",
    "            )\n",
    "        )"
   ]
  },
  {
   "cell_type": "code",
   "execution_count": null,
   "metadata": {},
   "outputs": [],
   "source": [
    "URL = f\"{SKEMA_ADDRESS}/code2fn/fn-given-filepaths\"\n",
    "response_zip = requests.post(URL, json=single_snippet_payload)\n",
    "print(response_zip)\n",
    "gromet = json.dumps(response_zip.json(), indent=4)\n",
    "\n",
    "gromet_json = json.loads(gromet)\n",
    "\n",
    "print(dictionary_to_gromet_json(del_nulls(gromet_json)))\n",
    "\n",
    "with open(\"testing_SIDARTHE_core.json\", \"w\") as outfile:\n",
    "    outfile.write(f\"{dictionary_to_gromet_json(del_nulls(gromet_json))}\")"
   ]
  },
  {
   "cell_type": "code",
   "execution_count": null,
   "metadata": {},
   "outputs": [],
   "source": [
    "from neo4j import GraphDatabase\n",
    "URI = \"bolt+s://graphdb-bolt.askem.lum.ai:443\"\n",
    "AUTH = (\"\", \"\") # NOTE: seems we could lock things down here...\n",
    "with GraphDatabase.driver(URI, auth=AUTH) as client:\n",
    "   # Check the connection\n",
    "   client.verify_connectivity()\n",
    "   res = client.execute_query(\"MATCH (n)\\nRETURN count(n) as count\")\n",
    "   print(res.records[0].data())"
   ]
  },
  {
   "cell_type": "code",
   "execution_count": 76,
   "metadata": {},
   "outputs": [
    {
     "name": "stdout",
     "output_type": "stream",
     "text": [
      "{'1': [0.8, 2.0, ['β*I*S/N-γ*I', 'D(1, t)(I)', 'β*I*S/N', 'β', 'I', 'S', 'N', 'γ*I', 'γ'], ['i*beta*s-gamma*i+i', 'D(1, t)(i)', 'i*beta*s', 'i', 'beta', 's', 'gamma*i', 'gamma'], [0.0, 1.0, 2.0, 4.0, 3.0, 5.0, -1.0, 6.0, 7.0], [0.0, 1.0, 2.0, 4.0, 3.0, 5.0, 7.0, 8.0, -1.0], 'digraph G {\\n0 [color=blue, label=\"β*I*S/N-γ*I <<|>> i*beta*s-gamma*i+i\"];\\n1 [color=blue, label=\"D(1, t)(I)\"];\\n2 [color=blue, label=\"β*I*S/N <<|>> i*beta*s\"];\\n3 [color=blue, label=\"β <<|>> beta\"];\\n4 [color=blue, label=\"I\"];\\n5 [color=blue, label=\"S\"];\\n6 [color=red, label=\"N\"];\\n7 [color=blue, label=\"γ*I <<|>> gamma*i\"];\\n8 [color=blue, label=\"γ <<|>> gamma\"];\\n1 -> 0  [color=blue, label=\"=\"];\\n2 -> 0  [color=blue, label=\"+\"];\\n3 -> 2  [color=blue, label=\"*\"];\\n4 -> 2  [color=blue, label=\"*\"];\\n5 -> 2  [color=blue, label=\"*\"];\\n6 -> 2  [color=red, label=\"/\"];\\n7 -> 0  [color=blue, label=\"-\"];\\n8 -> 7  [color=blue, label=\"*\"];\\n4 -> 7  [color=blue, label=\"*\"];\\n4 -> 0  [color=green, label=\"+\"];\\n}\\n', [1, 0, 1, 0, 1, 0, 1, 0, 0]], '2': [0.3, 7.0, ['β*I*S/N-γ*I', 'D(1, t)(I)', 'β*I*S/N', 'β', 'I', 'S', 'N', 'γ*I', 'γ'], ['gamma*i+r', 'D(1, t)(r)', 'gamma*i', 'gamma', 'i', 'r'], [0.0, 1.0, -1.0, -1.0, 4.0, -1.0, 5.0, 2.0, 3.0], [0.0, 1.0, 7.0, 8.0, 4.0, 6.0, -1.0, -1.0, -1.0], 'digraph G {\\n0 [color=blue, label=\"β*I*S/N-γ*I <<|>> gamma*i+r\"];\\n1 [color=blue, label=\"D(1, t)(I) <<|>> D(1, t)(r)\"];\\n2 [color=red, label=\"β*I*S/N\"];\\n3 [color=red, label=\"β\"];\\n4 [color=blue, label=\"I\"];\\n5 [color=red, label=\"S\"];\\n6 [color=blue, label=\"N <<|>> r\"];\\n7 [color=blue, label=\"γ*I <<|>> gamma*i\"];\\n8 [color=blue, label=\"γ <<|>> gamma\"];\\n1 -> 0  [color=blue, label=\"=\"];\\n2 -> 0  [color=red, label=\"+\"];\\n3 -> 2  [color=red, label=\"*\"];\\n4 -> 2  [color=red, label=\"*\"];\\n5 -> 2  [color=red, label=\"*\"];\\n6 -> 2  [color=red, label=\"/\"];\\n7 -> 0  [color=red, label=\"-\"];\\n8 -> 7  [color=blue, label=\"*\"];\\n4 -> 7  [color=blue, label=\"*\"];\\n7 -> 0  [color=green, label=\"+\"];\\n6 -> 0  [color=green, label=\"+\"];\\n}\\n', [1, 0, 1, 1, 1, 1, 1, 1, 0]], '3': [0.36, 7.0, ['β*I*S/N-γ*I', 'D(1, t)(I)', 'β*I*S/N', 'β', 'I', 'S', 'N', 'γ*I', 'γ'], ['i*-(beta)*s+s', 'D(1, t)(s)', 'i*-(beta)*s', 'i', '-(beta)', 'beta', 's'], [0.0, 1.0, 2.0, 5.0, 3.0, 6.0, 4.0, -1.0, -1.0], [0.0, 1.0, 2.0, 4.0, 6.0, 3.0, 5.0, -1.0, -1.0], 'digraph G {\\n0 [color=blue, label=\"β*I*S/N-γ*I <<|>> i*-(beta)*s+s\"];\\n1 [color=blue, label=\"D(1, t)(I) <<|>> D(1, t)(s)\"];\\n2 [color=blue, label=\"β*I*S/N <<|>> i*-(beta)*s\"];\\n3 [color=blue, label=\"β <<|>> beta\"];\\n4 [color=blue, label=\"I\"];\\n5 [color=blue, label=\"S\"];\\n6 [color=blue, label=\"N <<|>> -(beta)\"];\\n7 [color=red, label=\"γ*I\"];\\n8 [color=red, label=\"γ\"];\\n1 -> 0  [color=blue, label=\"=\"];\\n2 -> 0  [color=blue, label=\"+\"];\\n3 -> 2  [color=red, label=\"*\"];\\n4 -> 2  [color=blue, label=\"*\"];\\n5 -> 2  [color=blue, label=\"*\"];\\n6 -> 2  [color=red, label=\"/\"];\\n7 -> 0  [color=red, label=\"-\"];\\n8 -> 7  [color=red, label=\"*\"];\\n4 -> 7  [color=red, label=\"*\"];\\n6 -> 2  [color=green, label=\"*\"];\\n3 -> 6  [color=green, label=\"-\"];\\n5 -> 0  [color=green, label=\"+\"];\\n}\\n', [1, 0, 1, 1, 1, 1, 1, 1, 1]]}\n"
     ]
    }
   ],
   "source": [
    "# Testing isa stuff\n",
    "single_snippet_payload = {\n",
    "    \"system\": {\n",
    "        \"files\": [\"code.py\"],\n",
    "        \"blobs\": [\n",
    "            'def sir(\\n    s: float, i: float, r: float, beta: float, gamma: float, n: float\\n) -> Tuple[float, float, float]:\\n    \"\"\"The SIR model, one time step.\"\"\"\\n    s_n = (-beta * s * i) + s\\n    i_n = (beta * s * i - gamma * i) + i\\n    r_n = gamma * i + r\\n    scale = n / (s_n + i_n + r_n)\\n    return s_n * scale, i_n * scale, r_n * scale'\n",
    "        ],\n",
    "    },\n",
    "    \"mml\": \"\"\"<math>\n",
    "  <mfrac>\n",
    "    <mrow>\n",
    "      <mi>d</mi>\n",
    "      <mi>I</mi>\n",
    "    </mrow>\n",
    "    <mrow>\n",
    "      <mi>d</mi>\n",
    "      <mi>t</mi>\n",
    "    </mrow>\n",
    "  </mfrac>\n",
    "  <mo>=</mo>\n",
    "  <mfrac>\n",
    "    <mrow>\n",
    "        <mi>&#x03B2;</mi>\n",
    "        <mi>I</mi>\n",
    "        <mi>S</mi>\n",
    "    </mrow>\n",
    "    <mi>N</mi>\n",
    "  </mfrac>\n",
    "  <mo>&#x2212;</mo>\n",
    "  <mi>&#x03B3;</mi>\n",
    "  <mi>I</mi>\n",
    "</math>\"\"\",\n",
    "}\n",
    "URL = f\"{SKEMA_LOCAL_ADDRESS}/workflows/isa/code-align\"\n",
    "response = requests.post(URL, json=single_snippet_payload)\n",
    "print(response.json())\n"
   ]
  }
 ],
 "metadata": {
  "kernelspec": {
   "display_name": "Python 3",
   "language": "python",
   "name": "python3"
  },
  "language_info": {
   "codemirror_mode": {
    "name": "ipython",
    "version": 3
   },
   "file_extension": ".py",
   "mimetype": "text/x-python",
   "name": "python",
   "nbconvert_exporter": "python",
   "pygments_lexer": "ipython3",
   "version": "3.9.6"
  },
  "orig_nbformat": 4
 },
 "nbformat": 4,
 "nbformat_minor": 2
}
