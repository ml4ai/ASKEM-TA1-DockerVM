{
 "cells": [
  {
   "cell_type": "code",
   "execution_count": null,
   "metadata": {},
   "outputs": [],
   "source": [
    "from IPython.display import display, HTML, Image\n",
    "from pathlib import Path\n",
    "import requests\n",
    "import json\n",
    "import os\n",
    "\n",
    "SKEMA_ADDRESS = os.environ.get(\"SKEMA_ADDRESS\", \"https://api.askem.lum.ai\")"
   ]
  },
  {
   "attachments": {},
   "cell_type": "markdown",
   "metadata": {},
   "source": [
    "This is for testing the code2amr endpoint. First is the just the core dynamics selected. "
   ]
  },
  {
   "cell_type": "code",
   "execution_count": null,
   "metadata": {},
   "outputs": [],
   "source": [
    "single_snippet_payload = {\n",
    "        \"files\": [\"SIDARTHE.py\"],\n",
    "        \"blobs\": [open(\"../data/code/SIDARTHE_core.py\").read()],\n",
    "    }"
   ]
  },
  {
   "cell_type": "code",
   "execution_count": null,
   "metadata": {},
   "outputs": [],
   "source": [
    "URL = f\"{SKEMA_ADDRESS}/workflows/code/snippets-to-pn-amr\"\n",
    "response_zip = requests.post(URL, json=single_snippet_payload)\n",
    "response_zip.json()"
   ]
  },
  {
   "attachments": {},
   "cell_type": "markdown",
   "metadata": {},
   "source": [
    "Now we test for the full code file"
   ]
  },
  {
   "cell_type": "code",
   "execution_count": null,
   "metadata": {},
   "outputs": [],
   "source": [
    "single_snippet_payload = {\n",
    "        \"files\": [\"SIDARTHE.py\"],\n",
    "        \"blobs\": [open(\"../data/code/SIDARTHE_full.py\").read()],\n",
    "    }"
   ]
  },
  {
   "cell_type": "code",
   "execution_count": null,
   "metadata": {},
   "outputs": [],
   "source": [
    "URL = f\"{SKEMA_ADDRESS}/workflows/code/snippets-to-pn-amr\"\n",
    "response_zip = requests.post(URL, json=single_snippet_payload)\n",
    "response_zip.json()"
   ]
  },
  {
   "attachments": {},
   "cell_type": "markdown",
   "metadata": {},
   "source": [
    "Now we test with distribution applied"
   ]
  },
  {
   "cell_type": "code",
   "execution_count": null,
   "metadata": {},
   "outputs": [],
   "source": [
    "single_snippet_payload = {\n",
    "        \"files\": [\"SIDARTHE.py\"],\n",
    "        \"blobs\": [open(\"../data/code/SIDARTHE_core_rewrite.py\").read()],\n",
    "    }"
   ]
  },
  {
   "cell_type": "code",
   "execution_count": null,
   "metadata": {},
   "outputs": [],
   "source": [
    "URL = f\"{SKEMA_ADDRESS}/workflows/code/snippets-to-pn-amr\"\n",
    "response_zip = requests.post(URL, json=single_snippet_payload)\n",
    "response_zip.json()"
   ]
  },
  {
   "cell_type": "code",
   "execution_count": null,
   "metadata": {},
   "outputs": [],
   "source": [
    "amr = json.dumps(response_zip.json(), indent=4)\n",
    "\n",
    "with open(\"testing_amr.json\", \"w\") as outfile:\n",
    "    outfile.write(amr)"
   ]
  },
  {
   "attachments": {},
   "cell_type": "markdown",
   "metadata": {},
   "source": [
    "This is for testing the eq2amr workflow through LaTeX"
   ]
  },
  {
   "cell_type": "code",
   "execution_count": null,
   "metadata": {},
   "outputs": [],
   "source": [
    "equations = {\n",
    "    \"equations\": [\n",
    "    \"\\\\frac{dS}{dt} = - \\\\beta I \\\\frac{S}{N}\",\n",
    "    \"\\\\frac{dE}{dt} = \\\\beta I \\\\frac{S}{N} - r_{EI}E\",\n",
    "    \"\\\\frac{dI}{dt} = r_{EI}E - r_{IR}p_{IR}I - r_{IH}p_{IH}I\",\n",
    "    \"\\\\frac{dH}{dt} = r_{IH}p_{IH}I - r_{HR}p_{HR}H - r_{HD}p_{HD}H\",\n",
    "    \"\\\\frac{dR}{dt} = r_{IR}p_{IR}I + r_{HR}p_{HR}H\",\n",
    "    \"\\\\frac{dD}{dt} = r_{HD}p_{HD}H\"\n",
    "    ],\n",
    "    \"model\": \"petrinet\"\n",
    "}"
   ]
  },
  {
   "cell_type": "code",
   "execution_count": null,
   "metadata": {},
   "outputs": [],
   "source": [
    "URL = f\"{SKEMA_ADDRESS}/workflows/latex/equations-to-amr\"\n",
    "response_zip = requests.post(URL, json=equations)\n",
    "response_zip.json()"
   ]
  },
  {
   "cell_type": "code",
   "execution_count": null,
   "metadata": {},
   "outputs": [],
   "source": [
    "equations = {\n",
    "  \"equations\": [\n",
    "    \"<math><mfrac><mrow><mi>d</mi><mi>E</mi></mrow><mrow><mi>d</mi><mi>t</mi></mrow></mfrac><mo>=</mo><mi>&#x03B2;</mi><mi>I</mi><mi>S</mi><mo>&#x2212;</mo><mi>&#x03B4;</mi><mi>E</mi></math>\",\n",
    "\"<math><mfrac><mrow><mi>d</mi><mi>R</mi></mrow><mrow><mi>d</mi><mi>t</mi></mrow></mfrac><mo>=</mo><mi>(1&#x2212;&#x03B1;)</mi><mi>&#x03B3;</mi><mi>I</mi></math>\",\n",
    "\"<math><mfrac><mrow><mi>d</mi><mi>I</mi></mrow><mrow><mi>d</mi><mi>t</mi></mrow></mfrac><mo>=</mo><mi>&#x03B4;</mi><mi>E</mi><mo>&#x2212;</mo><mi>(1&#x2212;&#x03B1;)</mi><mi>&#x03B3;</mi><mi>I</mi><mo>&#x2212;</mo><mi>&#x03B1;</mi><mi>&#x03C1;</mi><mi>I</mi></math>\",\n",
    "\"<math><mfrac><mrow><mi>d</mi><mi>D</mi></mrow><mrow><mi>d</mi><mi>t</mi></mrow></mfrac><mo>=</mo><mi>&#x03B1;</mi><mi>&#x03C1;</mi><mi>I</mi></math>\",\n",
    "\"<math><mfrac><mrow><mi>d</mi><mi>S</mi></mrow><mrow><mi>d</mi><mi>t</mi></mrow></mfrac><mo>=</mo><mo>&#x2212;</mo><mi>&#x03B2;</mi><mi>I</mi><mi>S</mi></math>\"\n",
    "  ],\n",
    "  \"model\": \"petrinet\"\n",
    "}"
   ]
  },
  {
   "cell_type": "code",
   "execution_count": null,
   "metadata": {},
   "outputs": [],
   "source": [
    "URL = f\"{SKEMA_ADDRESS}/workflows/pmml/equations-to-amr\"\n",
    "response_zip = requests.post(URL, json=equations)\n",
    "response_zip.json()"
   ]
  },
  {
   "cell_type": "code",
   "execution_count": null,
   "metadata": {},
   "outputs": [],
   "source": [
    "# more testing now with using the local skema-rs \n",
    "SKEMA_ADDRESS = os.environ.get(\"SKEMA_ADDRESS\", \"http://localhost:8080\")"
   ]
  },
  {
   "cell_type": "code",
   "execution_count": null,
   "metadata": {},
   "outputs": [],
   "source": [
    "equations = {\n",
    "  \"mathml\": [\n",
    "    \"<math><mfrac><mrow><mi>d</mi><mi>E</mi></mrow><mrow><mi>d</mi><mi>t</mi></mrow></mfrac><mo>=</mo><mi>&#x03B2;</mi><mi>I</mi><mi>S</mi><mo>&#x2212;</mo><mi>&#x03B4;</mi><mi>E</mi></math>\",\n",
    "\"<math><mfrac><mrow><mi>d</mi><mi>R</mi></mrow><mrow><mi>d</mi><mi>t</mi></mrow></mfrac><mo>=</mo><mi>(1&#x2212;&#x03B1;)</mi><mi>&#x03B3;</mi><mi>I</mi></math>\",\n",
    "\"<math><mfrac><mrow><mi>d</mi><mi>I</mi></mrow><mrow><mi>d</mi><mi>t</mi></mrow></mfrac><mo>=</mo><mi>&#x03B4;</mi><mi>E</mi><mo>&#x2212;</mo><mi>(1&#x2212;&#x03B1;)</mi><mi>&#x03B3;</mi><mi>I</mi><mo>&#x2212;</mo><mi>&#x03B1;</mi><mi>&#x03C1;</mi><mi>I</mi></math>\",\n",
    "\"<math><mfrac><mrow><mi>d</mi><mi>D</mi></mrow><mrow><mi>d</mi><mi>t</mi></mrow></mfrac><mo>=</mo><mi>&#x03B1;</mi><mi>&#x03C1;</mi><mi>I</mi></math>\",\n",
    "\"<math><mfrac><mrow><mi>d</mi><mi>S</mi></mrow><mrow><mi>d</mi><mi>t</mi></mrow></mfrac><mo>=</mo><mo>&#x2212;</mo><mi>&#x03B2;</mi><mi>I</mi><mi>S</mi></math>\"\n",
    "  ],\n",
    "  \"model\": \"petrinet\"\n",
    "}"
   ]
  },
  {
   "cell_type": "code",
   "execution_count": null,
   "metadata": {},
   "outputs": [],
   "source": [
    "URL = f\"{SKEMA_ADDRESS}/mathml/amr\"\n",
    "response_zip = requests.put(URL, json=equations)\n",
    "response_zip.json()"
   ]
  },
  {
   "attachments": {},
   "cell_type": "markdown",
   "metadata": {},
   "source": [
    "This is just me getting the FN to see why the distribution isn't being handled"
   ]
  },
  {
   "cell_type": "code",
   "execution_count": null,
   "metadata": {},
   "outputs": [],
   "source": [
    "single_snippet_payload = {\n",
    "        \"files\": [\"database_testing.py\"],\n",
    "        \"blobs\": [open(\"../data/code/database_testing.py\").read()],\n",
    "    }"
   ]
  },
  {
   "cell_type": "code",
   "execution_count": null,
   "metadata": {},
   "outputs": [],
   "source": [
    "import json\n",
    "\n",
    "\n",
    "def dictionary_to_gromet_json(\n",
    "    o, fold_level=5, indent=4, level=0, parent_key=\"\"\n",
    "):\n",
    "    if level < fold_level:\n",
    "        newline = \"\\n\"\n",
    "        space = \" \"\n",
    "    else:\n",
    "        newline = \"\"\n",
    "        space = \"\"\n",
    "    ret = \"\"\n",
    "    if isinstance(o, str):\n",
    "        ret += json.dumps(\n",
    "            o\n",
    "        )  # json.dumps() will properly escape special characters\n",
    "    elif isinstance(o, bool):\n",
    "        ret += \"true\" if o else \"false\"\n",
    "    elif isinstance(o, float):\n",
    "        ret += \"%.7g\" % o\n",
    "    elif isinstance(o, int):\n",
    "        ret += str(o)\n",
    "    elif isinstance(o, list):\n",
    "        ret += \"[\" + newline\n",
    "        comma = \"\"\n",
    "        for e in o:\n",
    "            ret += comma\n",
    "            comma = \",\" + newline\n",
    "            ret += space * indent * (level + 1)\n",
    "            ret += dictionary_to_gromet_json(\n",
    "                e, fold_level, indent, level + 1, parent_key\n",
    "            )\n",
    "        ret += newline + space * indent * level + \"]\"\n",
    "    elif isinstance(o, dict):\n",
    "        ret += \"{\" + newline\n",
    "        comma = \"\"\n",
    "        for k, v in o.items():\n",
    "            ret += comma\n",
    "            comma = \",\" + newline\n",
    "            ret += space * indent * (level + 1)\n",
    "            ret += '\"' + str(k) + '\":' + space\n",
    "            if k == \"fn\":\n",
    "                ret += dictionary_to_gromet_json(v, 4, indent, level + 1, k)\n",
    "            elif k == \"attributes\":\n",
    "                ret += dictionary_to_gromet_json(v, 6, indent, level + 1, k)\n",
    "            elif k == \"bf\" and parent_key == \"fn\":\n",
    "                ret += dictionary_to_gromet_json(v, 5, indent, level + 1, k)\n",
    "            elif k == \"bf\" and parent_key == \"value\":\n",
    "                ret += dictionary_to_gromet_json(v, 7, indent, level + 1, k)\n",
    "            else:\n",
    "                ret += dictionary_to_gromet_json(\n",
    "                    v, fold_level, indent, level + 1, k\n",
    "                )\n",
    "        ret += newline + space * indent * level + \"}\"\n",
    "    elif o is None:\n",
    "        ret += \"null\"\n",
    "    else:\n",
    "        # NOTE: We added this check here to catch any Python objects that\n",
    "        # didn't get turned into dictionaries.\n",
    "        # This is to circumvent Swagger's inability to generate to_dicts that support\n",
    "        # multi-dimensional dictionaries. This becomes an issue for us when we're storing\n",
    "        # an array of metadata arrays\n",
    "        if hasattr(o, \"to_dict\"):\n",
    "            temp = del_nulls(o.to_dict())\n",
    "            ret += dictionary_to_gromet_json(\n",
    "                temp, fold_level, indent, level, parent_key\n",
    "            )\n",
    "        else:\n",
    "            ret += str(o)\n",
    "    return ret\n",
    "\n",
    "\n",
    "def del_nulls(d):\n",
    "    for key, value in list(d.items()):\n",
    "        if isinstance(value, list):\n",
    "            for elem in value:\n",
    "                if isinstance(elem, dict):\n",
    "                    del_nulls(elem)\n",
    "        if isinstance(value, dict):\n",
    "            del_nulls(value)\n",
    "        if value is None:\n",
    "            del d[key]\n",
    "\n",
    "    return d\n"
   ]
  },
  {
   "cell_type": "code",
   "execution_count": null,
   "metadata": {},
   "outputs": [],
   "source": [
    "URL = f\"{SKEMA_ADDRESS}/code2fn/fn-given-filepaths\"\n",
    "response_zip = requests.post(URL, json=single_snippet_payload)\n",
    "gromet = json.dumps(response_zip.json(), indent=4)\n",
    "\n",
    "gromet_json = json.loads(gromet)\n",
    "\n",
    "with open(\"testing_database_gromet.json\", \"w\") as outfile:\n",
    "    gromet_collection_dict = (\n",
    "                    gromet_json\n",
    "                )\n",
    "    outfile.write(\n",
    "        dictionary_to_gromet_json(\n",
    "            del_nulls(gromet_collection_dict), level=0\n",
    "            )\n",
    "        )"
   ]
  }
 ],
 "metadata": {
  "kernelspec": {
   "display_name": "Python 3",
   "language": "python",
   "name": "python3"
  },
  "language_info": {
   "codemirror_mode": {
    "name": "ipython",
    "version": 3
   },
   "file_extension": ".py",
   "mimetype": "text/x-python",
   "name": "python",
   "nbconvert_exporter": "python",
   "pygments_lexer": "ipython3",
   "version": "3.8.17"
  },
  "orig_nbformat": 4
 },
 "nbformat": 4,
 "nbformat_minor": 2
}
