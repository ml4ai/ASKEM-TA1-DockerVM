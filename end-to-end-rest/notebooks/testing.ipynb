{
 "cells": [
  {
   "cell_type": "code",
   "execution_count": null,
   "metadata": {},
   "outputs": [],
   "source": [
    "from IPython.display import display, HTML, Image\n",
    "from pathlib import Path\n",
    "import requests\n",
    "import json\n",
    "import os\n",
    "\n",
    "SKEMA_ADDRESS = os.environ.get(\"SKEMA_ADDRESS\", \"https://api.askem.lum.ai\")"
   ]
  },
  {
   "attachments": {},
   "cell_type": "markdown",
   "metadata": {},
   "source": [
    "This is for testing the code2amr endpoint. First is the just the core dynamics selected. "
   ]
  },
  {
   "cell_type": "code",
   "execution_count": null,
   "metadata": {},
   "outputs": [],
   "source": [
    "single_snippet_payload = {\n",
    "        \"files\": [\"SIDARTHE.py\"],\n",
    "        \"blobs\": [open(\"../data/code/SIDARTHE_core.py\").read()],\n",
    "    }"
   ]
  },
  {
   "cell_type": "code",
   "execution_count": null,
   "metadata": {},
   "outputs": [],
   "source": [
    "URL = f\"{SKEMA_ADDRESS}/workflows/code/snippets-to-pn-amr\"\n",
    "response_zip = requests.post(URL, json=single_snippet_payload)\n",
    "response_zip.json()"
   ]
  },
  {
   "attachments": {},
   "cell_type": "markdown",
   "metadata": {},
   "source": [
    "Now we test for the full code file"
   ]
  },
  {
   "cell_type": "code",
   "execution_count": null,
   "metadata": {},
   "outputs": [],
   "source": [
    "single_snippet_payload = {\n",
    "        \"files\": [\"SIDARTHE.py\"],\n",
    "        \"blobs\": [open(\"../data/code/SIDARTHE_full.py\").read()],\n",
    "    }"
   ]
  },
  {
   "cell_type": "code",
   "execution_count": null,
   "metadata": {},
   "outputs": [],
   "source": [
    "URL = f\"{SKEMA_ADDRESS}/workflows/code/snippets-to-pn-amr\"\n",
    "response_zip = requests.post(URL, json=single_snippet_payload)\n",
    "response_zip.json()"
   ]
  },
  {
   "attachments": {},
   "cell_type": "markdown",
   "metadata": {},
   "source": [
    "Now we test with distribution applied"
   ]
  },
  {
   "cell_type": "code",
   "execution_count": null,
   "metadata": {},
   "outputs": [],
   "source": [
    "single_snippet_payload = {\n",
    "        \"files\": [\"SIDARTHE.py\"],\n",
    "        \"blobs\": [open(\"../data/code/SIDARTHE_core_rewrite.py\").read()],\n",
    "    }"
   ]
  },
  {
   "cell_type": "code",
   "execution_count": null,
   "metadata": {},
   "outputs": [],
   "source": [
    "URL = f\"{SKEMA_ADDRESS}/workflows/code/snippets-to-pn-amr\"\n",
    "response_zip = requests.post(URL, json=single_snippet_payload)\n",
    "response_zip.json()"
   ]
  },
  {
   "cell_type": "code",
   "execution_count": null,
   "metadata": {},
   "outputs": [],
   "source": [
    "amr = json.dumps(response_zip.json(), indent=4)\n",
    "\n",
    "with open(\"testing_amr.json\", \"w\") as outfile:\n",
    "    outfile.write(amr)"
   ]
  },
  {
   "attachments": {},
   "cell_type": "markdown",
   "metadata": {},
   "source": [
    "This is for testing the eq2amr workflow through LaTeX"
   ]
  },
  {
   "cell_type": "code",
   "execution_count": null,
   "metadata": {},
   "outputs": [],
   "source": [
    "equations = {\n",
    "    \"equations\": [\n",
    "    \"\\\\frac{dS}{dt} = - \\\\beta I \\\\frac{S}{N}\",\n",
    "    \"\\\\frac{dE}{dt} = \\\\beta I \\\\frac{S}{N} - r_{EI}E\",\n",
    "    \"\\\\frac{dI}{dt} = r_{EI}E - r_{IR}p_{IR}I - r_{IH}p_{IH}I\",\n",
    "    \"\\\\frac{dH}{dt} = r_{IH}p_{IH}I - r_{HR}p_{HR}H - r_{HD}p_{HD}H\",\n",
    "    \"\\\\frac{dR}{dt} = r_{IR}p_{IR}I + r_{HR}p_{HR}H\",\n",
    "    \"\\\\frac{dD}{dt} = r_{HD}p_{HD}H\"\n",
    "    ],\n",
    "    \"model\": \"petrinet\"\n",
    "}"
   ]
  },
  {
   "cell_type": "code",
   "execution_count": null,
   "metadata": {},
   "outputs": [],
   "source": [
    "URL = f\"{SKEMA_ADDRESS}/workflows/latex/equations-to-amr\"\n",
    "response_zip = requests.post(URL, json=equations)\n",
    "response_zip.json()"
   ]
  },
  {
   "attachments": {},
   "cell_type": "markdown",
   "metadata": {},
   "source": [
    "This is just me getting the FN to see why the distribution isn't being handled"
   ]
  },
  {
   "cell_type": "code",
   "execution_count": null,
   "metadata": {},
   "outputs": [],
   "source": [
    "single_snippet_payload = {\n",
    "        \"files\": [\"SIDARTHE.py\"],\n",
    "        \"blobs\": [open(\"../data/code/SIDARTHE_core.py\").read()],\n",
    "    }"
   ]
  },
  {
   "cell_type": "code",
   "execution_count": null,
   "metadata": {},
   "outputs": [],
   "source": [
    "URL = f\"{SKEMA_ADDRESS}/code2fn/fn-given-filepaths\"\n",
    "response_zip = requests.post(URL, json=single_snippet_payload)\n",
    "gromet = json.dumps(response_zip.json(), indent=4)\n",
    "\n",
    "with open(\"testing_gromet.json\", \"w\") as outfile:\n",
    "    outfile.write(gromet)"
   ]
  }
 ],
 "metadata": {
  "kernelspec": {
   "display_name": "Python 3",
   "language": "python",
   "name": "python3"
  },
  "language_info": {
   "codemirror_mode": {
    "name": "ipython",
    "version": 3
   },
   "file_extension": ".py",
   "mimetype": "text/x-python",
   "name": "python",
   "nbconvert_exporter": "python",
   "pygments_lexer": "ipython3",
   "version": "3.8.17"
  },
  "orig_nbformat": 4
 },
 "nbformat": 4,
 "nbformat_minor": 2
}
