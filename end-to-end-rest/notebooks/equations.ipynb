{
 "cells": [
  {
   "cell_type": "code",
   "execution_count": 1,
   "id": "9b699411",
   "metadata": {
    "pycharm": {
     "name": "#%%\n"
    }
   },
   "outputs": [],
   "source": [
    "from IPython.display import Image, display, HTML\n",
    "import requests\n",
    "import json\n",
    "import os\n",
    "import base64\n",
    "\n",
    "pp = lambda x: print(json.dumps(x, indent=2))\n",
    "\n",
    "SKEMA_ADDRESS = os.environ.get(\"SKEMA_ADDRESS\", \"http://skema-py:8000\")"
   ]
  },
  {
   "cell_type": "markdown",
   "id": "ac24657b",
   "metadata": {
    "pycharm": {
     "name": "#%% md\n"
    }
   },
   "source": [
    "# Processing equations"
   ]
  },
  {
   "cell_type": "markdown",
   "id": "391aea16",
   "metadata": {
    "pycharm": {
     "name": "#%% md\n"
    }
   },
   "source": [
    "## Generating pMML from LaTeX equations\n",
    "\n",
    "This is a service that converts LaTeX equations into their corresponding presentation MathML format. This service utilizes MathJAX for the conversion process. As an example, we demonstrate the conversion of equations from the SIDARTHE paper."
   ]
  },
  {
   "cell_type": "code",
   "execution_count": null,
   "outputs": [],
   "source": [
    "with open(\"../data/latex/sidarthe_eqn1.txt\", \"r\") as file:\n",
    "    tex_equation = file.read()\n",
    "print(f\"The orignial LaTeX: \\n{tex_equation}\")\n",
    "r = requests.post(f\"{SKEMA_ADDRESS}/latex/mml\", json={\"tex_src\": tex_equation})\n",
    "print(f\"The presentation MathML: \\n{r.text}\")"
   ],
   "metadata": {
    "collapsed": false,
    "pycharm": {
     "name": "#%%\n"
    }
   }
  },
  {
   "cell_type": "markdown",
   "source": [
    "## Generating pMML from equation images\n",
    "This is a service that converts equation images into their corresponding presentation MathML format using a trained deep neural network. As an example, we showcase the conversion of equations from the SIDARTHE paper."
   ],
   "metadata": {
    "collapsed": false,
    "pycharm": {
     "name": "#%% md\n"
    }
   }
  },
  {
   "cell_type": "code",
   "execution_count": null,
   "outputs": [],
   "source": [
    "file = \"../data/images/sidarthe_eqn1.png\""
   ],
   "metadata": {
    "collapsed": false,
    "pycharm": {
     "name": "#%%\n"
    }
   }
  },
  {
   "cell_type": "code",
   "execution_count": null,
   "outputs": [],
   "source": [
    "display(Image(filename=file))"
   ],
   "metadata": {
    "collapsed": false,
    "pycharm": {
     "name": "#%%\n"
    }
   }
  },
  {
   "cell_type": "markdown",
   "source": [
    "## Option 1: Upload file"
   ],
   "metadata": {
    "collapsed": false,
    "pycharm": {
     "name": "#%% md\n"
    }
   }
  },
  {
   "cell_type": "code",
   "execution_count": null,
   "outputs": [],
   "source": [
    "with open(file, \"rb\") as img:\n",
    "    files = {\n",
    "        \"data\": img.read()\n",
    "    }\n",
    "r = requests.post(f\"{SKEMA_ADDRESS}/image/mml\", files=files)\n",
    "print(r.text)\n",
    "display(HTML(r.text))"
   ],
   "metadata": {
    "collapsed": false,
    "pycharm": {
     "name": "#%%\n"
    }
   }
  },
  {
   "cell_type": "markdown",
   "source": [
    "## Option 2: encode image as base64"
   ],
   "metadata": {
    "collapsed": false,
    "pycharm": {
     "name": "#%% md\n"
    }
   }
  },
  {
   "cell_type": "code",
   "execution_count": null,
   "outputs": [],
   "source": [
    "with open(file, \"rb\") as img:\n",
    "    image_b64 = base64.b64encode(img.read()).decode(\"utf-8\")\n",
    "r = requests.post(f\"{SKEMA_ADDRESS}/image/base64/mml\", data=image_b64)\n",
    "print(r.text)\n",
    "display(HTML(r.text))"
   ],
   "metadata": {
    "collapsed": false,
    "pycharm": {
     "name": "#%%\n"
    }
   }
  },
  {
   "cell_type": "code",
   "execution_count": null,
   "outputs": [],
   "source": [],
   "metadata": {
    "collapsed": false,
    "pycharm": {
     "name": "#%%\n"
    }
   }
  },
  {
   "cell_type": "code",
   "execution_count": null,
   "id": "b264bfad",
   "metadata": {},
   "outputs": [],
   "source": []
  }
 ],
 "metadata": {
  "kernelspec": {
   "display_name": "Python 3",
   "language": "python",
   "name": "python3"
  },
  "language_info": {
   "codemirror_mode": {
    "name": "ipython",
    "version": 3
   },
   "file_extension": ".py",
   "mimetype": "text/x-python",
   "name": "python",
   "nbconvert_exporter": "python",
   "pygments_lexer": "ipython3",
   "version": "3.7.9"
  }
 },
 "nbformat": 4,
 "nbformat_minor": 5
}