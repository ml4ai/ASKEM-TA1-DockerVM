{
 "cells": [
  {
   "cell_type": "code",
   "execution_count": null,
   "outputs": [],
   "source": [
    "from IPython.display import Image, display\n",
    "import requests\n",
    "import json\n",
    "import os\n",
    "\n",
    "pp = lambda x: print(json.dumps(x, indent=2))\n",
    "\n",
    "SKEMA_EQ2MML_SERVICE = os.environ.get(\"SKEMA_EQMML_ADDRESS\", \"http://0.0.0.0:8000\")"
   ],
   "metadata": {
    "collapsed": false,
    "pycharm": {
     "name": "#%%\n"
    }
   }
  },
  {
   "cell_type": "markdown",
   "source": [
    "# Processing equations"
   ],
   "metadata": {
    "collapsed": false,
    "pycharm": {
     "name": "#%% md\n"
    }
   }
  },
  {
   "cell_type": "markdown",
   "source": [
    "## Generating pMML from LaTeX equations\n",
    "\n",
    "This is a service that converts LaTeX equations into their corresponding presentation MathML format. This service utilizes MathJAX for the conversion process. As an example, we demonstrate the conversion of equations from the SIDARTHE paper."
   ],
   "metadata": {
    "collapsed": false,
    "pycharm": {
     "name": "#%% md\n"
    }
   }
  },
  {
   "cell_type": "code",
   "execution_count": null,
   "outputs": [],
   "source": [
    "with open(\"../data/latex/sidarthe_eqn1.txt\", \"r\") as file:\n",
    "    tex_equation = file.read()\n",
    "print(f\"The orignial LaTeX: \\n{tex_equation}\")\n",
    "r = requests.post(\"{}/latex/mml\".format(SKEMA_EQ2MML_SERVICE), json={\"tex_src\": tex_equation})\n",
    "print(f\"The presentation MathML: \\n{r.text}\")"
   ],
   "metadata": {
    "collapsed": false,
    "pycharm": {
     "name": "#%%\n"
    }
   }
  },
  {
   "cell_type": "markdown",
   "source": [
    "## Generating pMML from equation images\n",
    "This is a service that converts equation images into their corresponding presentation MathML format using a trained deep neural network. As an example, we showcase the conversion of equations from the SIDARTHE paper."
   ],
   "metadata": {
    "collapsed": false,
    "pycharm": {
     "name": "#%% md\n"
    }
   }
  },
  {
   "cell_type": "code",
   "execution_count": null,
   "outputs": [],
   "source": [
    "file = \"../data/images/sidarthe_eqn1.png\""
   ],
   "metadata": {
    "collapsed": false,
    "pycharm": {
     "name": "#%%\n"
    }
   }
  },
  {
   "cell_type": "code",
   "execution_count": null,
   "outputs": [],
   "source": [
    "display(Image(filename=file))"
   ],
   "metadata": {
    "collapsed": false,
    "pycharm": {
     "name": "#%%\n"
    }
   }
  },
  {
   "cell_type": "code",
   "execution_count": null,
   "outputs": [],
   "source": [
    "files = {\n",
    "  \"data\": open(file, \"rb\"),\n",
    "}\n",
    "r = requests.post(\"{}/image/mml\".format(SKEMA_EQ2MML_SERVICE), files=files)\n",
    "print(r.text)"
   ],
   "metadata": {
    "collapsed": false,
    "pycharm": {
     "name": "#%%\n"
    }
   }
  }
 ],
 "metadata": {
  "kernelspec": {
   "display_name": "Python 3",
   "language": "python",
   "name": "python3"
  },
  "language_info": {
   "codemirror_mode": {
    "name": "ipython",
    "version": 3
   },
   "file_extension": ".py",
   "mimetype": "text/x-python",
   "name": "python",
   "nbconvert_exporter": "python",
   "pygments_lexer": "ipython3",
   "version": "3.7.9"
  }
 },
 "nbformat": 4,
 "nbformat_minor": 5
}