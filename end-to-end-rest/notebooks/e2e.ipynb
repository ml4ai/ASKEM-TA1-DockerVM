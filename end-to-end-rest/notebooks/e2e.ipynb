{
 "cells": [
  {
   "cell_type": "code",
   "execution_count": 1,
   "id": "2106821b",
   "metadata": {},
   "outputs": [],
   "source": [
    "import requests"
   ]
  },
  {
   "cell_type": "markdown",
   "id": "332e81d8",
   "metadata": {},
   "source": [
    "# Processing equations"
   ]
  },
  {
   "cell_type": "markdown",
   "id": "5552d549",
   "metadata": {},
   "source": [
    "## Generating pMML from LaTeX equations"
   ]
  },
  {
   "cell_type": "code",
   "execution_count": 2,
   "id": "d59af70e",
   "metadata": {},
   "outputs": [
    {
     "name": "stdout",
     "output_type": "stream",
     "text": [
      "<math xmlns=\"http://www.w3.org/1998/Math/MathML\" display=\"block\" alttext=\"E = mc^{2}\">\n",
      "  <mi>E</mi>\n",
      "  <mo>=</mo>\n",
      "  <mi>m</mi>\n",
      "  <msup>\n",
      "    <mi>c</mi>\n",
      "    <mrow class=\"MJX-TeXAtom-ORD\">\n",
      "      <mn>2</mn>\n",
      "    </mrow>\n",
      "  </msup>\n",
      "</math>\n"
     ]
    }
   ],
   "source": [
    "tex_equation = \"E = mc^{2}\"\n",
    "r = requests.post(\"http://eq2mml:8001/latex/mml\", json={\"tex_src\": tex_equation})\n",
    "print(r.text)"
   ]
  },
  {
   "cell_type": "markdown",
   "id": "51b1da0d",
   "metadata": {},
   "source": [
    "## Generating pMML from equation images"
   ]
  },
  {
   "cell_type": "code",
   "execution_count": 8,
   "id": "4a9fe653",
   "metadata": {},
   "outputs": [
    {
     "name": "stdout",
     "output_type": "stream",
     "text": [
      "<math> <mrow> <mn> <mtr> <mtd> <msub> <mi> P </mi> <mrow> <mo> ( </mo> <mrow> <mi> b </mi> </mrow> <mrow> <mo> | </mo> </mrow> <mi> a </mi> <mo> ) </mo> </mrow> </msub> <mo> = </mo> <mrow> <mfrac> <mrow> <msub> <mi> P </mi> <mrow> <mo> ( </mo> <mrow> <mi> a </mi> </mrow> <mrow> <mo> | </mo> </mrow> <mrow> <mi> b </mi> </mrow> <mo> ) </mo> </mrow> </msub> <mo> &#x22C5 </mo> <msub> <mi> P </mi> <mrow> <mo> ( </mo> <mrow> <mi> b </mi> </mrow> <mo> ) </mo> </mrow> </msub> </mrow> <mrow> <msubsup> <mi> P </mi> <mrow> <mo> ( </mo> <mrow> <mi> a </mi> </mrow> <mo> ) </mo> </mrow> <mrow> <mo> ( </mo> <mrow> <mi> b </mi> </mrow> <mo> ) </mo> </mrow> </msubsup> </mrow> </mfrac> </mrow> </math>\n"
     ]
    }
   ],
   "source": [
    "files = {\n",
    "  \"data\": open(\"/data/skema/images/bayes-rule-white-bg.png\", \"rb\"),\n",
    "}\n",
    "r = requests.post(\"http://eq2mml:8001/image/mml\", files=files)\n",
    "print(r.text)"
   ]
  },
  {
   "cell_type": "code",
   "execution_count": null,
   "id": "8fddcfbf",
   "metadata": {},
   "outputs": [],
   "source": []
  }
 ],
 "metadata": {
  "kernelspec": {
   "display_name": "Python 3 (ipykernel)",
   "language": "python",
   "name": "python3"
  },
  "language_info": {
   "codemirror_mode": {
    "name": "ipython",
    "version": 3
   },
   "file_extension": ".py",
   "mimetype": "text/x-python",
   "name": "python",
   "nbconvert_exporter": "python",
   "pygments_lexer": "ipython3",
   "version": "3.8.17"
  }
 },
 "nbformat": 4,
 "nbformat_minor": 5
}
