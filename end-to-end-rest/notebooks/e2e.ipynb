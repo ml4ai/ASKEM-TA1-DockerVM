{
 "cells": [
  {
   "cell_type": "code",
   "execution_count": 10,
   "id": "2106821b",
   "metadata": {},
   "outputs": [],
   "source": [
    "import requests"
   ]
  },
  {
   "cell_type": "markdown",
   "id": "5685cb9c",
   "metadata": {},
   "source": [
    "# Processing equations"
   ]
  },
  {
   "cell_type": "markdown",
   "id": "5552d549",
   "metadata": {},
   "source": [
    "## Generating pMML from LaTeX equations"
   ]
  },
  {
   "cell_type": "code",
   "execution_count": 11,
   "id": "d59af70e",
   "metadata": {},
   "outputs": [
    {
     "name": "stdout",
     "output_type": "stream",
     "text": [
      "<math xmlns=\"http://www.w3.org/1998/Math/MathML\" display=\"block\" alttext=\"E = mc^{2}\">\n",
      "  <mi>E</mi>\n",
      "  <mo>=</mo>\n",
      "  <mi>m</mi>\n",
      "  <msup>\n",
      "    <mi>c</mi>\n",
      "    <mrow class=\"MJX-TeXAtom-ORD\">\n",
      "      <mn>2</mn>\n",
      "    </mrow>\n",
      "  </msup>\n",
      "</math>\n"
     ]
    }
   ],
   "source": [
    "tex_equation = \"E = mc^{2}\"\n",
    "r = requests.post(\"http://eq2mml:8001/latex/mml\", json={\"tex_src\": tex_equation})\n",
    "print(r.text)"
   ]
  },
  {
   "cell_type": "markdown",
   "id": "51b1da0d",
   "metadata": {},
   "source": [
    "## Generating pMML from equation images"
   ]
  },
  {
   "cell_type": "code",
   "execution_count": 14,
   "id": "ba73e1c0",
   "metadata": {},
   "outputs": [
    {
     "data": {
      "image/png": "[encoded data removed]",
      "text/plain": [
       "<IPython.core.display.Image object>"
      ]
     },
     "metadata": {},
     "output_type": "display_data"
    }
   ],
   "source": [
    "from IPython.display import Image, display\n",
    "display(Image(filename=\"/data/skema/images/bayes-rule-white-bg.png\"))\n"
   ]
  },
  {
   "cell_type": "code",
   "execution_count": 12,
   "id": "4a9fe653",
   "metadata": {},
   "outputs": [
    {
     "name": "stdout",
     "output_type": "stream",
     "text": [
      "<math> <mrow> <mn> <mtr> <mtd> <msub> <mi> P </mi> <mrow> <mo> ( </mo> <mrow> <mi> b </mi> </mrow> <mrow> <mo> | </mo> </mrow> <mi> a </mi> <mo> ) </mo> </mrow> </msub> <mo> = </mo> <mrow> <mfrac> <mrow> <msub> <mi> P </mi> <mrow> <mo> ( </mo> <mrow> <mi> a </mi> </mrow> <mrow> <mo> | </mo> </mrow> <mrow> <mi> b </mi> </mrow> <mo> ) </mo> </mrow> </msub> <mo> &#x22C5 </mo> <msub> <mi> P </mi> <mrow> <mo> ( </mo> <mrow> <mi> b </mi> </mrow> <mo> ) </mo> </mrow> </msub> </mrow> <mrow> <msubsup> <mi> P </mi> <mrow> <mo> ( </mo> <mrow> <mi> a </mi> </mrow> <mo> ) </mo> </mrow> <mrow> <mo> ( </mo> <mrow> <mi> b </mi> </mrow> <mo> ) </mo> </mrow> </msubsup> </mrow> </mfrac> </mrow> </math>\n"
     ]
    }
   ],
   "source": [
    "files = {\n",
    "  \"data\": open(\"/data/skema/images/bayes-rule-white-bg.png\", \"rb\"),\n",
    "}\n",
    "r = requests.post(\"http://eq2mml:8001/image/mml\", files=files)\n",
    "print(r.text)"
   ]
  },
  {
   "cell_type": "markdown",
   "id": "441dea25",
   "metadata": {},
   "source": [
    "# Code -> Gromet"
   ]
  },
  {
   "cell_type": "markdown",
   "id": "47f58309",
   "metadata": {},
   "source": [
    "## Processing one or more files (Python)"
   ]
  },
  {
   "cell_type": "code",
   "execution_count": 20,
   "id": "a6c3be06",
   "metadata": {
    "scrolled": true
   },
   "outputs": [
    {
     "name": "stdout",
     "output_type": "stream",
     "text": [
      "{\n",
      "    \"schema\": \"FN\",\n",
      "    \"schema_version\": \"0.1.6\",\n",
      "    \"name\": \"\",\n",
      "    \"modules\": [\n",
      "        {\n",
      "            \"schema\": \"FN\",\n",
      "            \"schema_version\": \"0.1.7\",\n",
      "            \"name\": \"exp1\",\n",
      "            \"fn\": {\n",
      "                \"b\": [{\"function_type\":\"MODULE\",\"gromet_type\":\"GrometBoxFunction\",\"name\":\"module\",\"metadata\":3}],\n",
      "                \"bf\": [\n",
      "                    {\"function_type\":\"EXPRESSION\",\"body\":1,\"gromet_type\":\"GrometBoxFunction\",\"metadata\":5}\n",
      "                ],\n",
      "                \"pof\": [{\"id\":1,\"name\":\"x\",\"box\":1,\"gromet_type\":\"GrometPort\"}],\n",
      "                \"gromet_type\": \"GrometFN\"\n",
      "            },\n",
      "            \"fn_array\": [\n",
      "                {\n",
      "                    \"b\": [{\"function_type\":\"EXPRESSION\",\"gromet_type\":\"GrometBoxFunction\"}],\n",
      "                    \"opo\": [{\"id\":1,\"box\":1,\"gromet_type\":\"GrometPort\"}],\n",
      "                    \"bf\": [{\"function_type\":\"LITERAL\",\"value\":{\"value_type\":\"Integer\",\"value\":2,\"gromet_type\":\"LiteralValue\"},\"gromet_type\":\"GrometBoxFunction\",\"metadata\":4}],\n",
      "                    \"pof\": [{\"id\":1,\"box\":1,\"gromet_type\":\"GrometPort\"}],\n",
      "                    \"wfopo\": [{\"src\":1,\"tgt\":1,\"gromet_type\":\"GrometWire\"}],\n",
      "                    \"gromet_type\": \"GrometFN\"\n",
      "                }\n",
      "            ],\n",
      "            \"metadata_collection\": [\n",
      "                [\n",
      "\n",
      "                ],\n",
      "                [\n",
      "                    {\"metadata_type\":\"source_code_collection\",\"name\":\"\",\"global_reference_id\":\"\",\"files\":[{\"uid\":\"c710de1e-d6cf-d8fd-838b-6b33dbc5ee39\",\"name\":\"exp1.py\",\"path\":\"\"}],\"provenance\":{\"method\":\"skema_code2fn_program_analysis\",\"timestamp\":\"2023-06-26 21:51:28.229627\"}},\n",
      "                    {\"metadata_type\":\"gromet_creation\",\"gromet_version\":\"0.1.2\",\"provenance\":{\"method\":\"skema_code2fn_program_analysis\",\"timestamp\":\"2023-06-26 21:51:28.229652\"}}\n",
      "                ],\n",
      "                [\n",
      "                    {\"metadata_type\":\"source_code_reference\",\"code_file_reference_uid\":\"c710de1e-d6cf-d8fd-838b-6b33dbc5ee39\",\"line_begin\":1,\"line_end\":1,\"provenance\":{\"method\":\"skema_code2fn_program_analysis\",\"timestamp\":\"2023-06-26 21:51:28.229675\"}}\n",
      "                ],\n",
      "                [\n",
      "                    {\"metadata_type\":\"source_code_data_type\",\"source_language\":\"Python\",\"source_language_version\":\"3.8\",\"data_type\":\"<class 'int'>\",\"provenance\":{\"method\":\"skema_code2fn_program_analysis\",\"timestamp\":\"2023-06-26 21:51:28.229786\"}},\n",
      "                    {\"metadata_type\":\"source_code_reference\",\"code_file_reference_uid\":\"c710de1e-d6cf-d8fd-838b-6b33dbc5ee39\",\"line_begin\":1,\"line_end\":1,\"col_begin\":2,\"col_end\":3,\"provenance\":{\"method\":\"skema_code2fn_program_analysis\",\"timestamp\":\"2023-06-26 21:51:28.229774\"}}\n",
      "                ],\n",
      "                [\n",
      "                    {\"metadata_type\":\"source_code_reference\",\"code_file_reference_uid\":\"c710de1e-d6cf-d8fd-838b-6b33dbc5ee39\",\"line_begin\":1,\"line_end\":1,\"col_begin\":0,\"col_end\":3,\"provenance\":{\"method\":\"skema_code2fn_program_analysis\",\"timestamp\":\"2023-06-26 21:51:28.229735\"}}\n",
      "                ]\n",
      "            ],\n",
      "            \"gromet_type\": \"GrometFNModule\",\n",
      "            \"metadata\": 2\n",
      "        }\n",
      "    ],\n",
      "    \"module_index\": [\n",
      "        \"tmpix704gfi.exp1\"\n",
      "    ],\n",
      "    \"executables\": [\n",
      "\n",
      "    ],\n",
      "    \"gromet_type\": \"GrometFNModuleCollection\"\n",
      "}\n"
     ]
    }
   ],
   "source": [
    "system = {\n",
    "  \"files\": [\"exp1.py\"],\n",
    "  \"blobs\": [\"x=2\"]\n",
    "}\n",
    "response = requests.post(\"http://skema-py:8000/fn-given-filepaths\", json=system)\n",
    "print(response.json())"
   ]
  },
  {
   "cell_type": "markdown",
   "id": "98f2ec66",
   "metadata": {},
   "source": [
    "## Processing one or more files (Fortran)"
   ]
  },
  {
   "cell_type": "code",
   "execution_count": 21,
   "id": "e3a7b222",
   "metadata": {},
   "outputs": [
    {
     "name": "stdout",
     "output_type": "stream",
     "text": [
      "{\n",
      "    \"schema\": \"FN\",\n",
      "    \"schema_version\": \"0.1.6\",\n",
      "    \"name\": \"\",\n",
      "    \"modules\": [\n",
      "        {\n",
      "            \"schema\": \"FN\",\n",
      "            \"schema_version\": \"0.1.7\",\n",
      "            \"name\": \"exp1.f95\",\n",
      "            \"fn\": {\n",
      "                \"b\": [{\"function_type\":\"MODULE\",\"gromet_type\":\"GrometBoxFunction\",\"name\":\"module\",\"metadata\":3}],\n",
      "                \"bf\": [\n",
      "                    {\"function_type\":\"EXPRESSION\",\"body\":1,\"gromet_type\":\"GrometBoxFunction\",\"metadata\":5}\n",
      "                ],\n",
      "                \"pof\": [{\"id\":1,\"name\":\"x\",\"box\":1,\"gromet_type\":\"GrometPort\"}],\n",
      "                \"gromet_type\": \"GrometFN\"\n",
      "            },\n",
      "            \"fn_array\": [\n",
      "                {\n",
      "                    \"b\": [{\"function_type\":\"EXPRESSION\",\"gromet_type\":\"GrometBoxFunction\"}],\n",
      "                    \"opo\": [{\"id\":1,\"box\":1,\"gromet_type\":\"GrometPort\"}],\n",
      "                    \"bf\": [{\"function_type\":\"LITERAL\",\"value\":{\"value_type\":\"Integer\",\"value\":\"2\",\"gromet_type\":\"LiteralValue\"},\"gromet_type\":\"GrometBoxFunction\",\"metadata\":4}],\n",
      "                    \"pof\": [{\"id\":1,\"box\":1,\"gromet_type\":\"GrometPort\"}],\n",
      "                    \"wfopo\": [{\"src\":1,\"tgt\":1,\"gromet_type\":\"GrometWire\"}],\n",
      "                    \"gromet_type\": \"GrometFN\"\n",
      "                }\n",
      "            ],\n",
      "            \"metadata_collection\": [\n",
      "                [\n",
      "\n",
      "                ],\n",
      "                [\n",
      "                    {\"metadata_type\":\"source_code_collection\",\"name\":\"\",\"global_reference_id\":\"\",\"files\":[{\"uid\":\"f4e25eec-41bd-538b-eca7-b20a2afa0f62\",\"name\":\"/tmp/tmpp8vo6cld/exp1.f95\",\"path\":\"\"}],\"provenance\":{\"method\":\"skema_code2fn_program_analysis\",\"timestamp\":\"2023-06-26 21:53:54.184277\"}},\n",
      "                    {\"metadata_type\":\"gromet_creation\",\"gromet_version\":\"0.1.2\",\"provenance\":{\"method\":\"skema_code2fn_program_analysis\",\"timestamp\":\"2023-06-26 21:53:54.184302\"}}\n",
      "                ],\n",
      "                [\n",
      "                    {\"metadata_type\":\"source_code_reference\",\"code_file_reference_uid\":\"f4e25eec-41bd-538b-eca7-b20a2afa0f62\",\"line_begin\":0,\"line_end\":2,\"col_begin\":0,\"col_end\":16,\"provenance\":{\"method\":\"skema_code2fn_program_analysis\",\"timestamp\":\"2023-06-26 21:53:54.184324\"}}\n",
      "                ],\n",
      "                [\n",
      "                    {\"metadata_type\":\"source_code_data_type\",\"source_language\":\"Fortran\",\"source_language_version\":\"Fortran95\",\"data_type\":\"integer\",\"provenance\":{\"method\":\"skema_code2fn_program_analysis\",\"timestamp\":\"2023-06-26 21:53:54.184434\"}},\n",
      "                    {\"metadata_type\":\"source_code_reference\",\"code_file_reference_uid\":\"f4e25eec-41bd-538b-eca7-b20a2afa0f62\",\"line_begin\":1,\"line_end\":1,\"col_begin\":13,\"col_end\":14,\"provenance\":{\"method\":\"skema_code2fn_program_analysis\",\"timestamp\":\"2023-06-26 21:53:54.184422\"}}\n",
      "                ],\n",
      "                [\n",
      "                    {\"metadata_type\":\"source_code_reference\",\"code_file_reference_uid\":\"f4e25eec-41bd-538b-eca7-b20a2afa0f62\",\"line_begin\":1,\"line_end\":1,\"col_begin\":11,\"col_end\":14,\"provenance\":{\"method\":\"skema_code2fn_program_analysis\",\"timestamp\":\"2023-06-26 21:53:54.184383\"}}\n",
      "                ]\n",
      "            ],\n",
      "            \"gromet_type\": \"GrometFNModule\",\n",
      "            \"metadata\": 2\n",
      "        }\n",
      "    ],\n",
      "    \"module_index\": [\n",
      "        \"tmpp8vo6cld.exp1.f95\"\n",
      "    ],\n",
      "    \"executables\": [\n",
      "\n",
      "    ],\n",
      "    \"gromet_type\": \"GrometFNModuleCollection\"\n",
      "}\n"
     ]
    }
   ],
   "source": [
    "system = {\n",
    "  \"files\": [\"exp1.f95\"],\n",
    "  \"blobs\": [\"program exp1\\ninteger :: x=2\\nend program exp1\"]\n",
    "}\n",
    "response = requests.post(\"http://skema-py:8000/fn-given-filepaths\", json=system)\n",
    "print(response.json())"
   ]
  },
  {
   "cell_type": "markdown",
   "id": "33a3a713",
   "metadata": {},
   "source": [
    "## Processing one or more files (mixed languages)"
   ]
  },
  {
   "cell_type": "code",
   "execution_count": 22,
   "id": "d12d25fa",
   "metadata": {},
   "outputs": [
    {
     "name": "stdout",
     "output_type": "stream",
     "text": [
      "{\n",
      "    \"schema\": \"FN\",\n",
      "    \"schema_version\": \"0.1.6\",\n",
      "    \"name\": \"\",\n",
      "    \"modules\": [\n",
      "        {\n",
      "            \"schema\": \"FN\",\n",
      "            \"schema_version\": \"0.1.7\",\n",
      "            \"name\": \"exp1\",\n",
      "            \"fn\": {\n",
      "                \"b\": [{\"function_type\":\"MODULE\",\"gromet_type\":\"GrometBoxFunction\",\"name\":\"module\",\"metadata\":3}],\n",
      "                \"bf\": [\n",
      "                    {\"function_type\":\"EXPRESSION\",\"body\":1,\"gromet_type\":\"GrometBoxFunction\",\"metadata\":5}\n",
      "                ],\n",
      "                \"pof\": [{\"id\":1,\"name\":\"x\",\"box\":1,\"gromet_type\":\"GrometPort\"}],\n",
      "                \"gromet_type\": \"GrometFN\"\n",
      "            },\n",
      "            \"fn_array\": [\n",
      "                {\n",
      "                    \"b\": [{\"function_type\":\"EXPRESSION\",\"gromet_type\":\"GrometBoxFunction\"}],\n",
      "                    \"opo\": [{\"id\":1,\"box\":1,\"gromet_type\":\"GrometPort\"}],\n",
      "                    \"bf\": [{\"function_type\":\"LITERAL\",\"value\":{\"value_type\":\"Integer\",\"value\":2,\"gromet_type\":\"LiteralValue\"},\"gromet_type\":\"GrometBoxFunction\",\"metadata\":4}],\n",
      "                    \"pof\": [{\"id\":1,\"box\":1,\"gromet_type\":\"GrometPort\"}],\n",
      "                    \"wfopo\": [{\"src\":1,\"tgt\":1,\"gromet_type\":\"GrometWire\"}],\n",
      "                    \"gromet_type\": \"GrometFN\"\n",
      "                }\n",
      "            ],\n",
      "            \"metadata_collection\": [\n",
      "                [\n",
      "\n",
      "                ],\n",
      "                [\n",
      "                    {\"metadata_type\":\"source_code_collection\",\"name\":\"\",\"global_reference_id\":\"\",\"files\":[{\"uid\":\"cbdadcba-13a0-7df8-1236-2d4cc22f8efa\",\"name\":\"exp1.py\",\"path\":\"\"}],\"provenance\":{\"method\":\"skema_code2fn_program_analysis\",\"timestamp\":\"2023-06-26 21:54:58.625930\"}},\n",
      "                    {\"metadata_type\":\"gromet_creation\",\"gromet_version\":\"0.1.2\",\"provenance\":{\"method\":\"skema_code2fn_program_analysis\",\"timestamp\":\"2023-06-26 21:54:58.625956\"}}\n",
      "                ],\n",
      "                [\n",
      "                    {\"metadata_type\":\"source_code_reference\",\"code_file_reference_uid\":\"cbdadcba-13a0-7df8-1236-2d4cc22f8efa\",\"line_begin\":1,\"line_end\":1,\"provenance\":{\"method\":\"skema_code2fn_program_analysis\",\"timestamp\":\"2023-06-26 21:54:58.625979\"}}\n",
      "                ],\n",
      "                [\n",
      "                    {\"metadata_type\":\"source_code_data_type\",\"source_language\":\"Python\",\"source_language_version\":\"3.8\",\"data_type\":\"<class 'int'>\",\"provenance\":{\"method\":\"skema_code2fn_program_analysis\",\"timestamp\":\"2023-06-26 21:54:58.626090\"}},\n",
      "                    {\"metadata_type\":\"source_code_reference\",\"code_file_reference_uid\":\"cbdadcba-13a0-7df8-1236-2d4cc22f8efa\",\"line_begin\":1,\"line_end\":1,\"col_begin\":2,\"col_end\":3,\"provenance\":{\"method\":\"skema_code2fn_program_analysis\",\"timestamp\":\"2023-06-26 21:54:58.626078\"}}\n",
      "                ],\n",
      "                [\n",
      "                    {\"metadata_type\":\"source_code_reference\",\"code_file_reference_uid\":\"cbdadcba-13a0-7df8-1236-2d4cc22f8efa\",\"line_begin\":1,\"line_end\":1,\"col_begin\":0,\"col_end\":3,\"provenance\":{\"method\":\"skema_code2fn_program_analysis\",\"timestamp\":\"2023-06-26 21:54:58.626039\"}}\n",
      "                ]\n",
      "            ],\n",
      "            \"gromet_type\": \"GrometFNModule\",\n",
      "            \"metadata\": 2\n",
      "        },\n",
      "        {\n",
      "            \"schema\": \"FN\",\n",
      "            \"schema_version\": \"0.1.7\",\n",
      "            \"name\": \"exp1.f95\",\n",
      "            \"fn\": {\n",
      "                \"b\": [{\"function_type\":\"MODULE\",\"gromet_type\":\"GrometBoxFunction\",\"name\":\"module\",\"metadata\":3}],\n",
      "                \"bf\": [\n",
      "                    {\"function_type\":\"EXPRESSION\",\"body\":1,\"gromet_type\":\"GrometBoxFunction\",\"metadata\":5}\n",
      "                ],\n",
      "                \"pof\": [{\"id\":1,\"name\":\"x\",\"box\":1,\"gromet_type\":\"GrometPort\"}],\n",
      "                \"gromet_type\": \"GrometFN\"\n",
      "            },\n",
      "            \"fn_array\": [\n",
      "                {\n",
      "                    \"b\": [{\"function_type\":\"EXPRESSION\",\"gromet_type\":\"GrometBoxFunction\"}],\n",
      "                    \"opo\": [{\"id\":1,\"box\":1,\"gromet_type\":\"GrometPort\"}],\n",
      "                    \"bf\": [{\"function_type\":\"LITERAL\",\"value\":{\"value_type\":\"Integer\",\"value\":\"2\",\"gromet_type\":\"LiteralValue\"},\"gromet_type\":\"GrometBoxFunction\",\"metadata\":4}],\n",
      "                    \"pof\": [{\"id\":1,\"box\":1,\"gromet_type\":\"GrometPort\"}],\n",
      "                    \"wfopo\": [{\"src\":1,\"tgt\":1,\"gromet_type\":\"GrometWire\"}],\n",
      "                    \"gromet_type\": \"GrometFN\"\n",
      "                }\n",
      "            ],\n",
      "            \"metadata_collection\": [\n",
      "                [\n",
      "\n",
      "                ],\n",
      "                [\n",
      "                    {\"metadata_type\":\"source_code_collection\",\"name\":\"\",\"global_reference_id\":\"\",\"files\":[{\"uid\":\"233db1f6-ff59-796a-e0f2-e87841ab3521\",\"name\":\"/tmp/tmpc6h8oj79/exp1.f95\",\"path\":\"\"}],\"provenance\":{\"method\":\"skema_code2fn_program_analysis\",\"timestamp\":\"2023-06-26 21:54:58.627747\"}},\n",
      "                    {\"metadata_type\":\"gromet_creation\",\"gromet_version\":\"0.1.2\",\"provenance\":{\"method\":\"skema_code2fn_program_analysis\",\"timestamp\":\"2023-06-26 21:54:58.627763\"}}\n",
      "                ],\n",
      "                [\n",
      "                    {\"metadata_type\":\"source_code_reference\",\"code_file_reference_uid\":\"233db1f6-ff59-796a-e0f2-e87841ab3521\",\"line_begin\":0,\"line_end\":2,\"col_begin\":0,\"col_end\":16,\"provenance\":{\"method\":\"skema_code2fn_program_analysis\",\"timestamp\":\"2023-06-26 21:54:58.627782\"}}\n",
      "                ],\n",
      "                [\n",
      "                    {\"metadata_type\":\"source_code_data_type\",\"source_language\":\"Fortran\",\"source_language_version\":\"Fortran95\",\"data_type\":\"integer\",\"provenance\":{\"method\":\"skema_code2fn_program_analysis\",\"timestamp\":\"2023-06-26 21:54:58.627876\"}},\n",
      "                    {\"metadata_type\":\"source_code_reference\",\"code_file_reference_uid\":\"233db1f6-ff59-796a-e0f2-e87841ab3521\",\"line_begin\":1,\"line_end\":1,\"col_begin\":13,\"col_end\":14,\"provenance\":{\"method\":\"skema_code2fn_program_analysis\",\"timestamp\":\"2023-06-26 21:54:58.627865\"}}\n",
      "                ],\n",
      "                [\n",
      "                    {\"metadata_type\":\"source_code_reference\",\"code_file_reference_uid\":\"233db1f6-ff59-796a-e0f2-e87841ab3521\",\"line_begin\":1,\"line_end\":1,\"col_begin\":11,\"col_end\":14,\"provenance\":{\"method\":\"skema_code2fn_program_analysis\",\"timestamp\":\"2023-06-26 21:54:58.627828\"}}\n",
      "                ]\n",
      "            ],\n",
      "            \"gromet_type\": \"GrometFNModule\",\n",
      "            \"metadata\": 2\n",
      "        }\n",
      "    ],\n",
      "    \"module_index\": [\n",
      "        \"tmpc6h8oj79.exp1\",\n",
      "        \"tmpc6h8oj79.exp1.f95\"\n",
      "    ],\n",
      "    \"executables\": [\n",
      "\n",
      "    ],\n",
      "    \"gromet_type\": \"GrometFNModuleCollection\"\n",
      "}\n"
     ]
    }
   ],
   "source": [
    "system = {\n",
    "  \"files\": [\"exp1.py\", \"exp1.f95\"],\n",
    "  \"blobs\": [\"x=2\", \"program exp1\\ninteger :: x=2\\nend program exp1\"]\n",
    "}\n",
    "response = requests.post(\"http://skema-py:8000/fn-given-filepaths\", json=system)\n",
    "print(response.json())"
   ]
  },
  {
   "cell_type": "code",
   "execution_count": null,
   "id": "764f381a",
   "metadata": {},
   "outputs": [],
   "source": []
  }
 ],
 "metadata": {
  "kernelspec": {
   "display_name": "Python 3 (ipykernel)",
   "language": "python",
   "name": "python3"
  },
  "language_info": {
   "codemirror_mode": {
    "name": "ipython",
    "version": 3
   },
   "file_extension": ".py",
   "mimetype": "text/x-python",
   "name": "python",
   "nbconvert_exporter": "python",
   "pygments_lexer": "ipython3",
   "version": "3.8.17"
  }
 },
 "nbformat": 4,
 "nbformat_minor": 5
}
