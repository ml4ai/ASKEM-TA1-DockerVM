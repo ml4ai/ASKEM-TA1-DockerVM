{
 "cells": [
  {
   "cell_type": "code",
   "execution_count": null,
   "id": "fcf0e611",
   "metadata": {},
   "outputs": [],
   "source": [
    "from IPython.display import display, HTML, Image\n",
    "from pathlib import Path\n",
    "import requests\n",
    "import json\n",
    "import os\n",
    "\n",
    "pp = lambda x: print(json.dumps(x, indent=2))\n",
    "\n",
    "\n",
    "SKEMA_ADDRESS = os.environ.get(\"SKEMA_ADDRESS\", \"https://api.askem.lum.ai\")"
   ]
  },
  {
   "attachments": {},
   "cell_type": "markdown",
   "id": "855f9fb4",
   "metadata": {},
   "source": [
    "# Code snippet &rarr; AMR"
   ]
  },
  {
   "cell_type": "code",
   "execution_count": null,
   "id": "c8d04ba6",
   "metadata": {},
   "outputs": [],
   "source": [
    "single_snippet_payload = {\n",
    "        \"files\": [\"CHIME_SIR_core.py\"],\n",
    "        \"blobs\": [open(\"../data/code/CHIME_SIR_core.py\").read()],\n",
    "        \"model\": \"petrinet\"\n",
    "    }"
   ]
  },
  {
   "attachments": {},
   "cell_type": "markdown",
   "id": "599f12ff",
   "metadata": {},
   "source": [
    "## Code snippet &rarr; PetriNet AMR"
   ]
  },
  {
   "cell_type": "code",
   "execution_count": null,
   "id": "74e8e2c4",
   "metadata": {},
   "outputs": [],
   "source": [
    "URL = f\"{SKEMA_ADDRESS}/workflows/consolidated/code-snippets-to-amrs\"\n",
    "response_zip = requests.post(URL, json=single_snippet_payload)\n",
    "print(response_zip.json())"
   ]
  },
  {
   "attachments": {},
   "cell_type": "markdown",
   "id": "73acceac",
   "metadata": {},
   "source": [
    "# Code archive &rarr; AMR"
   ]
  },
  {
   "cell_type": "code",
   "execution_count": null,
   "id": "8f6ffbea",
   "metadata": {},
   "outputs": [],
   "source": [
    "# archive path\n",
    "archive_path = \"../data/code/code_sir.zip\"\n",
    "with open(archive_path, \"rb\") as archive:\n",
    "    file = {\n",
    "        \"zip_file\": archive.read()\n",
    "    }"
   ]
  },
  {
   "attachments": {},
   "cell_type": "markdown",
   "id": "9dc6e973",
   "metadata": {},
   "source": [
    "## Code archive $\\rightarrow$ PetriNet AMR\n"
   ]
  },
  {
   "cell_type": "code",
   "execution_count": null,
   "id": "3ea63ceb",
   "metadata": {},
   "outputs": [],
   "source": [
    "URL = f\"{SKEMA_ADDRESS}/workflows/code/llm-assisted-codebase-to-pn-amr\"\n",
    "response_zip = requests.post(URL, files=file)\n",
    "print(response_zip.json())"
   ]
  }
 ],
 "metadata": {
  "kernelspec": {
   "display_name": "Python 3 (ipykernel)",
   "language": "python",
   "name": "python3"
  },
  "language_info": {
   "codemirror_mode": {
    "name": "ipython",
    "version": 3
   },
   "file_extension": ".py",
   "mimetype": "text/x-python",
   "name": "python",
   "nbconvert_exporter": "python",
   "pygments_lexer": "ipython3",
   "version": "3.9.6"
  }
 },
 "nbformat": 4,
 "nbformat_minor": 5
}
