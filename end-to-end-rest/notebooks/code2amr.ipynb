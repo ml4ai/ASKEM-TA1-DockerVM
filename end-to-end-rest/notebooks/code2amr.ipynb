{
 "cells": [
  {
   "cell_type": "code",
   "execution_count": 1,
   "id": "fcf0e611",
   "metadata": {},
   "outputs": [],
   "source": [
    "from IPython.display import display, HTML, Image\n",
    "from pathlib import Path\n",
    "import requests\n",
    "import json\n",
    "import os\n",
    "\n",
    "pp = lambda x: print(json.dumps(x, indent=2))\n",
    "\n",
    "\n",
    "SKEMA_ADDRESS = os.environ.get(\"SKEMA_ADDRESS\", \"http://skema-py:8000\")"
   ]
  },
  {
   "cell_type": "markdown",
   "id": "855f9fb4",
   "metadata": {},
   "source": [
    "# Code snippet &rarr; AMR"
   ]
  },
  {
   "cell_type": "code",
   "execution_count": 2,
   "id": "c8d04ba6",
   "metadata": {},
   "outputs": [],
   "source": [
    "single_snippet_payload = {\n",
    "    \"files\":[\"exp0.py\"],\n",
    "    \"blobs\":[\"x=2\"]\n",
    "}"
   ]
  },
  {
   "cell_type": "markdown",
   "id": "599f12ff",
   "metadata": {},
   "source": [
    "## Code snippet &rarr; PetriNet AMR"
   ]
  },
  {
   "cell_type": "code",
   "execution_count": 3,
   "id": "74e8e2c4",
   "metadata": {},
   "outputs": [
    {
     "name": "stdout",
     "output_type": "stream",
     "text": [
      "{'error': 'MORAE POST /models/PN failed to process payload', 'payload': {'schema': 'FN', 'schema_version': '0.1.7', 'name': '', 'modules': [{'schema': 'FN', 'schema_version': '0.1.7', 'name': 'exp0', 'fn': {'name': None, 'b': [{'function_type': 'MODULE', 'body': None, 'import_type': None, 'import_version': None, 'import_source': None, 'source_language': None, 'source_language_version': None, 'value': None, 'gromet_type': 'GrometBoxFunction', 'name': 'module', 'metadata': 3}], 'opi': None, 'opo': None, 'wopio': None, 'bf': [{'function_type': 'EXPRESSION', 'body': 1, 'import_type': None, 'import_version': None, 'import_source': None, 'source_language': None, 'source_language_version': None, 'value': None, 'gromet_type': 'GrometBoxFunction', 'name': None, 'metadata': 5}], 'pif': None, 'pof': [{'id': 1, 'name': 'x', 'box': 1, 'default_value': None, 'gromet_type': 'GrometPort', 'metadata': None}], 'wfopi': None, 'wfl': None, 'wff': None, 'wfc': None, 'wfopo': None, 'bl': None, 'pil': None, 'pol': None, 'wlopi': None, 'wll': None, 'wlf': None, 'wlc': None, 'wlopo': None, 'bc': None, 'pic': None, 'poc': None, 'wcopi': None, 'wcl': None, 'wcf': None, 'wcc': None, 'wcopo': None, 'gromet_type': 'GrometFN', 'metadata': None}, 'fn_array': [{'name': None, 'b': [{'function_type': 'EXPRESSION', 'body': None, 'import_type': None, 'import_version': None, 'import_source': None, 'source_language': None, 'source_language_version': None, 'value': None, 'gromet_type': 'GrometBoxFunction', 'name': None, 'metadata': None}], 'opi': None, 'opo': [{'id': 1, 'name': None, 'box': 1, 'default_value': None, 'gromet_type': 'GrometPort', 'metadata': None}], 'wopio': None, 'bf': [{'function_type': 'LITERAL', 'body': None, 'import_type': None, 'import_version': None, 'import_source': None, 'source_language': None, 'source_language_version': None, 'value': {'value_type': 'Integer', 'value': 2, 'source_fn': None, 'import_type': None, 'import_version': None, 'import_source': None, 'source_language': None, 'source_language_version': None, 'gromet_type': 'LiteralValue'}, 'gromet_type': 'GrometBoxFunction', 'name': None, 'metadata': 4}], 'pif': None, 'pof': [{'id': 1, 'name': None, 'box': 1, 'default_value': None, 'gromet_type': 'GrometPort', 'metadata': None}], 'wfopi': None, 'wfl': None, 'wff': None, 'wfc': None, 'wfopo': [{'name': None, 'src': 1, 'tgt': 1, 'gromet_type': 'GrometWire', 'metadata': None}], 'bl': None, 'pil': None, 'pol': None, 'wlopi': None, 'wll': None, 'wlf': None, 'wlc': None, 'wlopo': None, 'bc': None, 'pic': None, 'poc': None, 'wcopi': None, 'wcl': None, 'wcf': None, 'wcc': None, 'wcopo': None, 'gromet_type': 'GrometFN', 'metadata': None}], 'metadata_collection': [[], [{'metadata_type': 'source_code_collection', 'name': '', 'global_reference_id': '', 'files': [{'uid': 'e276366f-13f7-e393-1d3b-40261ad43d97', 'name': 'exp0.py', 'path': ''}], 'provenance': {'method': 'skema_code2fn_program_analysis', 'timestamp': '2023-07-06 02:54:15.716398'}}, {'metadata_type': 'gromet_creation', 'gromet_version': '0.1.2', 'provenance': {'method': 'skema_code2fn_program_analysis', 'timestamp': '2023-07-06 02:54:15.716424'}}], [{'metadata_type': 'source_code_reference', 'code_file_reference_uid': 'e276366f-13f7-e393-1d3b-40261ad43d97', 'line_begin': 1, 'line_end': 1, 'col_begin': None, 'col_end': None, 'provenance': {'method': 'skema_code2fn_program_analysis', 'timestamp': '2023-07-06 02:54:15.716446'}}], [{'metadata_type': 'source_code_data_type', 'source_language': 'Python', 'source_language_version': '3.8', 'data_type': \"<class 'int'>\", 'provenance': {'method': 'skema_code2fn_program_analysis', 'timestamp': '2023-07-06 02:54:15.716557'}}, {'metadata_type': 'source_code_reference', 'code_file_reference_uid': 'e276366f-13f7-e393-1d3b-40261ad43d97', 'line_begin': 1, 'line_end': 1, 'col_begin': 2, 'col_end': 3, 'provenance': {'method': 'skema_code2fn_program_analysis', 'timestamp': '2023-07-06 02:54:15.716545'}}], [{'metadata_type': 'source_code_reference', 'code_file_reference_uid': 'e276366f-13f7-e393-1d3b-40261ad43d97', 'line_begin': 1, 'line_end': 1, 'col_begin': 0, 'col_end': 3, 'provenance': {'method': 'skema_code2fn_program_analysis', 'timestamp': '2023-07-06 02:54:15.716507'}}]], 'gromet_type': 'GrometFNModule', 'metadata': 2}], 'module_index': ['tmp1m_2hzln.exp0'], 'executables': [], 'gromet_type': 'GrometFNModuleCollection', 'metadata': None}}\n"
     ]
    }
   ],
   "source": [
    "URL = f\"{SKEMA_ADDRESS}/workflows/code/snippets-to-pn-amr\"\n",
    "response_zip = requests.post(URL, json=single_snippet_payload)\n",
    "print(response_zip.json())"
   ]
  },
  {
   "cell_type": "markdown",
   "id": "c6a58d28",
   "metadata": {},
   "source": [
    "## Code snippet &rarr; RegNet AMR"
   ]
  },
  {
   "cell_type": "code",
   "execution_count": 4,
   "id": "41d00e2b",
   "metadata": {},
   "outputs": [
    {
     "name": "stdout",
     "output_type": "stream",
     "text": [
      "{'error': 'MORAE POST /models/RN failed to process payload', 'payload': {'schema': 'FN', 'schema_version': '0.1.7', 'name': '', 'modules': [{'schema': 'FN', 'schema_version': '0.1.7', 'name': 'exp0', 'fn': {'name': None, 'b': [{'function_type': 'MODULE', 'body': None, 'import_type': None, 'import_version': None, 'import_source': None, 'source_language': None, 'source_language_version': None, 'value': None, 'gromet_type': 'GrometBoxFunction', 'name': 'module', 'metadata': 3}], 'opi': None, 'opo': None, 'wopio': None, 'bf': [{'function_type': 'EXPRESSION', 'body': 1, 'import_type': None, 'import_version': None, 'import_source': None, 'source_language': None, 'source_language_version': None, 'value': None, 'gromet_type': 'GrometBoxFunction', 'name': None, 'metadata': 5}], 'pif': None, 'pof': [{'id': 1, 'name': 'x', 'box': 1, 'default_value': None, 'gromet_type': 'GrometPort', 'metadata': None}], 'wfopi': None, 'wfl': None, 'wff': None, 'wfc': None, 'wfopo': None, 'bl': None, 'pil': None, 'pol': None, 'wlopi': None, 'wll': None, 'wlf': None, 'wlc': None, 'wlopo': None, 'bc': None, 'pic': None, 'poc': None, 'wcopi': None, 'wcl': None, 'wcf': None, 'wcc': None, 'wcopo': None, 'gromet_type': 'GrometFN', 'metadata': None}, 'fn_array': [{'name': None, 'b': [{'function_type': 'EXPRESSION', 'body': None, 'import_type': None, 'import_version': None, 'import_source': None, 'source_language': None, 'source_language_version': None, 'value': None, 'gromet_type': 'GrometBoxFunction', 'name': None, 'metadata': None}], 'opi': None, 'opo': [{'id': 1, 'name': None, 'box': 1, 'default_value': None, 'gromet_type': 'GrometPort', 'metadata': None}], 'wopio': None, 'bf': [{'function_type': 'LITERAL', 'body': None, 'import_type': None, 'import_version': None, 'import_source': None, 'source_language': None, 'source_language_version': None, 'value': {'value_type': 'Integer', 'value': 2, 'source_fn': None, 'import_type': None, 'import_version': None, 'import_source': None, 'source_language': None, 'source_language_version': None, 'gromet_type': 'LiteralValue'}, 'gromet_type': 'GrometBoxFunction', 'name': None, 'metadata': 4}], 'pif': None, 'pof': [{'id': 1, 'name': None, 'box': 1, 'default_value': None, 'gromet_type': 'GrometPort', 'metadata': None}], 'wfopi': None, 'wfl': None, 'wff': None, 'wfc': None, 'wfopo': [{'name': None, 'src': 1, 'tgt': 1, 'gromet_type': 'GrometWire', 'metadata': None}], 'bl': None, 'pil': None, 'pol': None, 'wlopi': None, 'wll': None, 'wlf': None, 'wlc': None, 'wlopo': None, 'bc': None, 'pic': None, 'poc': None, 'wcopi': None, 'wcl': None, 'wcf': None, 'wcc': None, 'wcopo': None, 'gromet_type': 'GrometFN', 'metadata': None}], 'metadata_collection': [[], [{'metadata_type': 'source_code_collection', 'name': '', 'global_reference_id': '', 'files': [{'uid': 'f0a43dde-7626-a0f8-4a38-49d5f89b0a7c', 'name': 'exp0.py', 'path': ''}], 'provenance': {'method': 'skema_code2fn_program_analysis', 'timestamp': '2023-07-06 02:54:15.915659'}}, {'metadata_type': 'gromet_creation', 'gromet_version': '0.1.2', 'provenance': {'method': 'skema_code2fn_program_analysis', 'timestamp': '2023-07-06 02:54:15.915677'}}], [{'metadata_type': 'source_code_reference', 'code_file_reference_uid': 'f0a43dde-7626-a0f8-4a38-49d5f89b0a7c', 'line_begin': 1, 'line_end': 1, 'col_begin': None, 'col_end': None, 'provenance': {'method': 'skema_code2fn_program_analysis', 'timestamp': '2023-07-06 02:54:15.915694'}}], [{'metadata_type': 'source_code_data_type', 'source_language': 'Python', 'source_language_version': '3.8', 'data_type': \"<class 'int'>\", 'provenance': {'method': 'skema_code2fn_program_analysis', 'timestamp': '2023-07-06 02:54:15.915781'}}, {'metadata_type': 'source_code_reference', 'code_file_reference_uid': 'f0a43dde-7626-a0f8-4a38-49d5f89b0a7c', 'line_begin': 1, 'line_end': 1, 'col_begin': 2, 'col_end': 3, 'provenance': {'method': 'skema_code2fn_program_analysis', 'timestamp': '2023-07-06 02:54:15.915772'}}], [{'metadata_type': 'source_code_reference', 'code_file_reference_uid': 'f0a43dde-7626-a0f8-4a38-49d5f89b0a7c', 'line_begin': 1, 'line_end': 1, 'col_begin': 0, 'col_end': 3, 'provenance': {'method': 'skema_code2fn_program_analysis', 'timestamp': '2023-07-06 02:54:15.915742'}}]], 'gromet_type': 'GrometFNModule', 'metadata': 2}], 'module_index': ['tmpe_406dj7.exp0'], 'executables': [], 'gromet_type': 'GrometFNModuleCollection', 'metadata': None}}\n"
     ]
    }
   ],
   "source": [
    "URL = f\"{SKEMA_ADDRESS}/workflows/code/snippets-to-rn-amr\"\n",
    "response_zip = requests.post(URL, json=single_snippet_payload)\n",
    "print(response_zip.json())"
   ]
  },
  {
   "cell_type": "markdown",
   "id": "73acceac",
   "metadata": {},
   "source": [
    "# Code archive &rarr; AMR"
   ]
  },
  {
   "cell_type": "code",
   "execution_count": 5,
   "id": "8f6ffbea",
   "metadata": {},
   "outputs": [],
   "source": [
    "# archive path\n",
    "archive_path = Path(\"/data\", \"skema\", \"code\", \"system_test.zip\")\n",
    "with open(archive_path, \"rb\") as archive:\n",
    "    file = {\n",
    "        \"zip_file\": archive.read()\n",
    "    }"
   ]
  },
  {
   "cell_type": "markdown",
   "id": "9dc6e973",
   "metadata": {},
   "source": [
    "## Code archive $\\rightarrow$ PetriNet AMR\n"
   ]
  },
  {
   "cell_type": "code",
   "execution_count": 6,
   "id": "3ea63ceb",
   "metadata": {},
   "outputs": [
    {
     "ename": "JSONDecodeError",
     "evalue": "Expecting value: line 1 column 1 (char 0)",
     "output_type": "error",
     "traceback": [
      "\u001b[0;31m---------------------------------------------------------------------------\u001b[0m",
      "\u001b[0;31mJSONDecodeError\u001b[0m                           Traceback (most recent call last)",
      "File \u001b[0;32m/usr/local/lib/python3.8/site-packages/requests/models.py:971\u001b[0m, in \u001b[0;36mResponse.json\u001b[0;34m(self, **kwargs)\u001b[0m\n\u001b[1;32m    970\u001b[0m \u001b[38;5;28;01mtry\u001b[39;00m:\n\u001b[0;32m--> 971\u001b[0m     \u001b[38;5;28;01mreturn\u001b[39;00m \u001b[43mcomplexjson\u001b[49m\u001b[38;5;241;43m.\u001b[39;49m\u001b[43mloads\u001b[49m\u001b[43m(\u001b[49m\u001b[38;5;28;43mself\u001b[39;49m\u001b[38;5;241;43m.\u001b[39;49m\u001b[43mtext\u001b[49m\u001b[43m,\u001b[49m\u001b[43m \u001b[49m\u001b[38;5;241;43m*\u001b[39;49m\u001b[38;5;241;43m*\u001b[39;49m\u001b[43mkwargs\u001b[49m\u001b[43m)\u001b[49m\n\u001b[1;32m    972\u001b[0m \u001b[38;5;28;01mexcept\u001b[39;00m JSONDecodeError \u001b[38;5;28;01mas\u001b[39;00m e:\n\u001b[1;32m    973\u001b[0m     \u001b[38;5;66;03m# Catch JSON-related errors and raise as requests.JSONDecodeError\u001b[39;00m\n\u001b[1;32m    974\u001b[0m     \u001b[38;5;66;03m# This aliases json.JSONDecodeError and simplejson.JSONDecodeError\u001b[39;00m\n",
      "File \u001b[0;32m/usr/local/lib/python3.8/json/__init__.py:357\u001b[0m, in \u001b[0;36mloads\u001b[0;34m(s, cls, object_hook, parse_float, parse_int, parse_constant, object_pairs_hook, **kw)\u001b[0m\n\u001b[1;32m    354\u001b[0m \u001b[38;5;28;01mif\u001b[39;00m (\u001b[38;5;28mcls\u001b[39m \u001b[38;5;129;01mis\u001b[39;00m \u001b[38;5;28;01mNone\u001b[39;00m \u001b[38;5;129;01mand\u001b[39;00m object_hook \u001b[38;5;129;01mis\u001b[39;00m \u001b[38;5;28;01mNone\u001b[39;00m \u001b[38;5;129;01mand\u001b[39;00m\n\u001b[1;32m    355\u001b[0m         parse_int \u001b[38;5;129;01mis\u001b[39;00m \u001b[38;5;28;01mNone\u001b[39;00m \u001b[38;5;129;01mand\u001b[39;00m parse_float \u001b[38;5;129;01mis\u001b[39;00m \u001b[38;5;28;01mNone\u001b[39;00m \u001b[38;5;129;01mand\u001b[39;00m\n\u001b[1;32m    356\u001b[0m         parse_constant \u001b[38;5;129;01mis\u001b[39;00m \u001b[38;5;28;01mNone\u001b[39;00m \u001b[38;5;129;01mand\u001b[39;00m object_pairs_hook \u001b[38;5;129;01mis\u001b[39;00m \u001b[38;5;28;01mNone\u001b[39;00m \u001b[38;5;129;01mand\u001b[39;00m \u001b[38;5;129;01mnot\u001b[39;00m kw):\n\u001b[0;32m--> 357\u001b[0m     \u001b[38;5;28;01mreturn\u001b[39;00m \u001b[43m_default_decoder\u001b[49m\u001b[38;5;241;43m.\u001b[39;49m\u001b[43mdecode\u001b[49m\u001b[43m(\u001b[49m\u001b[43ms\u001b[49m\u001b[43m)\u001b[49m\n\u001b[1;32m    358\u001b[0m \u001b[38;5;28;01mif\u001b[39;00m \u001b[38;5;28mcls\u001b[39m \u001b[38;5;129;01mis\u001b[39;00m \u001b[38;5;28;01mNone\u001b[39;00m:\n",
      "File \u001b[0;32m/usr/local/lib/python3.8/json/decoder.py:337\u001b[0m, in \u001b[0;36mJSONDecoder.decode\u001b[0;34m(self, s, _w)\u001b[0m\n\u001b[1;32m    333\u001b[0m \u001b[38;5;250m\u001b[39m\u001b[38;5;124;03m\"\"\"Return the Python representation of ``s`` (a ``str`` instance\u001b[39;00m\n\u001b[1;32m    334\u001b[0m \u001b[38;5;124;03mcontaining a JSON document).\u001b[39;00m\n\u001b[1;32m    335\u001b[0m \n\u001b[1;32m    336\u001b[0m \u001b[38;5;124;03m\"\"\"\u001b[39;00m\n\u001b[0;32m--> 337\u001b[0m obj, end \u001b[38;5;241m=\u001b[39m \u001b[38;5;28;43mself\u001b[39;49m\u001b[38;5;241;43m.\u001b[39;49m\u001b[43mraw_decode\u001b[49m\u001b[43m(\u001b[49m\u001b[43ms\u001b[49m\u001b[43m,\u001b[49m\u001b[43m \u001b[49m\u001b[43midx\u001b[49m\u001b[38;5;241;43m=\u001b[39;49m\u001b[43m_w\u001b[49m\u001b[43m(\u001b[49m\u001b[43ms\u001b[49m\u001b[43m,\u001b[49m\u001b[43m \u001b[49m\u001b[38;5;241;43m0\u001b[39;49m\u001b[43m)\u001b[49m\u001b[38;5;241;43m.\u001b[39;49m\u001b[43mend\u001b[49m\u001b[43m(\u001b[49m\u001b[43m)\u001b[49m\u001b[43m)\u001b[49m\n\u001b[1;32m    338\u001b[0m end \u001b[38;5;241m=\u001b[39m _w(s, end)\u001b[38;5;241m.\u001b[39mend()\n",
      "File \u001b[0;32m/usr/local/lib/python3.8/json/decoder.py:355\u001b[0m, in \u001b[0;36mJSONDecoder.raw_decode\u001b[0;34m(self, s, idx)\u001b[0m\n\u001b[1;32m    354\u001b[0m \u001b[38;5;28;01mexcept\u001b[39;00m \u001b[38;5;167;01mStopIteration\u001b[39;00m \u001b[38;5;28;01mas\u001b[39;00m err:\n\u001b[0;32m--> 355\u001b[0m     \u001b[38;5;28;01mraise\u001b[39;00m JSONDecodeError(\u001b[38;5;124m\"\u001b[39m\u001b[38;5;124mExpecting value\u001b[39m\u001b[38;5;124m\"\u001b[39m, s, err\u001b[38;5;241m.\u001b[39mvalue) \u001b[38;5;28;01mfrom\u001b[39;00m \u001b[38;5;28;01mNone\u001b[39;00m\n\u001b[1;32m    356\u001b[0m \u001b[38;5;28;01mreturn\u001b[39;00m obj, end\n",
      "\u001b[0;31mJSONDecodeError\u001b[0m: Expecting value: line 1 column 1 (char 0)",
      "\nDuring handling of the above exception, another exception occurred:\n",
      "\u001b[0;31mJSONDecodeError\u001b[0m                           Traceback (most recent call last)",
      "Cell \u001b[0;32mIn[6], line 3\u001b[0m\n\u001b[1;32m      1\u001b[0m URL \u001b[38;5;241m=\u001b[39m \u001b[38;5;124mf\u001b[39m\u001b[38;5;124m\"\u001b[39m\u001b[38;5;132;01m{\u001b[39;00mSKEMA_ADDRESS\u001b[38;5;132;01m}\u001b[39;00m\u001b[38;5;124m/workflows/code/codebase-to-pn-amr\u001b[39m\u001b[38;5;124m\"\u001b[39m\n\u001b[1;32m      2\u001b[0m response_zip \u001b[38;5;241m=\u001b[39m requests\u001b[38;5;241m.\u001b[39mpost(URL, files\u001b[38;5;241m=\u001b[39mfile)\n\u001b[0;32m----> 3\u001b[0m \u001b[38;5;28mprint\u001b[39m(\u001b[43mresponse_zip\u001b[49m\u001b[38;5;241;43m.\u001b[39;49m\u001b[43mjson\u001b[49m\u001b[43m(\u001b[49m\u001b[43m)\u001b[49m)\n",
      "File \u001b[0;32m/usr/local/lib/python3.8/site-packages/requests/models.py:975\u001b[0m, in \u001b[0;36mResponse.json\u001b[0;34m(self, **kwargs)\u001b[0m\n\u001b[1;32m    971\u001b[0m     \u001b[38;5;28;01mreturn\u001b[39;00m complexjson\u001b[38;5;241m.\u001b[39mloads(\u001b[38;5;28mself\u001b[39m\u001b[38;5;241m.\u001b[39mtext, \u001b[38;5;241m*\u001b[39m\u001b[38;5;241m*\u001b[39mkwargs)\n\u001b[1;32m    972\u001b[0m \u001b[38;5;28;01mexcept\u001b[39;00m JSONDecodeError \u001b[38;5;28;01mas\u001b[39;00m e:\n\u001b[1;32m    973\u001b[0m     \u001b[38;5;66;03m# Catch JSON-related errors and raise as requests.JSONDecodeError\u001b[39;00m\n\u001b[1;32m    974\u001b[0m     \u001b[38;5;66;03m# This aliases json.JSONDecodeError and simplejson.JSONDecodeError\u001b[39;00m\n\u001b[0;32m--> 975\u001b[0m     \u001b[38;5;28;01mraise\u001b[39;00m RequestsJSONDecodeError(e\u001b[38;5;241m.\u001b[39mmsg, e\u001b[38;5;241m.\u001b[39mdoc, e\u001b[38;5;241m.\u001b[39mpos)\n",
      "\u001b[0;31mJSONDecodeError\u001b[0m: Expecting value: line 1 column 1 (char 0)"
     ]
    }
   ],
   "source": [
    "URL = f\"{SKEMA_ADDRESS}/workflows/code/codebase-to-pn-amr\"\n",
    "response_zip = requests.post(URL, files=file)\n",
    "print(response_zip.json())"
   ]
  },
  {
   "cell_type": "markdown",
   "id": "0913ab6d",
   "metadata": {},
   "source": [
    "## Code archive $\\rightarrow$ RegNet AMR"
   ]
  },
  {
   "cell_type": "code",
   "execution_count": null,
   "id": "74c2fe0c",
   "metadata": {},
   "outputs": [],
   "source": [
    "URL = f\"{SKEMA_ADDRESS}/workflows/code/codebase-to-rn-amr\"\n",
    "response_zip = requests.post(URL, files=file)\n",
    "print(response_zip.json())"
   ]
  }
 ],
 "metadata": {
  "kernelspec": {
   "display_name": "Python 3 (ipykernel)",
   "language": "python",
   "name": "python3"
  },
  "language_info": {
   "codemirror_mode": {
    "name": "ipython",
    "version": 3
   },
   "file_extension": ".py",
   "mimetype": "text/x-python",
   "name": "python",
   "nbconvert_exporter": "python",
   "pygments_lexer": "ipython3",
   "version": "3.8.17"
  }
 },
 "nbformat": 4,
 "nbformat_minor": 5
}
