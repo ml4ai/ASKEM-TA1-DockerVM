{
 "cells": [
  {
   "cell_type": "code",
   "execution_count": null,
   "id": "b26378b9",
   "metadata": {},
   "outputs": [],
   "source": [
    "from IPython.display import display, HTML, Image\n",
    "from pathlib import Path\n",
    "import requests\n",
    "import json\n",
    "import os\n",
    "\n",
    "pp = lambda x: print(json.dumps(x, indent=2))\n",
    "\n",
    "\n",
    "SKEMA_ADDRESS = os.environ.get(\"SKEMA_ADDRESS\", \"https://api.askem.lum.ai\")"
   ]
  },
  {
   "attachments": {},
   "cell_type": "markdown",
   "id": "fe81a216",
   "metadata": {},
   "source": [
    "## LaTeX equations $\\rightarrow$ AMR\n"
   ]
  },
  {
   "cell_type": "code",
   "execution_count": null,
   "id": "485aca70",
   "metadata": {},
   "outputs": [],
   "source": [
    "# generate pMML for LaTeX equations\n",
    "# NOTE: in Python, a literal backslash is represented as \\\\\n",
    "tex_equations = [\"\\\\frac{dS}{dt} = -\\\\beta I \\\\frac{S}{N}\",\n",
    "    \"\\\\frac{dE}{dt} = \\\\beta I \\\\frac{S}{N} - r_{ei}E\",\n",
    "    \"\\\\frac{dI}{dt} = r_{ei}E - r_{ir}p_{ir}I - r_{ih}p_{ih}I\",\n",
    "    \"\\\\frac{dH}{dt} = r_{ih}p_{ih}I - r_{hr}p_{hr}H - r_{hd}p_{hd}H\",\n",
    "    \"\\\\frac{dR}{dt} = r_{ir}p_{ir}I + r_{hr}p_{hr}H\",\n",
    "    \"\\\\frac{dD}{dt} = r_{hd}p_{hd}H\"]\n",
    "\n",
    "mml = requests.post(f\"{SKEMA_ADDRESS}/workflows/latex/equations-to-amr\", json={\"equations\": tex_equations, \"model\": \"petrinet\"})\n",
    "print(mml.json())"
   ]
  },
  {
   "attachments": {},
   "cell_type": "markdown",
   "id": "f48c2620",
   "metadata": {},
   "source": [
    "## equations (PNG images) $\\rightarrow$ AMR"
   ]
  },
  {
   "attachments": {},
   "cell_type": "markdown",
   "id": "d8c97cfc",
   "metadata": {},
   "source": [
    "First, we'll convert our equation images to pMML:"
   ]
  },
  {
   "cell_type": "code",
   "execution_count": null,
   "id": "944f386d",
   "metadata": {},
   "outputs": [],
   "source": [
    "eq_1_path = Path(\"/data\") / \"skema\" / \"images\" / \"lotka-volterra-eq-1.png\"\n",
    "eq_2_path = Path(\"/data\") / \"skema\" / \"images\" / \"lotka-volterra-eq-2.png\"\n",
    "\n",
    "display(Image(filename=eq_1_path))\n",
    "\n",
    "display(Image(filename=eq_2_path))"
   ]
  },
  {
   "cell_type": "code",
   "execution_count": null,
   "id": "857f0402",
   "metadata": {},
   "outputs": [],
   "source": [
    "import base64\n",
    "\n",
    "images_bytes = [open(eq_1_path, \"rb\").read(), open(eq_2_path, \"rb\").read()]\n",
    "\n",
    "images_b64 = [base64.b64encode(img_bytes).decode(\"utf-8\") for img_bytes in images_bytes]\n",
    "\n",
    "payload = { \"images\": images_b64, \"model\": \"regnet\" }\n",
    "\n",
    "r = requests.post(f\"{SKEMA_ADDRESS}/workflows/images/base64/equations-to-amr\", json=payload)\n",
    "print(r.json())"
   ]
  }
 ],
 "metadata": {
  "kernelspec": {
   "display_name": "Python 3 (ipykernel)",
   "language": "python",
   "name": "python3"
  },
  "language_info": {
   "codemirror_mode": {
    "name": "ipython",
    "version": 3
   },
   "file_extension": ".py",
   "mimetype": "text/x-python",
   "name": "python",
   "nbconvert_exporter": "python",
   "pygments_lexer": "ipython3",
   "version": "3.8.17"
  }
 },
 "nbformat": 4,
 "nbformat_minor": 5
}
