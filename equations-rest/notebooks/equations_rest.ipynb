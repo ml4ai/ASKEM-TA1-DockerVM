{
 "cells": [
  {
   "cell_type": "markdown",
   "id": "2c62085a",
   "metadata": {},
   "source": [
    "# Equation services #\n",
    "- Host = http://127.0.0.1\n",
    "- img2mml port = 8020\n",
    "- latex2mml port = 8030\n",
    "- mathjax port = 8031"
   ]
  },
  {
   "cell_type": "code",
   "execution_count": 4,
   "id": "a6443b0c",
   "metadata": {
    "scrolled": true
   },
   "outputs": [
    {
     "name": "stdout",
     "output_type": "stream",
     "text": [
      "Pulling img2mml   ... \n",
      "Pulling latex2mml ... \n",
      "\u001b[2Bing img2mml   ... \u001b[32mdone\u001b[0m is up to date for l...\u001b[33mWARNING\u001b[0m: Found orphan containers (7c91c3d7de19_mathjax, mathjax) for this project. If you removed or renamed this service in your compose file, you can run this command with the --remove-orphans flag to clean it up.\n",
      "img2mml is up-to-date\n",
      "latex2mml is up-to-date\n"
     ]
    }
   ],
   "source": [
    "!docker-compose pull && docker-compose up -d"
   ]
  },
  {
   "cell_type": "code",
   "execution_count": 5,
   "id": "1e6fc894",
   "metadata": {
    "scrolled": true
   },
   "outputs": [
    {
     "name": "stdout",
     "output_type": "stream",
     "text": [
      "\"The latex2mml service is running.\""
     ]
    }
   ],
   "source": [
    "!curl http://127.0.0.1:8030/ping"
   ]
  },
  {
   "cell_type": "code",
   "execution_count": 7,
   "id": "d96aac74",
   "metadata": {},
   "outputs": [
    {
     "name": "stdout",
     "output_type": "stream",
     "text": [
      "\"The img2mml service is running.\""
     ]
    }
   ],
   "source": [
    "!curl http://127.0.0.1:8020/ping"
   ]
  },
  {
   "cell_type": "code",
   "execution_count": null,
   "id": "3352a19b",
   "metadata": {},
   "outputs": [],
   "source": []
  }
 ],
 "metadata": {
  "kernelspec": {
   "display_name": "Python 3 (ipykernel)",
   "language": "python",
   "name": "python3"
  },
  "language_info": {
   "codemirror_mode": {
    "name": "ipython",
    "version": 3
   },
   "file_extension": ".py",
   "mimetype": "text/x-python",
   "name": "python",
   "nbconvert_exporter": "python",
   "pygments_lexer": "ipython3",
   "version": "3.8.10"
  }
 },
 "nbformat": 4,
 "nbformat_minor": 5
}
