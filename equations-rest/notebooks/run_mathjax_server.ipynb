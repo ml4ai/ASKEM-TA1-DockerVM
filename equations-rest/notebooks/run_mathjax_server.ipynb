{
 "cells": [
  {
   "cell_type": "markdown",
   "id": "2c62085a",
   "metadata": {},
   "source": [
    "# Equation services #\n",
    "- Host = http://127.0.0.1\n",
    "- img2mml port = 8020\n",
    "- latex2mml port = 8030\n",
    "- mathjax port = 8031"
   ]
  },
  {
   "cell_type": "markdown",
   "id": "d0d37af1",
   "metadata": {},
   "source": [
    "Running the mathjax server as a blocking process:"
   ]
  },
  {
   "cell_type": "code",
   "execution_count": null,
   "id": "c84d59b5",
   "metadata": {},
   "outputs": [
    {
     "name": "stdout",
     "output_type": "stream",
     "text": [
      "MathJax server listening at http://localhost:8031\r\n"
     ]
    }
   ],
   "source": [
    "!node ../../../skema/skema/img2mml/data_generation/mathjax_server.js\n"
   ]
  }
 ],
 "metadata": {
  "kernelspec": {
   "display_name": "Python 3 (ipykernel)",
   "language": "python",
   "name": "python3"
  },
  "language_info": {
   "codemirror_mode": {
    "name": "ipython",
    "version": 3
   },
   "file_extension": ".py",
   "mimetype": "text/x-python",
   "name": "python",
   "nbconvert_exporter": "python",
   "pygments_lexer": "ipython3",
   "version": "3.8.10"
  }
 },
 "nbformat": 4,
 "nbformat_minor": 5
}
